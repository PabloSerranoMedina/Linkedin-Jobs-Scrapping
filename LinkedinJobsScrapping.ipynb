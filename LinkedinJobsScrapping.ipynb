{
 "cells": [
  {
   "cell_type": "markdown",
   "metadata": {},
   "source": [
    "# **Linkedin Jobs Scrapping**\n",
    "In this project, I will conduct a web scraping data analysis to automatically extract job posting data from a job posting site. The goal is to be more prepared to land my first job as a intern in the data world. \n",
    "\n",
    "I want to see the location of the internship jobs and the requirements. Sadly, in Europe is not common to publish salary data, but I will also check the salaries of my -hopefully- first junior position. \n",
    "\n",
    "To achieve this, I will set up the environment, identify the job posting site, scrape the data, process, analyze, and visualize the data.\n",
    "\n",
    "Let's do it!"
   ]
  },
  {
   "cell_type": "markdown",
   "metadata": {},
   "source": [
    "### Step 1: Understanding the LinkedIn Jobs Search Page\n",
    "\n",
    "A quick inspection to the search page throws at us certain inconveniences:\n",
    "- The list of jobs are in individual cards with little information: company name, job name, location, and some extra info, like job id and link to the job post. So not everything is in one page.\n",
    "- It has **lazy load**. LinkedIn only loads the first 35 jobs at first. You need to scroll to the bottom of the page to load the next 25 jobs. \n",
    "- After 5 times lazyloading, a **'see more jobs'** button will pop up. \n",
    "\n",
    "Let's first solve the last two problems. **How can I load all the jobs in a search?**"
   ]
  },
  {
   "cell_type": "markdown",
   "metadata": {},
   "source": [
    "### Step 2: Scroll down and click with Selenium\n",
    "\n",
    "**Selenium** is a python library that automates browsers. So, basically, it will open a chrome tab and scroll down and click in the 'see more jobs' button for us.  "
   ]
  },
  {
   "cell_type": "code",
   "execution_count": 2,
   "metadata": {},
   "outputs": [],
   "source": [
    "#Import Packages\n",
    "from selenium import webdriver\n",
    "import time\n",
    "import pandas as pd\n",
    "import os\n",
    "\n",
    "from selenium.webdriver.support.select import Select\n",
    "from selenium.webdriver.support.ui import WebDriverWait\n",
    "from selenium.webdriver.common.by import By\n",
    "from selenium.webdriver.support import expected_conditions as EC\n",
    "from selenium.webdriver.chrome.service import Service"
   ]
  },
  {
   "cell_type": "code",
   "execution_count": 3,
   "metadata": {},
   "outputs": [],
   "source": [
    "#This code below opens a chrome window in the referenced url\n",
    "#Setting webdriver \n",
    "service = Service(executable_path=r'D:\\\\DATA\\\\Projects\\\\Linkedin-Jobs-Scrapping\\\\chromedriver-win64\\\\chromedriver.exe')\n",
    "driver = webdriver.Chrome(service=service)\n",
    "#The url we want to open. Later in the process we will make this url dynamic. \n",
    "url1 = 'https://www.linkedin.com/jobs/search/?keywords=Data&location=Spain&geoId=105646813&f_TPR=&f_E=1&position=1'\n",
    "driver.get(url1) #open the job search page\n",
    "driver.implicitly_wait(10) #for safety, wait 10 segs to give time to load completely "
   ]
  },
  {
   "cell_type": "code",
   "execution_count": 24,
   "metadata": {},
   "outputs": [
    {
     "data": {
      "text/plain": [
       "612"
      ]
     },
     "execution_count": 24,
     "metadata": {},
     "output_type": "execute_result"
    }
   ],
   "source": [
    "#Find number of jobs in the search\n",
    "\n",
    "n = driver.find_element(By.CLASS_NAME, 'results-context-header__job-count').text\n",
    "#Because LinkedIn writes '+17,700', we have to deal with any symbols to convert the number to an int.\n",
    "n = n.rstrip(\"+\")\n",
    "n = int(n.replace(\",\", \"\"))\n",
    "y=pd.to_numeric(n)\n",
    "y"
   ]
  },
  {
   "cell_type": "code",
   "execution_count": 25,
   "metadata": {},
   "outputs": [
    {
     "name": "stdout",
     "output_type": "stream",
     "text": [
      "number of jobs: 60\n",
      "number of jobs: 85\n",
      "number of jobs: 110\n",
      "number of jobs: 135\n",
      "number of jobs: 160\n",
      "number of jobs: 185\n",
      "number of jobs: 210\n",
      "number of jobs: 235\n",
      "number of jobs: 260\n",
      "number of jobs: 285\n",
      "number of jobs: 310\n",
      "number of jobs: 335\n",
      "number of jobs: 360\n",
      "number of jobs: 385\n",
      "number of jobs: 410\n",
      "number of jobs: 435\n",
      "number of jobs: 460\n",
      "number of jobs: 485\n",
      "number of jobs: 510\n",
      "number of jobs: 535\n",
      "number of jobs: 560\n",
      "number of jobs: 585\n",
      "number of jobs: 610\n",
      "number of jobs: 635\n",
      "number of jobs: 660\n",
      "number of jobs: 685\n",
      "number of jobs: 710\n"
     ]
    }
   ],
   "source": [
    "#Scrolling down and loading all jobs \n",
    "i = 0\n",
    "while i <= int((y+35+25)/25): \n",
    "    driver.execute_script(\"window.scrollTo(0, document.body.scrollHeight);\")\n",
    "    i = i + 1\n",
    "    print('number of jobs:', 35+i*25)\n",
    "    \n",
    "    try:\n",
    "        driver.find_element(By.XPATH,'//*[@id=\"main-content\"]/section[2]/button').click()\n",
    "        time.sleep(1)\n",
    "            \n",
    "    except:\n",
    "        pass\n",
    "        time.sleep(2)\n",
    "         "
   ]
  },
  {
   "cell_type": "markdown",
   "metadata": {},
   "source": [
    "###  Step 3: Extracting the data from the job list\n",
    "\n",
    "Now that we have all the job cards loaded. Let's get their info! "
   ]
  },
  {
   "cell_type": "code",
   "execution_count": 10,
   "metadata": {},
   "outputs": [],
   "source": [
    "#Let's initiate some lists\n",
    "CompanyName = []\n",
    "JobTitle= []"
   ]
  },
  {
   "cell_type": "code",
   "execution_count": 26,
   "metadata": {},
   "outputs": [
    {
     "data": {
      "text/plain": [
       "'Emerald Stay® (A certified B Corp)'"
      ]
     },
     "execution_count": 26,
     "metadata": {},
     "output_type": "execute_result"
    }
   ],
   "source": [
    "#testing the code\n",
    "driver.find_elements(By.CLASS_NAME, 'base-search-card__subtitle')[116].text"
   ]
  },
  {
   "cell_type": "code",
   "execution_count": 27,
   "metadata": {},
   "outputs": [
    {
     "ename": "IndexError",
     "evalue": "list index out of range",
     "output_type": "error",
     "traceback": [
      "\u001b[1;31m---------------------------------------------------------------------------\u001b[0m",
      "\u001b[1;31mIndexError\u001b[0m                                Traceback (most recent call last)",
      "Cell \u001b[1;32mIn[27], line 3\u001b[0m\n\u001b[0;32m      1\u001b[0m \u001b[38;5;66;03m#Loop to go through all jobs and extract their data\u001b[39;00m\n\u001b[0;32m      2\u001b[0m \u001b[38;5;28;01mfor\u001b[39;00m job \u001b[38;5;129;01min\u001b[39;00m \u001b[38;5;28mrange\u001b[39m(y):\n\u001b[1;32m----> 3\u001b[0m     company \u001b[38;5;241m=\u001b[39m \u001b[43mdriver\u001b[49m\u001b[38;5;241;43m.\u001b[39;49m\u001b[43mfind_elements\u001b[49m\u001b[43m(\u001b[49m\u001b[43mBy\u001b[49m\u001b[38;5;241;43m.\u001b[39;49m\u001b[43mCLASS_NAME\u001b[49m\u001b[43m,\u001b[49m\u001b[43m \u001b[49m\u001b[38;5;124;43m'\u001b[39;49m\u001b[38;5;124;43mbase-search-card__subtitle\u001b[39;49m\u001b[38;5;124;43m'\u001b[39;49m\u001b[43m)\u001b[49m\u001b[43m[\u001b[49m\u001b[43mjob\u001b[49m\u001b[43m]\u001b[49m\u001b[38;5;241m.\u001b[39mtext\n\u001b[0;32m      4\u001b[0m     CompanyName\u001b[38;5;241m.\u001b[39mappend(company)\n\u001b[0;32m      6\u001b[0m CompanyName\n",
      "\u001b[1;31mIndexError\u001b[0m: list index out of range"
     ]
    }
   ],
   "source": [
    "#Loop to go through all jobs and extract their data\n",
    "for job in range(y):\n",
    "    company = driver.find_elements(By.CLASS_NAME, 'base-search-card__subtitle')[job].text\n",
    "    CompanyName.append(company)\n",
    "\n",
    "CompanyName"
   ]
  },
  {
   "cell_type": "markdown",
   "metadata": {},
   "source": [
    "Here, I encountered a `IndexError: list index out of range` all the time. \n",
    "\n",
    "I checked more deeply how linkedIn loads their jobs and how the page look. After several attempts and searches, I figured out that linkedIn never shows the full list of available jobs.\n",
    "\n",
    "If your search job number is an inexact number (+17,000, for example), the page stops loading more jobs after several clicks on the button. \n",
    "\n",
    "If your search is an exact number, you can reach the 'You've viewed all jobs for this search' tag. But it is a bit deceitful. If you inspect their code, the last card is even referenced as the last number of your search. That is, if you had 617 jobs, you will see a div with the class: `data-row=\"610\"`. But actually they had been skipping numbers all the time. So out of a search of 600, they usually show half of them: 300.\n",
    "\n",
    "This could be good enough. But we are learning here. So I decided to try a different method. "
   ]
  },
  {
   "cell_type": "markdown",
   "metadata": {},
   "source": [
    "### Step 2b: using Scrapy + ScrapeOps proxy aggregator [Abandoned]\n",
    "\n",
    "After a good while trying this method to function (https://www.youtube.com/watch?v=d4iz2NrZVRg&ab_channel=ScrapeOps), I gave up. LinkedIn automatically detected those calls and blocked them throwing a 403 error."
   ]
  },
  {
   "cell_type": "markdown",
   "metadata": {},
   "source": [
    "###  Step 3: Extracting the data from the job list (continuation)\n",
    "\n",
    "After some more research, it seems that scraping LinkedIn is quite difficult, and that it might get you banned if they caught you doing it. We will have to admit that try again using selenium. "
   ]
  },
  {
   "cell_type": "code",
   "execution_count": 82,
   "metadata": {},
   "outputs": [],
   "source": [
    "#This code below opens a chrome window in the referenced url\n",
    "#Setting webdriver \n",
    "service = Service(executable_path=r'D:\\\\DATA\\\\Projects\\\\Linkedin-Jobs-Scrapping\\\\chromedriver-win64\\\\chromedriver.exe')\n",
    "driver = webdriver.Chrome(service=service)\n",
    "#The url we want to open. Later in the process we will make this url dynamic. \n",
    "url1 = 'https://www.linkedin.com/jobs/search/?keywords=Data&location=Spain&geoId=105646813&f_TPR=&f_E=1&position=1'\n",
    "driver.get(url1) #open the job search page\n",
    "driver.implicitly_wait(10) #for safety, wait 10 segs to give time to load completely "
   ]
  },
  {
   "cell_type": "code",
   "execution_count": 83,
   "metadata": {},
   "outputs": [],
   "source": [
    "# Scroll down and load all jobs. I changed a bit the loop since we couldn't rely anymore on the n provided by LinkedIn. \n",
    "last_height = driver.execute_script(\"return document.body.scrollHeight\")\n",
    "while True:\n",
    "    driver.execute_script(\"window.scrollTo(0, document.body.scrollHeight);\")\n",
    "    time.sleep(2)  # wait for new jobs to load\n",
    "\n",
    "    try:\n",
    "        # Click the \"See more jobs\" button if it exists\n",
    "        see_more_button = driver.find_element(By.XPATH, '//*[@id=\"main-content\"]/section[2]/button')\n",
    "        see_more_button.click()\n",
    "        time.sleep(2)  # wait for jobs to load after clicking the button\n",
    "    except:\n",
    "        pass\n",
    "\n",
    "    new_height = driver.execute_script(\"return document.body.scrollHeight\")\n",
    "    if new_height == last_height:\n",
    "        break\n",
    "    last_height = new_height"
   ]
  },
  {
   "cell_type": "code",
   "execution_count": 84,
   "metadata": {},
   "outputs": [
    {
     "data": {
      "text/plain": [
       "300"
      ]
     },
     "execution_count": 84,
     "metadata": {},
     "output_type": "execute_result"
    }
   ],
   "source": [
    "# In the same way, we had to find a dynamic way to set the range in which to loop our function. \n",
    "# Let's find how many job cards there are loaded.\n",
    "job_list = driver.find_element(By.CLASS_NAME, 'jobs-search__results-list')\n",
    "job_cards = job_list.find_elements(By.TAG_NAME, 'li')\n",
    "\n",
    "len(job_cards)"
   ]
  },
  {
   "cell_type": "code",
   "execution_count": 86,
   "metadata": {},
   "outputs": [
    {
     "name": "stdout",
     "output_type": "stream",
     "text": [
      "Jobs extracted:  1 https://es.linkedin.com/jobs/view/estudiante-en-pr%C3%A1cticas-dpto-analytics-at-lidl-espa%C3%B1a-3935928546?position=1&pageNum=0&refId=KjaPJCjmja%2FzYS50WtNZsg%3D%3D&trackingId=bdpPcWAknIRBNydxauDnkQ%3D%3D&trk=public_jobs_jserp-result_search-card\n",
      "Jobs extracted:  2 https://es.linkedin.com/jobs/view/ingeniero-a-datos-reci%C3%A9n-graduado-a-at-agbar-3927615443?position=2&pageNum=0&refId=KjaPJCjmja%2FzYS50WtNZsg%3D%3D&trackingId=rPar7DJg6Nz%2F37Nn6ujuSQ%3D%3D&trk=public_jobs_jserp-result_search-card\n",
      "Jobs extracted:  3 https://es.linkedin.com/jobs/view/data-analytics-trainee-at-werfen-3942057392?position=3&pageNum=0&refId=KjaPJCjmja%2FzYS50WtNZsg%3D%3D&trackingId=ufZkBajMqg2sV63zR5iD6g%3D%3D&trk=public_jobs_jserp-result_search-card\n",
      "Jobs extracted:  4 https://es.linkedin.com/jobs/view/beca-en-soluciones-tecnol%C3%B3gicas-at-mapfre-3935067856?position=4&pageNum=0&refId=KjaPJCjmja%2FzYS50WtNZsg%3D%3D&trackingId=%2FR1ewq6tKF3dcBS53sOMeQ%3D%3D&trk=public_jobs_jserp-result_search-card\n",
      "Jobs extracted:  5 https://es.linkedin.com/jobs/view/we-are-looking-for-talent%21-%F0%9F%9A%80-at-haddock-yc-w22-3943748990?position=5&pageNum=0&refId=KjaPJCjmja%2FzYS50WtNZsg%3D%3D&trackingId=McUZS2%2Bq3r%2FgLgOwS%2FH3SA%3D%3D&trk=public_jobs_jserp-result_search-card\n",
      "Jobs extracted:  6 https://es.linkedin.com/jobs/view/data-analyst-trainee-at-eurofragance-slu-3883889072?position=6&pageNum=0&refId=KjaPJCjmja%2FzYS50WtNZsg%3D%3D&trackingId=UJhOsMTDyIxN0Ywo7EJ%2Fpg%3D%3D&trk=public_jobs_jserp-result_search-card\n",
      "Jobs extracted:  7 https://es.linkedin.com/jobs/view/bioinformatics-associate-internship-at-clarivate-3937729452?position=7&pageNum=0&refId=KjaPJCjmja%2FzYS50WtNZsg%3D%3D&trackingId=Xd8drEjVKSzjXS%2Bqlg1r3w%3D%3D&trk=public_jobs_jserp-result_search-card\n",
      "Jobs extracted:  8 https://es.linkedin.com/jobs/view/data-science-trainee-at-novartis-espa%C3%B1a-3912541225?position=8&pageNum=0&refId=KjaPJCjmja%2FzYS50WtNZsg%3D%3D&trackingId=nxBXO0U9xMddmuQDU3CufA%3D%3D&trk=public_jobs_jserp-result_search-card\n",
      "Jobs extracted:  9 https://es.linkedin.com/jobs/view/internship-in-artificial-intelligence-at-molins-3911836171?position=9&pageNum=0&refId=KjaPJCjmja%2FzYS50WtNZsg%3D%3D&trackingId=zc72ANE5SqpRYbR1XlA8hg%3D%3D&trk=public_jobs_jserp-result_search-card\n",
      "Jobs extracted:  10 https://es.linkedin.com/jobs/view/internship-data-science-insights-and-analytics-at-astrazeneca-3941963394?position=10&pageNum=0&refId=KjaPJCjmja%2FzYS50WtNZsg%3D%3D&trackingId=DPaVrF%2F61voHvumOfrqafQ%3D%3D&trk=public_jobs_jserp-result_search-card\n",
      "Jobs extracted:  11 https://es.linkedin.com/jobs/view/beca-data-scientists-h-m-at-northius-3936202258?position=11&pageNum=0&refId=KjaPJCjmja%2FzYS50WtNZsg%3D%3D&trackingId=xhjwWankQDEpfMNT7M%2Fnqw%3D%3D&trk=public_jobs_jserp-result_search-card\n",
      "Jobs extracted:  12 https://es.linkedin.com/jobs/view/business-analyst-generalist-internship-at-bsport-3935041071?position=12&pageNum=0&refId=KjaPJCjmja%2FzYS50WtNZsg%3D%3D&trackingId=R%2BcnSLl2RDtE6vEU%2BI4APw%3D%3D&trk=public_jobs_jserp-result_search-card\n",
      "Jobs extracted:  13 https://es.linkedin.com/jobs/view/pr%C3%A1cticas-data-analyst-at-cognodata-3937006328?position=13&pageNum=0&refId=KjaPJCjmja%2FzYS50WtNZsg%3D%3D&trackingId=Ot2e11foEAe9yOV792PPCA%3D%3D&trk=public_jobs_jserp-result_search-card\n",
      "Jobs extracted:  14 https://es.linkedin.com/jobs/view/beca-en-planificaci%C3%B3n-estrat%C3%A9gica-at-mapfre-3930121617?position=14&pageNum=0&refId=KjaPJCjmja%2FzYS50WtNZsg%3D%3D&trackingId=IiVkHEBTRSzb9VNOne1g4A%3D%3D&trk=public_jobs_jserp-result_search-card\n",
      "Jobs extracted:  15 https://es.linkedin.com/jobs/view/pr%C3%A1cticas-team-risk-ing-at-ing-espa%C3%B1a-portugal-3942687527?position=15&pageNum=0&refId=KjaPJCjmja%2FzYS50WtNZsg%3D%3D&trackingId=O6BiwcQybdvfV5DPUJnHbw%3D%3D&trk=public_jobs_jserp-result_search-card\n",
      "Jobs extracted:  16 https://es.linkedin.com/jobs/view/product-intern-at-clarity-ai-3943500593?position=16&pageNum=0&refId=KjaPJCjmja%2FzYS50WtNZsg%3D%3D&trackingId=RJvjqc8V9RUFyCIH0HtAqQ%3D%3D&trk=public_jobs_jserp-result_search-card\n",
      "Jobs extracted:  17 https://es.linkedin.com/jobs/view/computer-vision-intern-at-qurv-3938663167?position=17&pageNum=0&refId=KjaPJCjmja%2FzYS50WtNZsg%3D%3D&trackingId=xT9w3jUQV17uuWQL0S42qw%3D%3D&trk=public_jobs_jserp-result_search-card\n",
      "Jobs extracted:  18 https://es.linkedin.com/jobs/view/pr%C3%A1cticas-profesionales-data-analyst-allianz-tech-iberolatam-at-allianz-technology-3901104411?position=18&pageNum=0&refId=KjaPJCjmja%2FzYS50WtNZsg%3D%3D&trackingId=DOIn65MFh5XWLZi7C0yj8w%3D%3D&trk=public_jobs_jserp-result_search-card\n",
      "Jobs extracted:  19 https://es.linkedin.com/jobs/view/data-scientist-internship-spain-bcg-x-at-boston-consulting-group-bcg-3936918886?position=19&pageNum=0&refId=KjaPJCjmja%2FzYS50WtNZsg%3D%3D&trackingId=Cr1QddEyby0P0hhvaBah7Q%3D%3D&trk=public_jobs_jserp-result_search-card\n",
      "Jobs extracted:  20 https://es.linkedin.com/jobs/view/pr%C3%A1cticas-datos-barcelona-at-fundaci%C3%B3n-universidad-empresa-3943444557?position=20&pageNum=0&refId=KjaPJCjmja%2FzYS50WtNZsg%3D%3D&trackingId=7lCU5muAly0TjkRZtyVdSQ%3D%3D&trk=public_jobs_jserp-result_search-card\n",
      "Jobs extracted:  21 https://es.linkedin.com/jobs/view/j%C3%B3venes-talentos-anal%C3%ADtica-de-datos-bi-at-llyc-3935081685?position=21&pageNum=0&refId=KjaPJCjmja%2FzYS50WtNZsg%3D%3D&trackingId=daGnDN9e%2Fr83T4oBbQtuqw%3D%3D&trk=public_jobs_jserp-result_search-card\n",
      "Jobs extracted:  22 https://es.linkedin.com/jobs/view/data-scientist-internship-spain-bcg-x-at-boston-consulting-group-bcg-3936920760?position=22&pageNum=0&refId=KjaPJCjmja%2FzYS50WtNZsg%3D%3D&trackingId=3T07LToeomD4HGIN0bqamg%3D%3D&trk=public_jobs_jserp-result_search-card\n",
      "Jobs extracted:  23 https://es.linkedin.com/jobs/view/digital-analytics-trainee-at-incubeta-3801853801?position=23&pageNum=0&refId=KjaPJCjmja%2FzYS50WtNZsg%3D%3D&trackingId=xN%2FVW%2FvFNRZgcBIOFAuAIQ%3D%3D&trk=public_jobs_jserp-result_search-card\n",
      "Jobs extracted:  24 https://es.linkedin.com/jobs/view/intern-marketing-trade-at-revlon-3934403173?position=24&pageNum=0&refId=KjaPJCjmja%2FzYS50WtNZsg%3D%3D&trackingId=RPcEQd6WDj8k6FJnL3uFEQ%3D%3D&trk=public_jobs_jserp-result_search-card\n",
      "Jobs extracted:  25 https://es.linkedin.com/jobs/view/sql-gis-data-intern-at-urban-science-3924594496?position=25&pageNum=0&refId=KjaPJCjmja%2FzYS50WtNZsg%3D%3D&trackingId=BxU3tAjgIkHT5cd%2BT25hWQ%3D%3D&trk=public_jobs_jserp-result_search-card\n",
      "Jobs extracted:  26 https://es.linkedin.com/jobs/view/ra-data-analytics-trainee-at-dsm-firmenich-3931134714?position=26&pageNum=0&refId=KjaPJCjmja%2FzYS50WtNZsg%3D%3D&trackingId=Db6BvKMFj6Tc0YOKvXaYlQ%3D%3D&trk=public_jobs_jserp-result_search-card\n",
      "Jobs extracted:  27 https://es.linkedin.com/jobs/view/financial-analyst-intern-emea-at-mattel-inc-3910064450?position=27&pageNum=0&refId=KjaPJCjmja%2FzYS50WtNZsg%3D%3D&trackingId=ss%2BVpy9NfqtotIbjVPl89w%3D%3D&trk=public_jobs_jserp-result_search-card\n",
      "Jobs extracted:  28 https://es.linkedin.com/jobs/view/corporate-social-responsibility-intern-at-accor-3941117742?position=28&pageNum=0&refId=KjaPJCjmja%2FzYS50WtNZsg%3D%3D&trackingId=xGiEWtfGy5iBFCWy%2BzpDNQ%3D%3D&trk=public_jobs_jserp-result_search-card\n",
      "Jobs extracted:  29 https://es.linkedin.com/jobs/view/business-consulting-internship-barcelona-at-ntt-data-europe-latam-3932138553?position=29&pageNum=0&refId=KjaPJCjmja%2FzYS50WtNZsg%3D%3D&trackingId=8oZWqQwYX7No%2B3W6isJaPA%3D%3D&trk=public_jobs_jserp-result_search-card\n",
      "Jobs extracted:  30 https://es.linkedin.com/jobs/view/data-entry-specialist-internship-at-bsport-3943436516?position=30&pageNum=0&refId=KjaPJCjmja%2FzYS50WtNZsg%3D%3D&trackingId=h6jBD0viH0Ft4RtHHSblYw%3D%3D&trk=public_jobs_jserp-result_search-card\n",
      "Jobs extracted:  31 https://es.linkedin.com/jobs/view/proceso-de-selecci%C3%B3n-cerrado-beca-para-data-analyst-at-eude-business-school-3940375101?position=31&pageNum=0&refId=KjaPJCjmja%2FzYS50WtNZsg%3D%3D&trackingId=JncswEM1rNu355e1JyElHQ%3D%3D&trk=public_jobs_jserp-result_search-card\n",
      "Jobs extracted:  32 https://es.linkedin.com/jobs/view/data-analyst-intern-business-performance-analytics-at-mygwork-lgbtq%2B-business-community-3891216478?position=32&pageNum=0&refId=KjaPJCjmja%2FzYS50WtNZsg%3D%3D&trackingId=EUKZUpZsOh7IXnxkXBw7IA%3D%3D&trk=public_jobs_jserp-result_search-card\n",
      "Jobs extracted:  33 https://es.linkedin.com/jobs/view/strategy-consultant-internship-at-opinno-3936330712?position=33&pageNum=0&refId=KjaPJCjmja%2FzYS50WtNZsg%3D%3D&trackingId=Alt%2FXZvS8vmPh%2BUpoI5yQw%3D%3D&trk=public_jobs_jserp-result_search-card\n",
      "Jobs extracted:  34 https://es.linkedin.com/jobs/view/pr%C3%A1cticas-profesionales-data-governance-at-allianz-espa%C3%B1a-3864222441?position=34&pageNum=0&refId=KjaPJCjmja%2FzYS50WtNZsg%3D%3D&trackingId=6LzJNOSoFmegwHaFSv6jdQ%3D%3D&trk=public_jobs_jserp-result_search-card\n",
      "Jobs extracted:  35 https://es.linkedin.com/jobs/view/aviation-engineer-trainee-madrid-at-ryanair-europe-s-favourite-airline-3901133263?position=35&pageNum=0&refId=KjaPJCjmja%2FzYS50WtNZsg%3D%3D&trackingId=bn%2BIGJo88jlEgH813rnuew%3D%3D&trk=public_jobs_jserp-result_search-card\n",
      "Jobs extracted:  36 https://es.linkedin.com/jobs/view/data-engineer-intern-at-engie-espa%C3%B1a-3928699278?position=36&pageNum=0&refId=KjaPJCjmja%2FzYS50WtNZsg%3D%3D&trackingId=dxFsp0Tvk3OVqYwcdqdu6g%3D%3D&trk=public_jobs_jserp-result_search-card\n",
      "Jobs extracted:  37 https://es.linkedin.com/jobs/view/pr%C3%A1cticas-desarrollo-e-integraci%C3%B3n-de-ia-espa%C3%B1a-remoto-at-hellomrlead-3932330652?position=37&pageNum=0&refId=KjaPJCjmja%2FzYS50WtNZsg%3D%3D&trackingId=feBWYnaGoRSEhHlfsiLiEA%3D%3D&trk=public_jobs_jserp-result_search-card\n",
      "Jobs extracted:  38 https://es.linkedin.com/jobs/view/business-analyst-generalist-internship-at-bsport-3935036615?position=38&pageNum=0&refId=KjaPJCjmja%2FzYS50WtNZsg%3D%3D&trackingId=y0cxh8hmPvfDlYNp8rPpbw%3D%3D&trk=public_jobs_jserp-result_search-card\n",
      "Jobs extracted:  39 https://es.linkedin.com/jobs/view/market-intelligence-partner-success-internship-at-astara-connect-3930825370?position=39&pageNum=0&refId=KjaPJCjmja%2FzYS50WtNZsg%3D%3D&trackingId=hwet6PIeTqSyheR8TSsgEw%3D%3D&trk=public_jobs_jserp-result_search-card\n",
      "Jobs extracted:  40 https://es.linkedin.com/jobs/view/operations-intern-at-fever-3934479706?position=40&pageNum=0&refId=KjaPJCjmja%2FzYS50WtNZsg%3D%3D&trackingId=3R5QVE%2BNuqB37YfuRjWWrw%3D%3D&trk=public_jobs_jserp-result_search-card\n",
      "Jobs extracted:  41 https://es.linkedin.com/jobs/view/front-office-risk-analyst-intern-at-engie-espa%C3%B1a-3929002748?position=41&pageNum=0&refId=KjaPJCjmja%2FzYS50WtNZsg%3D%3D&trackingId=2j0WOxgdoxsVJnfAYsngdA%3D%3D&trk=public_jobs_jserp-result_search-card\n",
      "Jobs extracted:  42 https://es.linkedin.com/jobs/view/life-science-consultant-internship-at-kvalito-consulting-group-3940152674?position=42&pageNum=0&refId=KjaPJCjmja%2FzYS50WtNZsg%3D%3D&trackingId=%2BpPKgmcijwRj8SASE6o6Eg%3D%3D&trk=public_jobs_jserp-result_search-card\n",
      "Jobs extracted:  43 https://es.linkedin.com/jobs/view/%C2%A1%C3%BAnete-al-strategy-horizon-program%21-at-deloitte-3919845692?position=43&pageNum=0&refId=KjaPJCjmja%2FzYS50WtNZsg%3D%3D&trackingId=IxLXo2QqWyHpBQVgGLbJ3w%3D%3D&trk=public_jobs_jserp-result_search-card\n",
      "Jobs extracted:  44 https://es.linkedin.com/jobs/view/cybersecurity-intern-at-capgemini-invent-3942644403?position=44&pageNum=0&refId=KjaPJCjmja%2FzYS50WtNZsg%3D%3D&trackingId=wZHyz%2BDjeZgiSqUW4OPonQ%3D%3D&trk=public_jobs_jserp-result_search-card\n",
      "Jobs extracted:  45 https://es.linkedin.com/jobs/view/ai-engineer-internship-spain-bcg-x-at-boston-consulting-group-bcg-3936920684?position=45&pageNum=0&refId=KjaPJCjmja%2FzYS50WtNZsg%3D%3D&trackingId=N%2ByvnlGuBikTxq03%2BCflfA%3D%3D&trk=public_jobs_jserp-result_search-card\n",
      "Jobs extracted:  46 https://es.linkedin.com/jobs/view/spain-marketing-intern-at-xiaomi-technology-3927672026?position=46&pageNum=0&refId=KjaPJCjmja%2FzYS50WtNZsg%3D%3D&trackingId=OpdI9eOQpwAfNItt1rl%2Fyw%3D%3D&trk=public_jobs_jserp-result_search-card\n",
      "Jobs extracted:  47 https://es.linkedin.com/jobs/view/quality-assurance-internship-at-galenicum-3931265146?position=47&pageNum=0&refId=KjaPJCjmja%2FzYS50WtNZsg%3D%3D&trackingId=zRxCGEy2447PkUpxGWK7Lg%3D%3D&trk=public_jobs_jserp-result_search-card\n",
      "Jobs extracted:  48 https://es.linkedin.com/jobs/view/becas-de-excelencia-engineering-at-fever-3673087686?position=48&pageNum=0&refId=KjaPJCjmja%2FzYS50WtNZsg%3D%3D&trackingId=rADt2354YIcIdWL9qDA1cA%3D%3D&trk=public_jobs_jserp-result_search-card\n",
      "Jobs extracted:  49 https://es.linkedin.com/jobs/view/data-management-internship-at-technip-energies-3904836014?position=49&pageNum=0&refId=KjaPJCjmja%2FzYS50WtNZsg%3D%3D&trackingId=NS%2FSw7NkQ%2BO%2BoAO7zal7Qw%3D%3D&trk=public_jobs_jserp-result_search-card\n",
      "Jobs extracted:  50 https://es.linkedin.com/jobs/view/merchandising-internship-emea-at-loewe-3931123810?position=50&pageNum=0&refId=KjaPJCjmja%2FzYS50WtNZsg%3D%3D&trackingId=E4iq6gDPbtfyQ%2Fw9xN0bWQ%3D%3D&trk=public_jobs_jserp-result_search-card\n",
      "Jobs extracted:  51 https://es.linkedin.com/jobs/view/pr%C3%A1cticas-en-data-science-analytics-setp24-at-schneider-electric-3921393062?position=51&pageNum=0&refId=KjaPJCjmja%2FzYS50WtNZsg%3D%3D&trackingId=bN2P4RKPnvz94njC82lsfA%3D%3D&trk=public_jobs_jserp-result_search-card\n",
      "Jobs extracted:  52 https://es.linkedin.com/jobs/view/digital-business-trainee-at-publicis-media-3924966305?position=52&pageNum=0&refId=KjaPJCjmja%2FzYS50WtNZsg%3D%3D&trackingId=DRfqeMkhljRuuDU3PPtC2g%3D%3D&trk=public_jobs_jserp-result_search-card\n",
      "Jobs extracted:  53 https://es.linkedin.com/jobs/view/internship-artificial-intelligence-for-medical-imaging-at-gmv-3930134049?position=53&pageNum=0&refId=KjaPJCjmja%2FzYS50WtNZsg%3D%3D&trackingId=NceGL8ltFG4UY7jqG2U%2F1A%3D%3D&trk=public_jobs_jserp-result_search-card\n",
      "Jobs extracted:  54 https://es.linkedin.com/jobs/view/pr%C3%A1cticas-data-engineer-at-grupo-planeta-3928023701?position=54&pageNum=0&refId=KjaPJCjmja%2FzYS50WtNZsg%3D%3D&trackingId=IShBrUXGak8hFZaLgFZ7cA%3D%3D&trk=public_jobs_jserp-result_search-card\n",
      "Jobs extracted:  55 https://es.linkedin.com/jobs/view/financial-operations-internship-at-engie-espa%C3%B1a-3932905798?position=55&pageNum=0&refId=KjaPJCjmja%2FzYS50WtNZsg%3D%3D&trackingId=DnT9X9hppCBpKEgTfnq82w%3D%3D&trk=public_jobs_jserp-result_search-card\n",
      "Jobs extracted:  56 https://es.linkedin.com/jobs/view/supply-chain-graduate-intern-at-beiersdorf-3940359213?position=56&pageNum=0&refId=KjaPJCjmja%2FzYS50WtNZsg%3D%3D&trackingId=91fkvbA%2BId9deJ9MEQUTQQ%3D%3D&trk=public_jobs_jserp-result_search-card\n",
      "Jobs extracted:  57 https://es.linkedin.com/jobs/view/graphic-designer-6-months-internship-at-teads-3916786025?position=57&pageNum=0&refId=KjaPJCjmja%2FzYS50WtNZsg%3D%3D&trackingId=8mksDwQ2uG%2FdSYQWorz8ew%3D%3D&trk=public_jobs_jserp-result_search-card\n",
      "Jobs extracted:  58 https://es.linkedin.com/jobs/view/bi-analyst-intern-at-criteo-3933725160?position=58&pageNum=0&refId=KjaPJCjmja%2FzYS50WtNZsg%3D%3D&trackingId=OCcGWKp2cs8yErs8dsBUmw%3D%3D&trk=public_jobs_jserp-result_search-card\n",
      "Jobs extracted:  59 https://es.linkedin.com/jobs/view/business-analyst-intern-at-mygwork-lgbtq%2B-business-community-3852324110?position=59&pageNum=0&refId=KjaPJCjmja%2FzYS50WtNZsg%3D%3D&trackingId=OUygQbu%2FqjqQV%2F8k2ogaJA%3D%3D&trk=public_jobs_jserp-result_search-card\n",
      "Jobs extracted:  60 https://es.linkedin.com/jobs/view/paid-700%E2%82%AC-month-english-market-research-internship-in-madrid-spain-at-spain-internship-3918614893?position=60&pageNum=0&refId=KjaPJCjmja%2FzYS50WtNZsg%3D%3D&trackingId=nOCVGFuK%2Bqu62pCj2z%2Brow%3D%3D&trk=public_jobs_jserp-result_search-card\n",
      "Jobs extracted:  61 https://es.linkedin.com/jobs/view/ra-data-analytics-trainee-at-dsm-firmenich-3931134714?position=1&pageNum=2&refId=cIn8FEclXXJ%2F%2B7IOMEN%2B3g%3D%3D&trackingId=MXJpH0Vb%2FdgQd69plHtQQA%3D%3D&trk=public_jobs_jserp-result_search-card\n",
      "Jobs extracted:  62 https://es.linkedin.com/jobs/view/financial-analyst-intern-emea-at-mattel-inc-3910064450?position=2&pageNum=2&refId=cIn8FEclXXJ%2F%2B7IOMEN%2B3g%3D%3D&trackingId=Kg0zWJpCK9HQm3RHNIPJmg%3D%3D&trk=public_jobs_jserp-result_search-card\n",
      "Jobs extracted:  63 https://es.linkedin.com/jobs/view/corporate-social-responsibility-intern-at-accor-3941117742?position=3&pageNum=2&refId=cIn8FEclXXJ%2F%2B7IOMEN%2B3g%3D%3D&trackingId=XsSzeYSixqslihn9eRP6Cw%3D%3D&trk=public_jobs_jserp-result_search-card\n",
      "Jobs extracted:  64 https://es.linkedin.com/jobs/view/business-consulting-internship-barcelona-at-ntt-data-europe-latam-3932138553?position=4&pageNum=2&refId=cIn8FEclXXJ%2F%2B7IOMEN%2B3g%3D%3D&trackingId=p3eTlVQR5SDI0WQaMq2L7Q%3D%3D&trk=public_jobs_jserp-result_search-card\n",
      "Jobs extracted:  65 https://es.linkedin.com/jobs/view/data-entry-specialist-internship-at-bsport-3943436516?position=5&pageNum=2&refId=cIn8FEclXXJ%2F%2B7IOMEN%2B3g%3D%3D&trackingId=7ekU9w2xd6PVRkrqxMgVnA%3D%3D&trk=public_jobs_jserp-result_search-card\n",
      "Jobs extracted:  66 https://es.linkedin.com/jobs/view/proceso-de-selecci%C3%B3n-cerrado-beca-para-data-analyst-at-eude-business-school-3940375101?position=6&pageNum=2&refId=cIn8FEclXXJ%2F%2B7IOMEN%2B3g%3D%3D&trackingId=ynISR2gKmhaGHya6iW27nw%3D%3D&trk=public_jobs_jserp-result_search-card\n",
      "Jobs extracted:  67 https://es.linkedin.com/jobs/view/data-analyst-intern-business-performance-analytics-at-mygwork-lgbtq%2B-business-community-3891216478?position=7&pageNum=2&refId=cIn8FEclXXJ%2F%2B7IOMEN%2B3g%3D%3D&trackingId=gXhbTsJ%2FQEuGWvC6wgVWyg%3D%3D&trk=public_jobs_jserp-result_search-card\n",
      "Jobs extracted:  68 https://es.linkedin.com/jobs/view/strategy-consultant-internship-at-opinno-3936330712?position=8&pageNum=2&refId=cIn8FEclXXJ%2F%2B7IOMEN%2B3g%3D%3D&trackingId=8LrblluT0xF82tAc%2Fj4GUw%3D%3D&trk=public_jobs_jserp-result_search-card\n",
      "Jobs extracted:  69 https://es.linkedin.com/jobs/view/pr%C3%A1cticas-profesionales-data-governance-at-allianz-espa%C3%B1a-3864222441?position=9&pageNum=2&refId=cIn8FEclXXJ%2F%2B7IOMEN%2B3g%3D%3D&trackingId=Ae083Ep8%2FYR8ftOL16rqAw%3D%3D&trk=public_jobs_jserp-result_search-card\n",
      "Jobs extracted:  70 https://es.linkedin.com/jobs/view/aviation-engineer-trainee-madrid-at-ryanair-europe-s-favourite-airline-3901133263?position=10&pageNum=2&refId=cIn8FEclXXJ%2F%2B7IOMEN%2B3g%3D%3D&trackingId=mm%2BoHnz5WBPQkx5du0AoaQ%3D%3D&trk=public_jobs_jserp-result_search-card\n",
      "Jobs extracted:  71 https://es.linkedin.com/jobs/view/pr%C3%A1cticas-en-data-science-analytics-setp24-at-schneider-electric-3921393062?position=1&pageNum=5&refId=WJnL%2BKx2Hq1avLK1VynvgQ%3D%3D&trackingId=cVr4gCywNcWv4vU8a7NP9g%3D%3D&trk=public_jobs_jserp-result_search-card\n",
      "Jobs extracted:  72 https://es.linkedin.com/jobs/view/digital-business-trainee-at-publicis-media-3924966305?position=2&pageNum=5&refId=WJnL%2BKx2Hq1avLK1VynvgQ%3D%3D&trackingId=qess7r73Qdcgnw59YEddTg%3D%3D&trk=public_jobs_jserp-result_search-card\n",
      "Jobs extracted:  73 https://es.linkedin.com/jobs/view/internship-artificial-intelligence-for-medical-imaging-at-gmv-3930134049?position=3&pageNum=5&refId=WJnL%2BKx2Hq1avLK1VynvgQ%3D%3D&trackingId=VHCbASKqy6%2BpsF2m0Gmcmg%3D%3D&trk=public_jobs_jserp-result_search-card\n",
      "Jobs extracted:  74 https://es.linkedin.com/jobs/view/pr%C3%A1cticas-data-engineer-at-grupo-planeta-3928023701?position=4&pageNum=5&refId=WJnL%2BKx2Hq1avLK1VynvgQ%3D%3D&trackingId=OukyYUkS1uPNxCKewlht%2FQ%3D%3D&trk=public_jobs_jserp-result_search-card\n",
      "Jobs extracted:  75 https://es.linkedin.com/jobs/view/financial-operations-internship-at-engie-espa%C3%B1a-3932905798?position=5&pageNum=5&refId=WJnL%2BKx2Hq1avLK1VynvgQ%3D%3D&trackingId=tAmmUyXa43l4UVjspQ8r8A%3D%3D&trk=public_jobs_jserp-result_search-card\n",
      "Jobs extracted:  76 https://es.linkedin.com/jobs/view/supply-chain-graduate-intern-at-beiersdorf-3940359213?position=6&pageNum=5&refId=WJnL%2BKx2Hq1avLK1VynvgQ%3D%3D&trackingId=CGF5WgBYxb8Cy7IuusyMlw%3D%3D&trk=public_jobs_jserp-result_search-card\n",
      "Jobs extracted:  77 https://es.linkedin.com/jobs/view/graphic-designer-6-months-internship-at-teads-3916786025?position=7&pageNum=5&refId=WJnL%2BKx2Hq1avLK1VynvgQ%3D%3D&trackingId=R3075JVW4UTA6knJ8GvC%2Fw%3D%3D&trk=public_jobs_jserp-result_search-card\n",
      "Jobs extracted:  78 https://es.linkedin.com/jobs/view/bi-analyst-intern-at-criteo-3933725160?position=8&pageNum=5&refId=WJnL%2BKx2Hq1avLK1VynvgQ%3D%3D&trackingId=2Yhv4WdnzTWMd5Wvx2AO1g%3D%3D&trk=public_jobs_jserp-result_search-card\n",
      "Jobs extracted:  79 https://es.linkedin.com/jobs/view/business-analyst-intern-at-mygwork-lgbtq%2B-business-community-3852324110?position=9&pageNum=5&refId=WJnL%2BKx2Hq1avLK1VynvgQ%3D%3D&trackingId=7vLPVMVFFZ6i%2FXQ2P3BIxg%3D%3D&trk=public_jobs_jserp-result_search-card\n",
      "Jobs extracted:  80 https://es.linkedin.com/jobs/view/paid-700%E2%82%AC-month-english-market-research-internship-in-madrid-spain-at-spain-internship-3918614893?position=10&pageNum=5&refId=WJnL%2BKx2Hq1avLK1VynvgQ%3D%3D&trackingId=Yc6ob%2Bk7uYfXy4S9vC%2BUhQ%3D%3D&trk=public_jobs_jserp-result_search-card\n",
      "Jobs extracted:  81 https://es.linkedin.com/jobs/view/power-bi-intern-at-nordex-energy-brasil-3926361327?position=1&pageNum=7&refId=8l1VXpJg7Pk%2FMnw7fM21rA%3D%3D&trackingId=CKJb%2B8lr2zRzhwKFK6EIbA%3D%3D&trk=public_jobs_jserp-result_search-card\n",
      "Jobs extracted:  82 https://es.linkedin.com/jobs/view/bank-operations-intern-at-kantox-3925207446?position=2&pageNum=7&refId=8l1VXpJg7Pk%2FMnw7fM21rA%3D%3D&trackingId=P11uAemwElx72e%2BiBIW4iA%3D%3D&trk=public_jobs_jserp-result_search-card\n",
      "Jobs extracted:  83 https://es.linkedin.com/jobs/view/becas-tic-inform%C3%A1tica-telecomunicaciones-matem%C3%A1ticas-at-ntt-data-europe-latam-3938643835?position=3&pageNum=7&refId=8l1VXpJg7Pk%2FMnw7fM21rA%3D%3D&trackingId=%2Bi6rNAdE0lnOtwT5L7ZbkA%3D%3D&trk=public_jobs_jserp-result_search-card\n",
      "Jobs extracted:  84 https://es.linkedin.com/jobs/view/predoctoral-position-at-universidad-de-alcal%C3%A1-3933824681?position=4&pageNum=7&refId=8l1VXpJg7Pk%2FMnw7fM21rA%3D%3D&trackingId=2INLv4p0QpNA725WajLUvw%3D%3D&trk=public_jobs_jserp-result_search-card\n",
      "Jobs extracted:  85 https://es.linkedin.com/jobs/view/master-data-trainee-m-f-d-at-nordex-energy-brasil-3916790621?position=5&pageNum=7&refId=8l1VXpJg7Pk%2FMnw7fM21rA%3D%3D&trackingId=UNkmos3axuVCFGIQUNcSGQ%3D%3D&trk=public_jobs_jserp-result_search-card\n",
      "Jobs extracted:  86 https://es.linkedin.com/jobs/view/investment-banking-internship-barcelona-at-into-city-prep-3939696082?position=6&pageNum=7&refId=8l1VXpJg7Pk%2FMnw7fM21rA%3D%3D&trackingId=h0xJkNZya1Fg%2BoaU%2FkNb4Q%3D%3D&trk=public_jobs_jserp-result_search-card\n",
      "Jobs extracted:  87 https://es.linkedin.com/jobs/view/sales-operations-specialist-internship-at-bsport-3935043016?position=7&pageNum=7&refId=8l1VXpJg7Pk%2FMnw7fM21rA%3D%3D&trackingId=xFEmrU4Ay4M7ZOdQzabH3g%3D%3D&trk=public_jobs_jserp-result_search-card\n",
      "Jobs extracted:  88 https://es.linkedin.com/jobs/view/english-market-research-internship-in-seville-at-spain-internship-3918617704?position=8&pageNum=7&refId=8l1VXpJg7Pk%2FMnw7fM21rA%3D%3D&trackingId=Lowx4Bie9sxRrfS%2F5oIDBA%3D%3D&trk=public_jobs_jserp-result_search-card\n",
      "Jobs extracted:  89 https://es.linkedin.com/jobs/view/quality-assurance-trainee-at-eurofragance-slu-3832064024?position=9&pageNum=7&refId=8l1VXpJg7Pk%2FMnw7fM21rA%3D%3D&trackingId=2xuCINvK1goFJ%2BFaT6A1qQ%3D%3D&trk=public_jobs_jserp-result_search-card\n",
      "Jobs extracted:  90 https://es.linkedin.com/jobs/view/data-marketing-trainee-at-groupe-seb-ib%C3%A9rica-3939039293?position=10&pageNum=7&refId=8l1VXpJg7Pk%2FMnw7fM21rA%3D%3D&trackingId=ViBjeAtO85Q1WsqvcT1%2Bfg%3D%3D&trk=public_jobs_jserp-result_search-card\n",
      "Jobs extracted:  91 https://es.linkedin.com/jobs/view/product-intern-at-clarity-ai-3944521485?position=1&pageNum=10&refId=NShH12YO0RA2ttKxtrES0w%3D%3D&trackingId=TuONSiyM%2F1xgIdUcHTqWSw%3D%3D&trk=public_jobs_jserp-result_search-card\n",
      "Jobs extracted:  92 https://es.linkedin.com/jobs/view/remote-office-global-business-committee-internship-in-seville-at-spain-internship-3918178973?position=2&pageNum=10&refId=NShH12YO0RA2ttKxtrES0w%3D%3D&trackingId=sJ%2FX1uCS7yR2wchZkEcnQQ%3D%3D&trk=public_jobs_jserp-result_search-card\n",
      "Jobs extracted:  93 https://es.linkedin.com/jobs/view/internship-market-intelligence-at-ul-solutions-3940388643?position=3&pageNum=10&refId=NShH12YO0RA2ttKxtrES0w%3D%3D&trackingId=scIrBD1krBhVN%2FNb6swsXQ%3D%3D&trk=public_jobs_jserp-result_search-card\n",
      "Jobs extracted:  94 https://es.linkedin.com/jobs/view/internship-program-management-at-celestica-3937205152?position=4&pageNum=10&refId=NShH12YO0RA2ttKxtrES0w%3D%3D&trackingId=%2Fhmxf5YDlo2ppJOIVyx2RQ%3D%3D&trk=public_jobs_jserp-result_search-card\n",
      "Jobs extracted:  95 https://es.linkedin.com/jobs/view/proceso-de-seleccion-cerrado-beca-big-data-tk-elevator-at-eude-business-school-3940366867?position=5&pageNum=10&refId=NShH12YO0RA2ttKxtrES0w%3D%3D&trackingId=UWn%2FaKyq5pmfB8L8vPRXgA%3D%3D&trk=public_jobs_jserp-result_search-card\n",
      "Jobs extracted:  96 https://es.linkedin.com/jobs/view/contract-analyst-internship-at-nextlane-3942122452?position=6&pageNum=10&refId=NShH12YO0RA2ttKxtrES0w%3D%3D&trackingId=KJr5vEmxx9CcakChcwC9Mg%3D%3D&trk=public_jobs_jserp-result_search-card\n",
      "Jobs extracted:  97 https://es.linkedin.com/jobs/view/studio-pr-intern-at-the-walt-disney-company-3933464240?position=7&pageNum=10&refId=NShH12YO0RA2ttKxtrES0w%3D%3D&trackingId=mEfgXn%2BUT1r4eOQJG9Vz4g%3D%3D&trk=public_jobs_jserp-result_search-card\n",
      "Jobs extracted:  98 https://es.linkedin.com/jobs/view/beca-finanzas-at-the-cocktail-3924231635?position=8&pageNum=10&refId=NShH12YO0RA2ttKxtrES0w%3D%3D&trackingId=y9H6JYL7If7hH10hUGqKgw%3D%3D&trk=public_jobs_jserp-result_search-card\n",
      "Jobs extracted:  99 https://es.linkedin.com/jobs/view/hr-internship-opportunity-fully-remote-at-selina-3826676450?position=9&pageNum=10&refId=NShH12YO0RA2ttKxtrES0w%3D%3D&trackingId=1jimIKC%2FaGL%2FxINHWdmQ3w%3D%3D&trk=public_jobs_jserp-result_search-card\n",
      "Jobs extracted:  100 https://es.linkedin.com/jobs/view/data-engineer-intern-at-zurich-insurance-3865249348?position=10&pageNum=10&refId=NShH12YO0RA2ttKxtrES0w%3D%3D&trackingId=WasxK1DXwi3ziYWeskXaGw%3D%3D&trk=public_jobs_jserp-result_search-card\n",
      "Jobs extracted:  101 https://es.linkedin.com/jobs/view/pr%C3%A1cticas-grado-inform%C3%A1tica-telecomunicaciones-multimedia-matem%C3%A1ticas-f%C3%ADsica-at-ntt-data-europe-latam-3835535863?position=1&pageNum=12&refId=ZwHLWV4lmgIdsvJztx%2B7TQ%3D%3D&trackingId=YH9QsEyjUnGkrZjfqLK8qw%3D%3D&trk=public_jobs_jserp-result_search-card\n",
      "Jobs extracted:  102 https://es.linkedin.com/jobs/view/business-intelligence-digitalization-working-student-at-siemens-gamesa-3918818505?position=2&pageNum=12&refId=ZwHLWV4lmgIdsvJztx%2B7TQ%3D%3D&trackingId=i9H6F7lVs9r8%2FsWoQZTAJQ%3D%3D&trk=public_jobs_jserp-result_search-card\n",
      "Jobs extracted:  103 https://es.linkedin.com/jobs/view/data-science-nlp-i-d-at-capgemini-3918407652?position=3&pageNum=12&refId=ZwHLWV4lmgIdsvJztx%2B7TQ%3D%3D&trackingId=g7yByf2DFv%2BX75xRIChX0g%3D%3D&trk=public_jobs_jserp-result_search-card\n",
      "Jobs extracted:  104 https://es.linkedin.com/jobs/view/it-business-engineer-m-f-internship-madrid-at-noveo-group-3942976473?position=4&pageNum=12&refId=ZwHLWV4lmgIdsvJztx%2B7TQ%3D%3D&trackingId=8gAmvHPz6PVsNC9jdLFLow%3D%3D&trk=public_jobs_jserp-result_search-card\n",
      "Jobs extracted:  105 https://es.linkedin.com/jobs/view/business-finance-analyst-intern-stp24-at-schneider-electric-3920336390?position=5&pageNum=12&refId=ZwHLWV4lmgIdsvJztx%2B7TQ%3D%3D&trackingId=oLgTY2brF62xUUI1JnUp7w%3D%3D&trk=public_jobs_jserp-result_search-card\n",
      "Jobs extracted:  106 https://es.linkedin.com/jobs/view/hr-intern-at-allianz-technology-3915929575?position=6&pageNum=12&refId=ZwHLWV4lmgIdsvJztx%2B7TQ%3D%3D&trackingId=wVYfYzRESD8yYEqS%2BXrU4g%3D%3D&trk=public_jobs_jserp-result_search-card\n",
      "Jobs extracted:  107 https://es.linkedin.com/jobs/view/internship-human-resources-at-volvo-car-espa%C3%B1a-3930151800?position=7&pageNum=12&refId=ZwHLWV4lmgIdsvJztx%2B7TQ%3D%3D&trackingId=3%2BJIJtLEMQ8NBcagSogXxg%3D%3D&trk=public_jobs_jserp-result_search-card\n",
      "Jobs extracted:  108 https://es.linkedin.com/jobs/view/beca-financial-analyst-bnp-paribas-at-bnp-paribas-3928518486?position=8&pageNum=12&refId=ZwHLWV4lmgIdsvJztx%2B7TQ%3D%3D&trackingId=8Hi7XLPHDKFSAQSDBBdm5Q%3D%3D&trk=public_jobs_jserp-result_search-card\n",
      "Jobs extracted:  109 https://es.linkedin.com/jobs/view/marketing-trainee-madrid-at-kti-talent-indicator-3941156580?position=9&pageNum=12&refId=ZwHLWV4lmgIdsvJztx%2B7TQ%3D%3D&trackingId=nJiz3FufSsljJ7LV3T4GyQ%3D%3D&trk=public_jobs_jserp-result_search-card\n",
      "Jobs extracted:  110 https://es.linkedin.com/jobs/view/junior-social-media-manager-internship-f-m-x-at-amaris-consulting-3929256216?position=10&pageNum=12&refId=ZwHLWV4lmgIdsvJztx%2B7TQ%3D%3D&trackingId=qtArikcVgyq8zUW9ZXKvEA%3D%3D&trk=public_jobs_jserp-result_search-card\n",
      "Jobs extracted:  111 https://es.linkedin.com/jobs/view/paid-900%E2%82%AC-market-research-internship-in-madrid-spain-at-spain-internship-3918620119?position=1&pageNum=15&refId=hDSaQEScoy%2FnfSZMqIxzdw%3D%3D&trackingId=A6G2VW%2Fr5AEiFN%2BI9QimaQ%3D%3D&trk=public_jobs_jserp-result_search-card\n",
      "Jobs extracted:  112 https://es.linkedin.com/jobs/view/product-manager-%E2%80%93-graduate-training-program-online-%E2%80%93-part-time-at-moyyn-3940728925?position=2&pageNum=15&refId=hDSaQEScoy%2FnfSZMqIxzdw%3D%3D&trackingId=%2FDPcJV3olpWTYjDSb89G%2FA%3D%3D&trk=public_jobs_jserp-result_search-card\n",
      "Jobs extracted:  113 https://es.linkedin.com/jobs/view/beca-financial-analyst-bnp-paribas-at-bnp-paribas-cib-3928525652?position=3&pageNum=15&refId=hDSaQEScoy%2FnfSZMqIxzdw%3D%3D&trackingId=Ks0eQxODKnOtMw5a3%2BXJBw%3D%3D&trk=public_jobs_jserp-result_search-card\n",
      "Jobs extracted:  114 https://es.linkedin.com/jobs/view/paid-200%E2%82%AC-month-marketing-and-administration-internship-in-sevilla-spain-at-spain-internship-3918616824?position=4&pageNum=15&refId=hDSaQEScoy%2FnfSZMqIxzdw%3D%3D&trackingId=RoLpO16KFnTec0Ys2MvtNw%3D%3D&trk=public_jobs_jserp-result_search-card\n",
      "Jobs extracted:  115 https://es.linkedin.com/jobs/view/operations-research-internship-at-passnfly-3863810105?position=5&pageNum=15&refId=hDSaQEScoy%2FnfSZMqIxzdw%3D%3D&trackingId=ZuFcU9iQTQLyLdmknSVsCw%3D%3D&trk=public_jobs_jserp-result_search-card\n",
      "Jobs extracted:  116 https://es.linkedin.com/jobs/view/qhse-data-analyst-intern-m-f-d-at-nordex-energy-brasil-3884855087?position=6&pageNum=15&refId=hDSaQEScoy%2FnfSZMqIxzdw%3D%3D&trackingId=WBTOghHXUBAPopAvXl9bjw%3D%3D&trk=public_jobs_jserp-result_search-card\n",
      "Jobs extracted:  117 https://es.linkedin.com/jobs/view/quality-control-trainee-analista-lims-interquim-at-ferrer-3933223683?position=7&pageNum=15&refId=hDSaQEScoy%2FnfSZMqIxzdw%3D%3D&trackingId=92vEZnKU9IRCHII5S3MRCA%3D%3D&trk=public_jobs_jserp-result_search-card\n",
      "Jobs extracted:  118 https://es.linkedin.com/jobs/view/intern-student-research-planning-and-analysis-at-kantar-3920683152?position=8&pageNum=15&refId=hDSaQEScoy%2FnfSZMqIxzdw%3D%3D&trackingId=6XzcN7gk1TOSp3E%2FFgfkuQ%3D%3D&trk=public_jobs_jserp-result_search-card\n",
      "Jobs extracted:  119 https://es.linkedin.com/jobs/view/product-manager-%E2%80%93-graduate-training-program-online-%E2%80%93-part-time-at-moyyn-3940729837?position=9&pageNum=15&refId=hDSaQEScoy%2FnfSZMqIxzdw%3D%3D&trackingId=Jqx2UfQ0xmNPWDzlCqobMQ%3D%3D&trk=public_jobs_jserp-result_search-card\n",
      "Jobs extracted:  120 https://es.linkedin.com/jobs/view/accountant-trainee-girona-at-fundcraft-3832836481?position=10&pageNum=15&refId=hDSaQEScoy%2FnfSZMqIxzdw%3D%3D&trackingId=K2uWedortNO%2Frdc%2Br%2BKtug%3D%3D&trk=public_jobs_jserp-result_search-card\n",
      "Jobs extracted:  121 https://es.linkedin.com/jobs/view/internship-client-relationship-management-at-skill-farm-3936673309?position=1&pageNum=17&refId=c8u1qSaT0maZax8Z93I91w%3D%3D&trackingId=T0bn%2FzZA2QwiVY5C42a0gQ%3D%3D&trk=public_jobs_jserp-result_search-card\n",
      "Jobs extracted:  122 https://es.linkedin.com/jobs/view/data-analytics-work-student-at-siemens-gamesa-3818193878?position=2&pageNum=17&refId=c8u1qSaT0maZax8Z93I91w%3D%3D&trackingId=OG4Z4rm7N3KJscPTXBY3Eg%3D%3D&trk=public_jobs_jserp-result_search-card\n",
      "Jobs extracted:  123 https://es.linkedin.com/jobs/view/customer-experience-internship-at-unit-1-3941576918?position=3&pageNum=17&refId=c8u1qSaT0maZax8Z93I91w%3D%3D&trackingId=dWFvyXAUSxmRRcuLVeeIlA%3D%3D&trk=public_jobs_jserp-result_search-card\n",
      "Jobs extracted:  124 https://es.linkedin.com/jobs/view/data-analytics-work-student-at-siemens-gamesa-3818193882?position=4&pageNum=17&refId=c8u1qSaT0maZax8Z93I91w%3D%3D&trackingId=4Rx0tmDoduuBfOaezVENLQ%3D%3D&trk=public_jobs_jserp-result_search-card\n",
      "Jobs extracted:  125 https://es.linkedin.com/jobs/view/becario-master-data-y-tech-support-at-carrier-3921542636?position=5&pageNum=17&refId=c8u1qSaT0maZax8Z93I91w%3D%3D&trackingId=JrXTWrh3TernKJTzJqWyQQ%3D%3D&trk=public_jobs_jserp-result_search-card\n",
      "Jobs extracted:  126 https://es.linkedin.com/jobs/view/doctoral-student-at-imdea-software-institute-3931423440?position=6&pageNum=17&refId=c8u1qSaT0maZax8Z93I91w%3D%3D&trackingId=xNcEi06qK74Al0DNub7cqw%3D%3D&trk=public_jobs_jserp-result_search-card\n",
      "Jobs extracted:  127 https://es.linkedin.com/jobs/view/revenue-generation-bi-data-analyst-trainee-at-radisson-hotel-group-3919376338?position=7&pageNum=17&refId=c8u1qSaT0maZax8Z93I91w%3D%3D&trackingId=BJriTPkbwvNBqm7GfEVLDw%3D%3D&trk=public_jobs_jserp-result_search-card\n",
      "Jobs extracted:  128 https://es.linkedin.com/jobs/view/qhse-data-analyst-intern-m-f-d-at-nordex-group-3887477083?position=8&pageNum=17&refId=c8u1qSaT0maZax8Z93I91w%3D%3D&trackingId=0A3MTGkrWLCQ9hxvH5EeMQ%3D%3D&trk=public_jobs_jserp-result_search-card\n",
      "Jobs extracted:  129 https://es.linkedin.com/jobs/view/paid-it-internship-position-in-matar%C3%B3-barcelona-at-spain-internship-3918620112?position=9&pageNum=17&refId=c8u1qSaT0maZax8Z93I91w%3D%3D&trackingId=WuvPwMAGFsDw0rXfSjfohw%3D%3D&trk=public_jobs_jserp-result_search-card\n",
      "Jobs extracted:  130 https://es.linkedin.com/jobs/view/junior-crm-specialist-internship-at-digital6-3940344748?position=10&pageNum=17&refId=c8u1qSaT0maZax8Z93I91w%3D%3D&trackingId=MsM%2B6cio0HczkCHwDkvkrQ%3D%3D&trk=public_jobs_jserp-result_search-card\n",
      "Jobs extracted:  131 https://es.linkedin.com/jobs/view/paid-500%E2%82%AC-month-community-manager-internship-in-madrid-at-spain-internship-3918619199?position=1&pageNum=20&refId=BvKAO8jybTplNS2mvoB6Ug%3D%3D&trackingId=xbuRQ9%2Fv77B%2FdTsimfi4%2Fw%3D%3D&trk=public_jobs_jserp-result_search-card\n",
      "Jobs extracted:  132 https://es.linkedin.com/jobs/view/employee-engagement-intern-at-allianz-technology-3926355968?position=2&pageNum=20&refId=BvKAO8jybTplNS2mvoB6Ug%3D%3D&trackingId=am7GX8AEgVbkVPeprRLHEw%3D%3D&trk=public_jobs_jserp-result_search-card\n",
      "Jobs extracted:  133 https://es.linkedin.com/jobs/view/intern-customer-success-marketing-at-market-control-3899647179?position=3&pageNum=20&refId=BvKAO8jybTplNS2mvoB6Ug%3D%3D&trackingId=8QY0dB3dREpdiztN%2FajI2Q%3D%3D&trk=public_jobs_jserp-result_search-card\n",
      "Jobs extracted:  134 https://es.linkedin.com/jobs/view/trainee-actuary-data-scientist-at-zurich-insurance-3911487921?position=4&pageNum=20&refId=BvKAO8jybTplNS2mvoB6Ug%3D%3D&trackingId=Rv%2BpQ5RqTz4NBSf0MFBdlw%3D%3D&trk=public_jobs_jserp-result_search-card\n",
      "Jobs extracted:  135 https://es.linkedin.com/jobs/view/visiting-scientist-computational-at-pharmiweb-jobs-global-life-science-jobs-3941418425?position=5&pageNum=20&refId=BvKAO8jybTplNS2mvoB6Ug%3D%3D&trackingId=IQr0irlkyoEX9nX2TFtMAw%3D%3D&trk=public_jobs_jserp-result_search-card\n",
      "Jobs extracted:  136 https://es.linkedin.com/jobs/view/finance-intern-in-the-central-function-controlling-department-at-allianz-technology-3855717845?position=6&pageNum=20&refId=BvKAO8jybTplNS2mvoB6Ug%3D%3D&trackingId=IncRSwMnZw1NUQWGw31KMw%3D%3D&trk=public_jobs_jserp-result_search-card\n",
      "Jobs extracted:  137 https://es.linkedin.com/jobs/view/office-student-at-new-work-se-3930641623?position=7&pageNum=20&refId=BvKAO8jybTplNS2mvoB6Ug%3D%3D&trackingId=vCR2IPue8NwiulPg65y8Eg%3D%3D&trk=public_jobs_jserp-result_search-card\n",
      "Jobs extracted:  138 https://es.linkedin.com/jobs/view/marketing-assistant-internship-in-barcelona-spain-at-spain-internship-3918613918?position=8&pageNum=20&refId=BvKAO8jybTplNS2mvoB6Ug%3D%3D&trackingId=sTtfN504K4Qm10YoaCQruA%3D%3D&trk=public_jobs_jserp-result_search-card\n",
      "Jobs extracted:  139 https://es.linkedin.com/jobs/view/quality-engineer-trainee-m-f-d-at-nordex-energy-brasil-3883084923?position=9&pageNum=20&refId=BvKAO8jybTplNS2mvoB6Ug%3D%3D&trackingId=z6e28vlmXQ9npztNf6gnZw%3D%3D&trk=public_jobs_jserp-result_search-card\n",
      "Jobs extracted:  140 https://es.linkedin.com/jobs/view/cpg-intern-at-circana-3941215663?position=10&pageNum=20&refId=BvKAO8jybTplNS2mvoB6Ug%3D%3D&trackingId=woMS6IgFsgCN50blj4LD1Q%3D%3D&trk=public_jobs_jserp-result_search-card\n",
      "Jobs extracted:  141 https://es.linkedin.com/jobs/view/back-office-intern-at-sanlucar-company-3928338996?position=1&pageNum=22&refId=O5lUdj1nMNJ880xuT0ErXg%3D%3D&trackingId=oS7a%2B76oZ4jIHVrjp0pudA%3D%3D&trk=public_jobs_jserp-result_search-card\n",
      "Jobs extracted:  142 https://es.linkedin.com/jobs/view/pr%C3%A1cticas-de-analista-at-ntt-data-europe-latam-3908217519?position=2&pageNum=22&refId=O5lUdj1nMNJ880xuT0ErXg%3D%3D&trackingId=9qKdxScHRhacFweIuuF%2Bow%3D%3D&trk=public_jobs_jserp-result_search-card\n",
      "Jobs extracted:  143 https://es.linkedin.com/jobs/view/sales-strategy-intern-at-mygwork-lgbtq%2B-business-community-3919924177?position=3&pageNum=22&refId=O5lUdj1nMNJ880xuT0ErXg%3D%3D&trackingId=5OWbzOv9uq8KHFdwhGG3mw%3D%3D&trk=public_jobs_jserp-result_search-card\n",
      "Jobs extracted:  144 https://es.linkedin.com/jobs/view/digital-omnichannel-business-partner-marketing-digital-data-intern-at-recruiting-erasmus-3931278447?position=4&pageNum=22&refId=O5lUdj1nMNJ880xuT0ErXg%3D%3D&trackingId=6riAa%2F8pG3Zup5Fgd1%2Buug%3D%3D&trk=public_jobs_jserp-result_search-card\n",
      "Jobs extracted:  145 https://es.linkedin.com/jobs/view/human-resources-internship-in-a-toursim-company-in-barcelona-at-spain-internship-3918620045?position=5&pageNum=22&refId=O5lUdj1nMNJ880xuT0ErXg%3D%3D&trackingId=OxbHcF9DtWTS6QEYBtJ%2Fyw%3D%3D&trk=public_jobs_jserp-result_search-card\n",
      "Jobs extracted:  146 https://es.linkedin.com/jobs/view/2024-business-intern-at-amazon-retail-at-amazon-3877292423?position=6&pageNum=22&refId=O5lUdj1nMNJ880xuT0ErXg%3D%3D&trackingId=LCkJYFtEwreDIabdEZbqUQ%3D%3D&trk=public_jobs_jserp-result_search-card\n",
      "Jobs extracted:  147 https://es.linkedin.com/jobs/view/business-finance-analyst-intern-stp24-at-schneider-electric-3930704160?position=7&pageNum=22&refId=O5lUdj1nMNJ880xuT0ErXg%3D%3D&trackingId=BILMrYn%2BOw9NVzCDRczs%2FQ%3D%3D&trk=public_jobs_jserp-result_search-card\n",
      "Jobs extracted:  148 https://es.linkedin.com/jobs/view/environmental-social-and-governance-esg-intern-at-ipc-systems-inc-3930194634?position=8&pageNum=22&refId=O5lUdj1nMNJ880xuT0ErXg%3D%3D&trackingId=e6Os7d9ypadE%2BQueH7Uy9w%3D%3D&trk=public_jobs_jserp-result_search-card\n",
      "Jobs extracted:  149 https://es.linkedin.com/jobs/view/people-and-culture-intern-at-ennismore-3938949655?position=9&pageNum=22&refId=O5lUdj1nMNJ880xuT0ErXg%3D%3D&trackingId=uNhTQbCO3ImZ6gOCBhb4kQ%3D%3D&trk=public_jobs_jserp-result_search-card\n",
      "Jobs extracted:  150 https://es.linkedin.com/jobs/view/data-and-revenue-project-management-trainee-at-radisson-hotel-group-3919377359?position=10&pageNum=22&refId=O5lUdj1nMNJ880xuT0ErXg%3D%3D&trackingId=XFB4GqZTDKgwevj%2BlIF87w%3D%3D&trk=public_jobs_jserp-result_search-card\n",
      "Jobs extracted:  151 https://es.linkedin.com/jobs/view/full-stack-developer-intern-at-back-market-3943505352?position=1&pageNum=25&refId=7AYVuc%2Br7o477GTWg%2BoiHg%3D%3D&trackingId=t%2BW7JwKO7c0dzH9fedVELQ%3D%3D&trk=public_jobs_jserp-result_search-card\n",
      "Jobs extracted:  152 https://es.linkedin.com/jobs/view/business-solutions-trainee-at-radisson-hotel-group-3937285543?position=2&pageNum=25&refId=7AYVuc%2Br7o477GTWg%2BoiHg%3D%3D&trackingId=h8CdJJOJYNk%2Bafii5y7d3A%3D%3D&trk=public_jobs_jserp-result_search-card\n",
      "Jobs extracted:  153 https://es.linkedin.com/jobs/view/account-manager-internship-at-payxpert-3913387245?position=3&pageNum=25&refId=7AYVuc%2Br7o477GTWg%2BoiHg%3D%3D&trackingId=LihAMp2OpUr6VcKPWn07XA%3D%3D&trk=public_jobs_jserp-result_search-card\n",
      "Jobs extracted:  154 https://es.linkedin.com/jobs/view/publisher-account-executive-trainee-at-seedtag-3884036558?position=4&pageNum=25&refId=7AYVuc%2Br7o477GTWg%2BoiHg%3D%3D&trackingId=nDR8XpSiZfQXFySdgziHTA%3D%3D&trk=public_jobs_jserp-result_search-card\n",
      "Jobs extracted:  155 https://es.linkedin.com/jobs/view/business-operations-intern-hq-at-glovo-3926315185?position=5&pageNum=25&refId=7AYVuc%2Br7o477GTWg%2BoiHg%3D%3D&trackingId=ohK%2B1i6EaMD8GDnUahj75g%3D%3D&trk=public_jobs_jserp-result_search-card\n",
      "Jobs extracted:  156 https://es.linkedin.com/jobs/view/internship-supply-chain-at-henkel-3936923999?position=6&pageNum=25&refId=7AYVuc%2Br7o477GTWg%2BoiHg%3D%3D&trackingId=QliHQj3xaNa2NE8bwPxoKQ%3D%3D&trk=public_jobs_jserp-result_search-card\n",
      "Jobs extracted:  157 https://es.linkedin.com/jobs/view/2024-applied-scientist-internship-at-amazon-3877288101?position=7&pageNum=25&refId=7AYVuc%2Br7o477GTWg%2BoiHg%3D%3D&trackingId=b01ofCMDzweE8gbKCB99Gg%3D%3D&trk=public_jobs_jserp-result_search-card\n",
      "Jobs extracted:  158 https://es.linkedin.com/jobs/view/hq-brand-specialist-intern-at-job-talent-3934325428?position=8&pageNum=25&refId=7AYVuc%2Br7o477GTWg%2BoiHg%3D%3D&trackingId=aVegh8RHvH8C9Au5kxxMcw%3D%3D&trk=public_jobs_jserp-result_search-card\n",
      "Jobs extracted:  159 https://es.linkedin.com/jobs/view/pr%C3%A0ctiques-a-m%C3%A0rqueting-d-experi%C3%A8ncies-turisme-enogastron%C3%B2mic-at-ag%C3%A8ncia-catalana-de-turisme-catalan-tourist-board-3934852604?position=9&pageNum=25&refId=7AYVuc%2Br7o477GTWg%2BoiHg%3D%3D&trackingId=Ek4VawiKwu8wsdFD2CRYLQ%3D%3D&trk=public_jobs_jserp-result_search-card\n",
      "Jobs extracted:  160 https://es.linkedin.com/jobs/view/proceso-de-seleccion-cerrado-business-process-trainee-accom-at-eude-business-school-3940370333?position=10&pageNum=25&refId=7AYVuc%2Br7o477GTWg%2BoiHg%3D%3D&trackingId=ao7jSFLENyIdJVMyobGSzQ%3D%3D&trk=public_jobs_jserp-result_search-card\n",
      "Jobs extracted:  161 https://es.linkedin.com/jobs/view/land-acquisition-and-development-internship-box2bit-digital-infrastructure-at-capital-energy-3921379636?position=1&pageNum=27&refId=369uOTx8HXF5KYOp6HVajQ%3D%3D&trackingId=DWzpZs4PQzVmgdbCi66CQA%3D%3D&trk=public_jobs_jserp-result_search-card\n",
      "Jobs extracted:  162 https://es.linkedin.com/jobs/view/business-planning-and-performance-trainee-at-amadeus-3942175987?position=2&pageNum=27&refId=369uOTx8HXF5KYOp6HVajQ%3D%3D&trackingId=aGzCkzeyn7zmjQ4NHPLPkQ%3D%3D&trk=public_jobs_jserp-result_search-card\n",
      "Jobs extracted:  163 https://es.linkedin.com/jobs/view/cyber-data-management-associate-internship-at-zurich-insurance-3862286638?position=3&pageNum=27&refId=369uOTx8HXF5KYOp6HVajQ%3D%3D&trackingId=iuW2dUHPzdvv6ZH1hLs9yw%3D%3D&trk=public_jobs_jserp-result_search-card\n",
      "Jobs extracted:  164 https://es.linkedin.com/jobs/view/r-d-operations-coop-intern-at-ge-renewable-energy-3913862950?position=4&pageNum=27&refId=369uOTx8HXF5KYOp6HVajQ%3D%3D&trackingId=cZb%2BDG9iVcFghDL7hxRycA%3D%3D&trk=public_jobs_jserp-result_search-card\n",
      "Jobs extracted:  165 https://es.linkedin.com/jobs/view/trainee-actuary-data-scientist-at-zurich-insurance-3916536368?position=5&pageNum=27&refId=369uOTx8HXF5KYOp6HVajQ%3D%3D&trackingId=SOYc%2BhcU9Bc4YSuPX1Qn9A%3D%3D&trk=public_jobs_jserp-result_search-card\n",
      "Jobs extracted:  166 https://es.linkedin.com/jobs/view/medical-affairs-apprentice-at-biom%C3%A9rieux-3931784510?position=6&pageNum=27&refId=369uOTx8HXF5KYOp6HVajQ%3D%3D&trackingId=dCrq4XRKy7C7heKhzQ84Ug%3D%3D&trk=public_jobs_jserp-result_search-card\n",
      "Jobs extracted:  167 https://es.linkedin.com/jobs/view/2024-applied-scientist-internship-at-mygwork-lgbtq%2B-business-community-3852327793?position=7&pageNum=27&refId=369uOTx8HXF5KYOp6HVajQ%3D%3D&trackingId=HI7CPSN4BMBTJxifGcIK0w%3D%3D&trk=public_jobs_jserp-result_search-card\n",
      "Jobs extracted:  168 https://es.linkedin.com/jobs/view/paid-370-%E2%82%AC-month-seo-and-content-marketing-intern-in-barcelona-at-spain-internship-3918614907?position=8&pageNum=27&refId=369uOTx8HXF5KYOp6HVajQ%3D%3D&trackingId=0ELYvNiioYbDU%2BdVV3m0mA%3D%3D&trk=public_jobs_jserp-result_search-card\n",
      "Jobs extracted:  169 https://es.linkedin.com/jobs/view/campus-internship-programme-client-management-intern-%E2%80%93-2024-madrid-at-mygwork-lgbtq%2B-business-community-3927445369?position=9&pageNum=27&refId=369uOTx8HXF5KYOp6HVajQ%3D%3D&trackingId=PX7621UTs5CpEQkgVn8ZmQ%3D%3D&trk=public_jobs_jserp-result_search-card\n",
      "Jobs extracted:  170 https://es.linkedin.com/jobs/view/client-executive-trainee-at-worldpanel-by-kantar-3917547981?position=10&pageNum=27&refId=369uOTx8HXF5KYOp6HVajQ%3D%3D&trackingId=OwrMecE1Mu4CKBBtJO5OaQ%3D%3D&trk=public_jobs_jserp-result_search-card\n",
      "Jobs extracted:  171 https://es.linkedin.com/jobs/view/marketing-internship-in-an-online-marketing-services-agency-in-valencia-spain-at-spain-internship-3918618373?position=1&pageNum=30&refId=NEwDVUBC5AZalC3%2BUVq57A%3D%3D&trackingId=5K%2Bk5W4IlKIiZ1RO4gyysQ%3D%3D&trk=public_jobs_jserp-result_search-card\n",
      "Jobs extracted:  172 https://es.linkedin.com/jobs/view/beca-%C3%A1rea-licitaciones-p%C3%BAblicas-madrid-at-trc-3927835034?position=2&pageNum=30&refId=NEwDVUBC5AZalC3%2BUVq57A%3D%3D&trackingId=9KmvjA5V5p9QEVHccUzBHQ%3D%3D&trk=public_jobs_jserp-result_search-card\n",
      "Jobs extracted:  173 https://es.linkedin.com/jobs/view/project-enablement-intern-at-bts-3848332274?position=3&pageNum=30&refId=NEwDVUBC5AZalC3%2BUVq57A%3D%3D&trackingId=8kfgZpCFdMk%2Fd2QcnSc4kw%3D%3D&trk=public_jobs_jserp-result_search-card\n",
      "Jobs extracted:  174 https://es.linkedin.com/jobs/view/trainee-data-governance-at-zurich-insurance-3911488799?position=4&pageNum=30&refId=NEwDVUBC5AZalC3%2BUVq57A%3D%3D&trackingId=gQsCjwuB9yPXXKk7g%2BMwGg%3D%3D&trk=public_jobs_jserp-result_search-card\n",
      "Jobs extracted:  175 https://es.linkedin.com/jobs/view/beca-en-java-developement-idras-bnp-personal-finance-at-bnp-paribas-3880772710?position=5&pageNum=30&refId=NEwDVUBC5AZalC3%2BUVq57A%3D%3D&trackingId=4kDdu9TO%2Bew1DR35q2yl6Q%3D%3D&trk=public_jobs_jserp-result_search-card\n",
      "Jobs extracted:  176 https://es.linkedin.com/jobs/view/genai-management-associate-internship-at-zurich-insurance-3789071378?position=6&pageNum=30&refId=NEwDVUBC5AZalC3%2BUVq57A%3D%3D&trackingId=t5rwiF6hanSrvRBKS05DgQ%3D%3D&trk=public_jobs_jserp-result_search-card\n",
      "Jobs extracted:  177 https://es.linkedin.com/jobs/view/accounting-internal-control-intern-stp24-at-schneider-electric-3930707114?position=7&pageNum=30&refId=NEwDVUBC5AZalC3%2BUVq57A%3D%3D&trackingId=U19LE79T%2BrgaUyvpKbNA%2Fw%3D%3D&trk=public_jobs_jserp-result_search-card\n",
      "Jobs extracted:  178 https://es.linkedin.com/jobs/view/proceso-de-seleccion-cerrado-beca-mba-big-data-immune-technology-institute-at-eude-business-school-3940369372?position=8&pageNum=30&refId=NEwDVUBC5AZalC3%2BUVq57A%3D%3D&trackingId=y4%2BXnQk6k0q9M7ui07OWGQ%3D%3D&trk=public_jobs_jserp-result_search-card\n",
      "Jobs extracted:  179 https://es.linkedin.com/jobs/view/campus-internship-programme-product-marketing-internship-%E2%80%93-2024-madrid-at-mygwork-lgbtq%2B-business-community-3927867806?position=9&pageNum=30&refId=NEwDVUBC5AZalC3%2BUVq57A%3D%3D&trackingId=2jcXLTfpT9lsG4ru9Bpnhg%3D%3D&trk=public_jobs_jserp-result_search-card\n",
      "Jobs extracted:  180 https://es.linkedin.com/jobs/view/innovation-learning-trainee-stp24-at-schneider-electric-3930705124?position=10&pageNum=30&refId=NEwDVUBC5AZalC3%2BUVq57A%3D%3D&trackingId=FUoADZ5tslHAh7C8D2WMtw%3D%3D&trk=public_jobs_jserp-result_search-card\n",
      "Jobs extracted:  181 https://es.linkedin.com/jobs/view/campus-internship-programme-junior-ceg-assistant-%E2%80%93-2024-madrid-at-mygwork-lgbtq%2B-business-community-3933014960?position=1&pageNum=32&refId=1sUOgHb8yOVE906TQEogRg%3D%3D&trackingId=DNwZDf%2BFom4vdt1MY3HuPQ%3D%3D&trk=public_jobs_jserp-result_search-card\n",
      "Jobs extracted:  182 https://es.linkedin.com/jobs/view/internship-supply-chain-at-henkel-3919334405?position=2&pageNum=32&refId=1sUOgHb8yOVE906TQEogRg%3D%3D&trackingId=BAZf76q76eNSgknyVyG2ug%3D%3D&trk=public_jobs_jserp-result_search-card\n",
      "Jobs extracted:  183 https://es.linkedin.com/jobs/view/back-end-developer-intern-at-orc-middleware-test-company-3785017072?position=3&pageNum=32&refId=1sUOgHb8yOVE906TQEogRg%3D%3D&trackingId=a6qVr0qvETDBRuWeHi%2Fkzw%3D%3D&trk=public_jobs_jserp-result_search-card\n",
      "Jobs extracted:  184 https://es.linkedin.com/jobs/view/student-hr-at-vibrantz-technologies-inc-3828314374?position=4&pageNum=32&refId=1sUOgHb8yOVE906TQEogRg%3D%3D&trackingId=BlG1x8uEmZJrCKTj4Yc9zQ%3D%3D&trk=public_jobs_jserp-result_search-card\n",
      "Jobs extracted:  185 https://es.linkedin.com/jobs/view/ecommerce-supply-trainee-at-mygwork-lgbtq%2B-business-community-3939496718?position=5&pageNum=32&refId=1sUOgHb8yOVE906TQEogRg%3D%3D&trackingId=GNEiaCtQzgcjToMlFXLeQg%3D%3D&trk=public_jobs_jserp-result_search-card\n",
      "Jobs extracted:  186 https://es.linkedin.com/jobs/view/patient-activation-intern-at-boston-scientific-3930614306?position=6&pageNum=32&refId=1sUOgHb8yOVE906TQEogRg%3D%3D&trackingId=zvcdImhNJ9LjEyQsdod8Vw%3D%3D&trk=public_jobs_jserp-result_search-card\n",
      "Jobs extracted:  187 https://es.linkedin.com/jobs/view/sanofi-graduate-program-business-track-human-resources-at-adecco-3922816736?position=7&pageNum=32&refId=1sUOgHb8yOVE906TQEogRg%3D%3D&trackingId=7Rj5NLkfSPcAag9SoiwcYw%3D%3D&trk=public_jobs_jserp-result_search-card\n",
      "Jobs extracted:  188 https://es.linkedin.com/jobs/view/pricing-analyst-intern-rm-emea-at-mygwork-lgbtq%2B-business-community-3937237825?position=8&pageNum=32&refId=1sUOgHb8yOVE906TQEogRg%3D%3D&trackingId=jDPiWawjYE6JumARDud8Lw%3D%3D&trk=public_jobs_jserp-result_search-card\n",
      "Jobs extracted:  189 https://es.linkedin.com/jobs/view/hris-trainee-at-radisson-hotel-group-3919376337?position=9&pageNum=32&refId=1sUOgHb8yOVE906TQEogRg%3D%3D&trackingId=U8OF6zwe4HqPP9JaG%2B1FbQ%3D%3D&trk=public_jobs_jserp-result_search-card\n",
      "Jobs extracted:  190 https://es.linkedin.com/jobs/view/courier-growth-intern-they-she-he-global-hq-p803602-at-glovo-3942672662?position=10&pageNum=32&refId=1sUOgHb8yOVE906TQEogRg%3D%3D&trackingId=HVeu6QWtYnPn4pQputoLZA%3D%3D&trk=public_jobs_jserp-result_search-card\n",
      "Jobs extracted:  191 https://es.linkedin.com/jobs/view/cainiao-intern-program-java-role-madrid-at-cainiao-network-3904209880?position=1&pageNum=35&refId=m8aGXWd9Kkg6GcNVKgN8Mg%3D%3D&trackingId=iTIqgGP%2BZsOzDhLnPGHxIA%3D%3D&trk=public_jobs_jserp-result_search-card\n",
      "Jobs extracted:  192 https://es.linkedin.com/jobs/view/accountant-trainee-with-french-at-mercedes-benz-group-services-madrid-3931399591?position=2&pageNum=35&refId=m8aGXWd9Kkg6GcNVKgN8Mg%3D%3D&trackingId=SdpcIagA1dWuJSup8Htq5Q%3D%3D&trk=public_jobs_jserp-result_search-card\n",
      "Jobs extracted:  193 https://es.linkedin.com/jobs/view/it-trainee-the-barcelona-edition-at-marriott-international-3925268687?position=3&pageNum=35&refId=m8aGXWd9Kkg6GcNVKgN8Mg%3D%3D&trackingId=bDs7sbRN14StvUfe30BLLQ%3D%3D&trk=public_jobs_jserp-result_search-card\n",
      "Jobs extracted:  194 https://es.linkedin.com/jobs/view/contact-center-trainee-at-radisson-hotel-group-3919377573?position=4&pageNum=35&refId=m8aGXWd9Kkg6GcNVKgN8Mg%3D%3D&trackingId=BJ2QNVjvJaMaQq6SnKR6og%3D%3D&trk=public_jobs_jserp-result_search-card\n",
      "Jobs extracted:  195 https://es.linkedin.com/jobs/view/partner-marketing-alliances-intern-at-vonage-3852142346?position=5&pageNum=35&refId=m8aGXWd9Kkg6GcNVKgN8Mg%3D%3D&trackingId=ZhZsYRmxpd3v1S5OXRPuPA%3D%3D&trk=public_jobs_jserp-result_search-card\n",
      "Jobs extracted:  196 https://es.linkedin.com/jobs/view/marketing-trainee-personal-care-at-reckitt-3934204488?position=6&pageNum=35&refId=m8aGXWd9Kkg6GcNVKgN8Mg%3D%3D&trackingId=ooaZ9rATZgkOLoolqRpuyA%3D%3D&trk=public_jobs_jserp-result_search-card\n",
      "Jobs extracted:  197 https://es.linkedin.com/jobs/view/office-student-at-hubert-burda-media-3927878007?position=7&pageNum=35&refId=m8aGXWd9Kkg6GcNVKgN8Mg%3D%3D&trackingId=HD0nNIFDfe7%2F00cjR4Q3cQ%3D%3D&trk=public_jobs_jserp-result_search-card\n",
      "Jobs extracted:  198 https://es.linkedin.com/jobs/view/ejecutivo-de-cuentas-at-multiplatform-content-3940955688?position=8&pageNum=35&refId=m8aGXWd9Kkg6GcNVKgN8Mg%3D%3D&trackingId=nqdtZao%2BQUHr6EpIITAFWw%3D%3D&trk=public_jobs_jserp-result_search-card\n",
      "Jobs extracted:  199 https://es.linkedin.com/jobs/view/product-designer-intern-at-antai-ventures-3933446789?position=9&pageNum=35&refId=m8aGXWd9Kkg6GcNVKgN8Mg%3D%3D&trackingId=QRodg5pAxxFjfCFr7jtQ4Q%3D%3D&trk=public_jobs_jserp-result_search-card\n",
      "Jobs extracted:  200 https://es.linkedin.com/jobs/view/sanofi-graduate-program-bracklet-track-engineer-at-adecco-3933757719?position=10&pageNum=35&refId=m8aGXWd9Kkg6GcNVKgN8Mg%3D%3D&trackingId=QMBh6ayGxRlTtygd3MDgxg%3D%3D&trk=public_jobs_jserp-result_search-card\n",
      "Jobs extracted:  201 https://es.linkedin.com/jobs/view/sales-account-management-intern-at-mygwork-lgbtq%2B-business-community-3852338043?position=1&pageNum=37&refId=9bM8gRFuj%2F0JinfFdwGU6w%3D%3D&trackingId=r2tUvyiWCTF0v7JJ0iWBVg%3D%3D&trk=public_jobs_jserp-result_search-card\n",
      "Jobs extracted:  202 https://es.linkedin.com/jobs/view/customer-support-internship-in-sevilla-spain-at-spain-internship-3918614891?position=2&pageNum=37&refId=9bM8gRFuj%2F0JinfFdwGU6w%3D%3D&trackingId=sS0mz2pCfTVPr1JnXyLCIg%3D%3D&trk=public_jobs_jserp-result_search-card\n",
      "Jobs extracted:  203 https://es.linkedin.com/jobs/view/sales-development-representative-internship-portuguese-speaking-at-ohme-3918857941?position=3&pageNum=37&refId=9bM8gRFuj%2F0JinfFdwGU6w%3D%3D&trackingId=enFp65HxaNkyy2K89L3sxA%3D%3D&trk=public_jobs_jserp-result_search-card\n",
      "Jobs extracted:  204 https://es.linkedin.com/jobs/view/food-process-technology-trainee-m-f-d-%E2%80%93-6-months-internship-orbigo-spain-may-2024-at-mondel%C4%93z-international-3911841726?position=4&pageNum=37&refId=9bM8gRFuj%2F0JinfFdwGU6w%3D%3D&trackingId=5WZWTqdFMrcExpm5YKuRbA%3D%3D&trk=public_jobs_jserp-result_search-card\n",
      "Jobs extracted:  205 https://es.linkedin.com/jobs/view/paid-500-%E2%82%AC-month-italian-operation-assistant-internship-in-barcelona-spain-at-spain-internship-3918617764?position=5&pageNum=37&refId=9bM8gRFuj%2F0JinfFdwGU6w%3D%3D&trackingId=Ucn8bJ3%2Bhjo1UGlMpR4llw%3D%3D&trk=public_jobs_jserp-result_search-card\n",
      "Jobs extracted:  206 https://es.linkedin.com/jobs/view/sales-strategy-intern-at-criteo-3924596740?position=6&pageNum=37&refId=9bM8gRFuj%2F0JinfFdwGU6w%3D%3D&trackingId=RAcZzaQTkyZUgxN8VsOkjg%3D%3D&trk=public_jobs_jserp-result_search-card\n",
      "Jobs extracted:  207 https://es.linkedin.com/jobs/view/circularity-intern-niessen-at-mygwork-lgbtq%2B-business-community-3913494045?position=7&pageNum=37&refId=9bM8gRFuj%2F0JinfFdwGU6w%3D%3D&trackingId=tE6oVbLkX0BUpHLY7x8DqQ%3D%3D&trk=public_jobs_jserp-result_search-card\n",
      "Jobs extracted:  208 https://es.linkedin.com/jobs/view/ehs-intern-at-ge-renewable-energy-3843030711?position=8&pageNum=37&refId=9bM8gRFuj%2F0JinfFdwGU6w%3D%3D&trackingId=lDdNpGvYpQpHTWEWyxZ7rg%3D%3D&trk=public_jobs_jserp-result_search-card\n",
      "Jobs extracted:  209 https://es.linkedin.com/jobs/view/process-engineer-internship-at-wood-3910005012?position=9&pageNum=37&refId=9bM8gRFuj%2F0JinfFdwGU6w%3D%3D&trackingId=tRr%2FVed4xP8L9FrktDuhcw%3D%3D&trk=public_jobs_jserp-result_search-card\n",
      "Jobs extracted:  210 https://es.linkedin.com/jobs/view/2024-business-intern-at-retail-at-mygwork-lgbtq%2B-business-community-3852332285?position=10&pageNum=37&refId=9bM8gRFuj%2F0JinfFdwGU6w%3D%3D&trackingId=5kODCbpvT3bqeGBHj2zUeg%3D%3D&trk=public_jobs_jserp-result_search-card\n",
      "Jobs extracted:  211 https://es.linkedin.com/jobs/view/internship-marketing-automation-consultant-german-at-kapturall-3920119185?position=1&pageNum=40&refId=egHWaBoW%2FLeLj4Y3PUoTgA%3D%3D&trackingId=GD079GMdKgcwMRw36nRuqA%3D%3D&trk=public_jobs_jserp-result_search-card\n",
      "Jobs extracted:  212 https://es.linkedin.com/jobs/view/events-ops-intern-at-ennismore-3904820046?position=2&pageNum=40&refId=egHWaBoW%2FLeLj4Y3PUoTgA%3D%3D&trackingId=kfOjP4rKw8%2F%2Fa0NwkZxNxA%3D%3D&trk=public_jobs_jserp-result_search-card\n",
      "Jobs extracted:  213 https://es.linkedin.com/jobs/view/account-manager-intern-at-xtb-online-investing-3929147636?position=3&pageNum=40&refId=egHWaBoW%2FLeLj4Y3PUoTgA%3D%3D&trackingId=e%2FxHmTUgNy82tp76%2BicABg%3D%3D&trk=public_jobs_jserp-result_search-card\n",
      "Jobs extracted:  214 https://es.linkedin.com/jobs/view/digital-media-sales-intern-m-f-d-at-showheroes-group-3935190525?position=4&pageNum=40&refId=egHWaBoW%2FLeLj4Y3PUoTgA%3D%3D&trackingId=x2R3xwWjfWkpsCirhmPgsw%3D%3D&trk=public_jobs_jserp-result_search-card\n",
      "Jobs extracted:  215 https://es.linkedin.com/jobs/view/logistics-specialist-intern-at-doctor-3922078624?position=5&pageNum=40&refId=egHWaBoW%2FLeLj4Y3PUoTgA%3D%3D&trackingId=9Gm8SSFi7lKjVE%2BTuplIYg%3D%3D&trk=public_jobs_jserp-result_search-card\n",
      "Jobs extracted:  216 https://es.linkedin.com/jobs/view/regional-operations-intern-they-he-she-at-glovo-3931411162?position=6&pageNum=40&refId=egHWaBoW%2FLeLj4Y3PUoTgA%3D%3D&trackingId=S0e0EIdwCHi1QwDYep5AKg%3D%3D&trk=public_jobs_jserp-result_search-card\n",
      "Jobs extracted:  217 https://es.linkedin.com/jobs/view/postdoctoral-researcher-for-the-begin-project-at-barcelona-institute-for-global-health-isglobal-3937590248?position=7&pageNum=40&refId=egHWaBoW%2FLeLj4Y3PUoTgA%3D%3D&trackingId=HXQ4UJazwzlfWZlaP%2B2t3g%3D%3D&trk=public_jobs_jserp-result_search-card\n",
      "Jobs extracted:  218 https://es.linkedin.com/jobs/view/cds-intern-at-circana-3936684817?position=8&pageNum=40&refId=egHWaBoW%2FLeLj4Y3PUoTgA%3D%3D&trackingId=MuwQigBK%2F03mOQQtwLvCWQ%3D%3D&trk=public_jobs_jserp-result_search-card\n",
      "Jobs extracted:  219 https://es.linkedin.com/jobs/view/multilingual-data-analyst-intern-at-morningstar-3936359077?position=9&pageNum=40&refId=egHWaBoW%2FLeLj4Y3PUoTgA%3D%3D&trackingId=xoncjSgg8oj0lJgeU2joRw%3D%3D&trk=public_jobs_jserp-result_search-card\n",
      "Jobs extracted:  220 https://es.linkedin.com/jobs/view/working-student-spare-parts-m-f-d-at-nordex-energy-brasil-3916222554?position=10&pageNum=40&refId=egHWaBoW%2FLeLj4Y3PUoTgA%3D%3D&trackingId=X7t1ND0GegMIcXVfOqwLwA%3D%3D&trk=public_jobs_jserp-result_search-card\n",
      "Jobs extracted:  221 https://es.linkedin.com/jobs/view/environmental-graduate-program-at-quintas-energy-3921389892?position=1&pageNum=42&refId=gdJhcJCBYBgWti9VQODkrA%3D%3D&trackingId=HZjrJXXg%2BgIw0gYVfH5VZw%3D%3D&trk=public_jobs_jserp-result_search-card\n",
      "Jobs extracted:  222 https://es.linkedin.com/jobs/view/programa-de-aprendizaje-mecatr%C3%B3nica-y-mantenimiento-industrial-contrato-de-formaci%C3%B3n-en-alternancia-militares-exmilitares-rme-at-mygwork-lgbtq%2B-business-community-3922432462?position=2&pageNum=42&refId=gdJhcJCBYBgWti9VQODkrA%3D%3D&trackingId=WBsn1AQxUaGjmp33A%2BWBCw%3D%3D&trk=public_jobs_jserp-result_search-card\n",
      "Jobs extracted:  223 https://es.linkedin.com/jobs/view/2024-financial-analyst-intern-at-mygwork-lgbtq%2B-business-community-3852330758?position=3&pageNum=42&refId=gdJhcJCBYBgWti9VQODkrA%3D%3D&trackingId=F3dEcEft20twkGWbaygt%2FQ%3D%3D&trk=public_jobs_jserp-result_search-card\n",
      "Jobs extracted:  224 https://es.linkedin.com/jobs/view/revenue-reservations-trainee-at-mandarin-oriental-hotel-group-3926657443?position=4&pageNum=42&refId=gdJhcJCBYBgWti9VQODkrA%3D%3D&trackingId=RgipiAwuJ9FLBP3T4FLHbg%3D%3D&trk=public_jobs_jserp-result_search-card\n",
      "Jobs extracted:  225 https://es.linkedin.com/jobs/view/beca-ingenier%C3%ADa-civil-%2B-m%C3%A1ster-tic-%E2%80%93-green-transition-sustainability-strategy-at-ntt-data-europe-latam-3920301872?position=5&pageNum=42&refId=gdJhcJCBYBgWti9VQODkrA%3D%3D&trackingId=S6asfG7oh%2BaEz0VQosQnUg%3D%3D&trk=public_jobs_jserp-result_search-card\n",
      "Jobs extracted:  226 https://es.linkedin.com/jobs/view/intern-r-d-at-dtn-3907342781?position=6&pageNum=42&refId=gdJhcJCBYBgWti9VQODkrA%3D%3D&trackingId=3FBuQ2DycR32xI%2FpnuzXAg%3D%3D&trk=public_jobs_jserp-result_search-card\n",
      "Jobs extracted:  227 https://es.linkedin.com/jobs/view/group-operations-strategy-intern-at-verisure-3909135629?position=7&pageNum=42&refId=gdJhcJCBYBgWti9VQODkrA%3D%3D&trackingId=eQKQGuJpbfEDBXcCPevj4A%3D%3D&trk=public_jobs_jserp-result_search-card\n",
      "Jobs extracted:  228 https://es.linkedin.com/jobs/view/foodservice-intern-at-circana-3940951613?position=8&pageNum=42&refId=gdJhcJCBYBgWti9VQODkrA%3D%3D&trackingId=JNh9UtfvAFWP69IH4Iaciw%3D%3D&trk=public_jobs_jserp-result_search-card\n",
      "Jobs extracted:  229 https://es.linkedin.com/jobs/view/pr%C3%A1cticas-de-oficina-t%C3%A9cnica-en-el-%C3%A1rea-comercial-de-valencia-at-legrand-group-espa%C3%B1a-3938386893?position=9&pageNum=42&refId=gdJhcJCBYBgWti9VQODkrA%3D%3D&trackingId=vx1glO0reYkMpxcLVCW%2BcA%3D%3D&trk=public_jobs_jserp-result_search-card\n",
      "Jobs extracted:  230 https://es.linkedin.com/jobs/view/universidad-miguel-hernandez-de-elche-researcher-in-6g-and-5g-v2x-communications-at-join-com-3812318165?position=10&pageNum=42&refId=gdJhcJCBYBgWti9VQODkrA%3D%3D&trackingId=CSIu4ICXIYI6B7e0hi0t5g%3D%3D&trk=public_jobs_jserp-result_search-card\n",
      "Jobs extracted:  231 https://es.linkedin.com/jobs/view/pr%C3%A1cticas-product-solutions-at-denodo-3864672363?position=1&pageNum=45&refId=sa9Y2KHIMgGLQadT5Z9O%2BA%3D%3D&trackingId=DMfaV6ucidfpmAMrHe14ow%3D%3D&trk=public_jobs_jserp-result_search-card\n",
      "Jobs extracted:  232 https://es.linkedin.com/jobs/view/technical-inside-sales-medical-intern-at-mygwork-lgbtq%2B-business-community-3848230668?position=2&pageNum=45&refId=sa9Y2KHIMgGLQadT5Z9O%2BA%3D%3D&trackingId=2Flbcgxn3M%2FmTpZAj68J5w%3D%3D&trk=public_jobs_jserp-result_search-card\n",
      "Jobs extracted:  233 https://es.linkedin.com/jobs/view/working-student-%E2%80%93-onshore-project-management-productivity-program-f-m-x-at-siemens-gamesa-3863894181?position=3&pageNum=45&refId=sa9Y2KHIMgGLQadT5Z9O%2BA%3D%3D&trackingId=IRs5Ys9vhG0E2btNyuafhA%3D%3D&trk=public_jobs_jserp-result_search-card\n",
      "Jobs extracted:  234 https://es.linkedin.com/jobs/view/customer-support-representative-intern-at-mygwork-lgbtq%2B-business-community-3881095612?position=4&pageNum=45&refId=sa9Y2KHIMgGLQadT5Z9O%2BA%3D%3D&trackingId=BMMtOuFJT9GGx42SrzPHsg%3D%3D&trk=public_jobs_jserp-result_search-card\n",
      "Jobs extracted:  235 https://es.linkedin.com/jobs/view/trainee-underwriter-germany-at-chubb-3924574641?position=5&pageNum=45&refId=sa9Y2KHIMgGLQadT5Z9O%2BA%3D%3D&trackingId=DvXF5Ps2uTugYFWMFPjHQA%3D%3D&trk=public_jobs_jserp-result_search-card\n",
      "Jobs extracted:  236 https://es.linkedin.com/jobs/view/grifols-it-trainee-program-at-grifols-3774742623?position=6&pageNum=45&refId=sa9Y2KHIMgGLQadT5Z9O%2BA%3D%3D&trackingId=I3AQmN3HNfG%2FK7Hylpz%2FqA%3D%3D&trk=public_jobs_jserp-result_search-card\n",
      "Jobs extracted:  237 https://es.linkedin.com/jobs/view/postdoc-researcher-for-he-european-project-goliat-at-barcelona-institute-for-global-health-isglobal-3935313674?position=7&pageNum=45&refId=sa9Y2KHIMgGLQadT5Z9O%2BA%3D%3D&trackingId=J2oTsbwCvmwrcEff6uPm1g%3D%3D&trk=public_jobs_jserp-result_search-card\n",
      "Jobs extracted:  238 https://es.linkedin.com/jobs/view/ecommerce-supply-trainee-at-reckitt-3942393782?position=8&pageNum=45&refId=sa9Y2KHIMgGLQadT5Z9O%2BA%3D%3D&trackingId=WGT0%2FO4cAhymcfAf1EF6Yw%3D%3D&trk=public_jobs_jserp-result_search-card\n",
      "Jobs extracted:  239 https://es.linkedin.com/jobs/view/internship-business-development-representative-spanish-speaker-at-digimind-an-onclusive-company-3921025896?position=9&pageNum=45&refId=sa9Y2KHIMgGLQadT5Z9O%2BA%3D%3D&trackingId=p6djbBQ0v27IFf2DrKtEPg%3D%3D&trk=public_jobs_jserp-result_search-card\n",
      "Jobs extracted:  240 https://es.linkedin.com/jobs/view/beca-ux-ui-designer-at-bnp-paribas-personal-finance-3911837477?position=10&pageNum=45&refId=sa9Y2KHIMgGLQadT5Z9O%2BA%3D%3D&trackingId=x8AOdDwsuFsjdOBYtBQayg%3D%3D&trk=public_jobs_jserp-result_search-card\n",
      "Jobs extracted:  241 https://es.linkedin.com/jobs/view/programa-de-aprendizaje-transnacional-alemania-en-mantenimiento-y-mecatr%C3%B3nica-industrial-at-mygwork-lgbtq%2B-business-community-3938864655?position=1&pageNum=47&refId=8NUZg%2BrjS34Msk1pyCcrpg%3D%3D&trackingId=SDLuR8j1vYJww7GPaiBsMg%3D%3D&trk=public_jobs_jserp-result_search-card\n",
      "Jobs extracted:  242 https://es.linkedin.com/jobs/view/becario-de-contabilidad-at-prophero-3932588142?position=2&pageNum=47&refId=8NUZg%2BrjS34Msk1pyCcrpg%3D%3D&trackingId=Y36VafSytBbYTReXQ6cccQ%3D%3D&trk=public_jobs_jserp-result_search-card\n",
      "Jobs extracted:  243 https://es.linkedin.com/jobs/view/programa-de-aprendizaje-mecatr%C3%B3nica-y-mantenimiento-industrial-contrato-de-formaci%C3%B3n-en-alternancia-at-mygwork-lgbtq%2B-business-community-3922433468?position=3&pageNum=47&refId=8NUZg%2BrjS34Msk1pyCcrpg%3D%3D&trackingId=AwjmhQ7sBVbjtltvOjoAmA%3D%3D&trk=public_jobs_jserp-result_search-card\n",
      "Jobs extracted:  244 https://es.linkedin.com/jobs/view/epmo-process-standards-intern-remote-at-westinghouse-electric-company-3891558189?position=4&pageNum=47&refId=8NUZg%2BrjS34Msk1pyCcrpg%3D%3D&trackingId=jqsmIklcin5DCiey%2FZqPvw%3D%3D&trk=public_jobs_jserp-result_search-card\n",
      "Jobs extracted:  245 https://es.linkedin.com/jobs/view/intern-trainee-fia-madrid-at-pwc-espa%C3%B1a-3635855041?position=5&pageNum=47&refId=8NUZg%2BrjS34Msk1pyCcrpg%3D%3D&trackingId=7ZCk38ND4WXH2ik505Bt6w%3D%3D&trk=public_jobs_jserp-result_search-card\n",
      "Jobs extracted:  246 https://es.linkedin.com/jobs/view/group-hr-projects-intern-at-verisure-3934486079?position=6&pageNum=47&refId=8NUZg%2BrjS34Msk1pyCcrpg%3D%3D&trackingId=rN7ZzYKkWpMO%2FVBS6R4uyQ%3D%3D&trk=public_jobs_jserp-result_search-card\n",
      "Jobs extracted:  247 https://es.linkedin.com/jobs/view/employer-branding-intern-at-talent-job-seeker-3943709537?position=7&pageNum=47&refId=8NUZg%2BrjS34Msk1pyCcrpg%3D%3D&trackingId=zbuGJoZyhewoEmmqG%2BHS%2Fg%3D%3D&trk=public_jobs_jserp-result_search-card\n",
      "Jobs extracted:  248 https://es.linkedin.com/jobs/view/programa-de-aprendizaje-transnacional-alemania-en-mantenimiento-y-mecatr%C3%B3nica-industrial-at-mygwork-lgbtq%2B-business-community-3938866341?position=8&pageNum=47&refId=8NUZg%2BrjS34Msk1pyCcrpg%3D%3D&trackingId=ZCilsoR%2BaKlHMfZGkvSQ4Q%3D%3D&trk=public_jobs_jserp-result_search-card\n",
      "Jobs extracted:  249 https://es.linkedin.com/jobs/view/consultor%C3%ADa-i-beca-business-security-solutions-madrid-bilbao-2023-2024-at-pwc-espa%C3%B1a-3812052512?position=9&pageNum=47&refId=8NUZg%2BrjS34Msk1pyCcrpg%3D%3D&trackingId=Hbg5d8avM%2FpRfc4ZuUVYhA%3D%3D&trk=public_jobs_jserp-result_search-card\n",
      "Jobs extracted:  250 https://es.linkedin.com/jobs/view/portuguese-speaker-data-analyst-intern-at-morningstar-3941445875?position=10&pageNum=47&refId=8NUZg%2BrjS34Msk1pyCcrpg%3D%3D&trackingId=o9jNcd52g%2FU8mhqOB%2FoLZA%3D%3D&trk=public_jobs_jserp-result_search-card\n",
      "Jobs extracted:  251 https://es.linkedin.com/jobs/view/programa-de-aprendizaje-mecatr%C3%B3nica-y-mantenimiento-industrial-contrato-de-formaci%C3%B3n-en-alternancia-at-mygwork-lgbtq%2B-business-community-3922430468?position=1&pageNum=50&refId=P%2FGc%2BVYo2HY6JfurQL3Q9A%3D%3D&trackingId=2tDsIUHHtS%2F63BwjsWy66w%3D%3D&trk=public_jobs_jserp-result_search-card\n",
      "Jobs extracted:  252 https://es.linkedin.com/jobs/view/industrial-engineer-trainee-m-f-d-12-months-internship-granollers-near-barcelona-may-june-at-mondel%C4%93z-international-3930212232?position=2&pageNum=50&refId=P%2FGc%2BVYo2HY6JfurQL3Q9A%3D%3D&trackingId=etVt6I3cci0nqiQV57fm4A%3D%3D&trk=public_jobs_jserp-result_search-card\n",
      "Jobs extracted:  253 https://es.linkedin.com/jobs/view/sales-development-representative-intern-latam-at-wallbox-chargers-3931281991?position=3&pageNum=50&refId=P%2FGc%2BVYo2HY6JfurQL3Q9A%3D%3D&trackingId=PCGeGeQ5yH2Ii96jA0ZCYA%3D%3D&trk=public_jobs_jserp-result_search-card\n",
      "Jobs extracted:  254 https://es.linkedin.com/jobs/view/integrated-sales-and-marketing-training-and-data-management-stp24-at-schneider-electric-3930707139?position=4&pageNum=50&refId=P%2FGc%2BVYo2HY6JfurQL3Q9A%3D%3D&trackingId=Xf2xh9ljc8XQ5Ew05ESQhA%3D%3D&trk=public_jobs_jserp-result_search-card\n",
      "Jobs extracted:  255 https://es.linkedin.com/jobs/view/corporate-commercial-excellence-intern-at-neuraxpharm-3819560373?position=5&pageNum=50&refId=P%2FGc%2BVYo2HY6JfurQL3Q9A%3D%3D&trackingId=kSb0DN3O2MtdbJyQ3SYwdw%3D%3D&trk=public_jobs_jserp-result_search-card\n",
      "Jobs extracted:  256 https://es.linkedin.com/jobs/view/gmv-summer-internhips-2024-at-gmv-3884268659?position=6&pageNum=50&refId=P%2FGc%2BVYo2HY6JfurQL3Q9A%3D%3D&trackingId=dfuyPIgTx77%2F3lpYfg3X0A%3D%3D&trk=public_jobs_jserp-result_search-card\n",
      "Jobs extracted:  257 https://es.linkedin.com/jobs/view/airport-planner-trainee-digital-at-arup-3845938126?position=7&pageNum=50&refId=P%2FGc%2BVYo2HY6JfurQL3Q9A%3D%3D&trackingId=%2BJtcc%2B%2BlgUUiYjEdzJZYyw%3D%3D&trk=public_jobs_jserp-result_search-card\n",
      "Jobs extracted:  258 https://es.linkedin.com/jobs/view/beca-en-automatizaci%C3%B3n-engineering-at-haleon-3903736469?position=8&pageNum=50&refId=P%2FGc%2BVYo2HY6JfurQL3Q9A%3D%3D&trackingId=ZLFvQoqXWmas10cJXQMe9g%3D%3D&trk=public_jobs_jserp-result_search-card\n",
      "Jobs extracted:  259 https://es.linkedin.com/jobs/view/internship-industrial-marketing-western-europe-at-henkel-3937299040?position=9&pageNum=50&refId=P%2FGc%2BVYo2HY6JfurQL3Q9A%3D%3D&trackingId=1gQqfBxPNDxFHH6GmaSo3Q%3D%3D&trk=public_jobs_jserp-result_search-card\n",
      "Jobs extracted:  260 https://es.linkedin.com/jobs/view/digital-marketing-internship-in-tenerife-german-speaking-at-optimanova-solutions-3940590608?position=10&pageNum=50&refId=P%2FGc%2BVYo2HY6JfurQL3Q9A%3D%3D&trackingId=0YjFDTUdukpSHUzDEQ6ZOQ%3D%3D&trk=public_jobs_jserp-result_search-card\n",
      "Jobs extracted:  261 https://es.linkedin.com/jobs/view/professional-services-intern-at-netapp-3919822577?position=1&pageNum=52&refId=Z3uoB%2F8MZx3%2BKlE2D9%2FWjA%3D%3D&trackingId=QL5K%2B%2FiktBlrhxcyJPEDRg%3D%3D&trk=public_jobs_jserp-result_search-card\n",
      "Jobs extracted:  262 https://es.linkedin.com/jobs/view/finance-graduate-program-fgp-at-coca-cola-europacific-partners-3942684665?position=2&pageNum=52&refId=Z3uoB%2F8MZx3%2BKlE2D9%2FWjA%3D%3D&trackingId=3AMQBI4C%2BILXvf9NSMdbsQ%3D%3D&trk=public_jobs_jserp-result_search-card\n",
      "Jobs extracted:  263 https://es.linkedin.com/jobs/view/demand-planning-internship-supply-chain-at-verisure-3941687248?position=3&pageNum=52&refId=Z3uoB%2F8MZx3%2BKlE2D9%2FWjA%3D%3D&trackingId=nS0hBYPcfspQGbOJHqeoRA%3D%3D&trk=public_jobs_jserp-result_search-card\n",
      "Jobs extracted:  264 https://es.linkedin.com/jobs/view/trainee-underwriter-benelux-at-chubb-3924576549?position=4&pageNum=52&refId=Z3uoB%2F8MZx3%2BKlE2D9%2FWjA%3D%3D&trackingId=KkeW3Zb5iTYNrMC%2BA%2FpllQ%3D%3D&trk=public_jobs_jserp-result_search-card\n",
      "Jobs extracted:  265 https://es.linkedin.com/jobs/view/legal-intern-at-ipc-systems-inc-3921389919?position=5&pageNum=52&refId=Z3uoB%2F8MZx3%2BKlE2D9%2FWjA%3D%3D&trackingId=nn3VGhh%2BlI6A8Q5LUezfHQ%3D%3D&trk=public_jobs_jserp-result_search-card\n",
      "Jobs extracted:  266 https://es.linkedin.com/jobs/view/working-student-operation-management-at-siemens-gamesa-3908223541?position=6&pageNum=52&refId=Z3uoB%2F8MZx3%2BKlE2D9%2FWjA%3D%3D&trackingId=rwUYP30XllUEYwwn%2BGtpWQ%3D%3D&trk=public_jobs_jserp-result_search-card\n",
      "Jobs extracted:  267 https://es.linkedin.com/jobs/view/working-student-towers-procurement-f-m-x-at-siemens-gamesa-3814628896?position=7&pageNum=52&refId=Z3uoB%2F8MZx3%2BKlE2D9%2FWjA%3D%3D&trackingId=XtRZFpwat%2Bzk%2Fh5EiLRt9Q%3D%3D&trk=public_jobs_jserp-result_search-card\n",
      "Jobs extracted:  268 https://es.linkedin.com/jobs/view/working-student-%E2%80%93-onshore-project-management-productivity-program-f-m-x-at-siemens-gamesa-3863889803?position=8&pageNum=52&refId=Z3uoB%2F8MZx3%2BKlE2D9%2FWjA%3D%3D&trackingId=SCXAZ9gAthnKNP9jz0JGnQ%3D%3D&trk=public_jobs_jserp-result_search-card\n",
      "Jobs extracted:  269 https://es.linkedin.com/jobs/view/working-student-%E2%80%93-coi-mbp-at-siemens-gamesa-3814633315?position=9&pageNum=52&refId=Z3uoB%2F8MZx3%2BKlE2D9%2FWjA%3D%3D&trackingId=L9lFxJ0loHo1CDMCQSOORQ%3D%3D&trk=public_jobs_jserp-result_search-card\n",
      "Jobs extracted:  270 https://es.linkedin.com/jobs/view/content-writer-internship-french-market-at-factorial-3935365514?position=10&pageNum=52&refId=Z3uoB%2F8MZx3%2BKlE2D9%2FWjA%3D%3D&trackingId=5A0VOiE0be28GA9NX%2BDa9w%3D%3D&trk=public_jobs_jserp-result_search-card\n",
      "Jobs extracted:  271 https://es.linkedin.com/jobs/view/sales-development-representative-sdr-internship-new-markets-eastern-europe-at-wallbox-chargers-3919300492?position=1&pageNum=55&refId=NfeSfrOS6SXmVTbNpOAEQQ%3D%3D&trackingId=uRqdjlFl785yUmWpRLXwQw%3D%3D&trk=public_jobs_jserp-result_search-card\n",
      "Jobs extracted:  272 https://es.linkedin.com/jobs/view/%23beca-ahe-technical-data-engineer-scholarship-at-airbus-helicopters-3930584145?position=2&pageNum=55&refId=NfeSfrOS6SXmVTbNpOAEQQ%3D%3D&trackingId=Do0Vlh2UjMQ9tpeuE9j6aQ%3D%3D&trk=public_jobs_jserp-result_search-card\n",
      "Jobs extracted:  273 https://es.linkedin.com/jobs/view/cytric-solutions-commercial-operations-trainee-at-amadeus-3938785754?position=3&pageNum=55&refId=NfeSfrOS6SXmVTbNpOAEQQ%3D%3D&trackingId=TdgT4aPJvyGx82Vz%2BehXGQ%3D%3D&trk=public_jobs_jserp-result_search-card\n",
      "Jobs extracted:  274 https://es.linkedin.com/jobs/view/schneider-universal-enclosures-performance-intern-stp24-at-schneider-electric-3930705142?position=4&pageNum=55&refId=NfeSfrOS6SXmVTbNpOAEQQ%3D%3D&trackingId=Q%2Fd120USalULX7A0qgpuqw%3D%3D&trk=public_jobs_jserp-result_search-card\n",
      "Jobs extracted:  275 https://es.linkedin.com/jobs/view/account-strategist-intern-italian-speaker-at-mygwork-lgbtq%2B-business-community-3868054706?position=5&pageNum=55&refId=NfeSfrOS6SXmVTbNpOAEQQ%3D%3D&trackingId=JBE8EfjzGclWHdGsOZjafg%3D%3D&trk=public_jobs_jserp-result_search-card\n",
      "Jobs extracted:  276 https://es.linkedin.com/jobs/view/data-scientist-stager-at-mango-3931805594?position=6&pageNum=55&refId=NfeSfrOS6SXmVTbNpOAEQQ%3D%3D&trackingId=XzbDxrlJPffQjHA2HlWsNw%3D%3D&trk=public_jobs_jserp-result_search-card\n",
      "Jobs extracted:  277 https://es.linkedin.com/jobs/view/accounting-trainee-at-td-synnex-3936245991?position=7&pageNum=55&refId=NfeSfrOS6SXmVTbNpOAEQQ%3D%3D&trackingId=Ke8IoKnFVtY87elpUkpF9g%3D%3D&trk=public_jobs_jserp-result_search-card\n",
      "Jobs extracted:  278 https://es.linkedin.com/jobs/view/hr-strategy-c-b-intern-at-verisure-3943452765?position=8&pageNum=55&refId=NfeSfrOS6SXmVTbNpOAEQQ%3D%3D&trackingId=rRuWzzVuMx8GytA3u%2Fblaw%3D%3D&trk=public_jobs_jserp-result_search-card\n",
      "Jobs extracted:  279 https://es.linkedin.com/jobs/view/stage-canada-2024-analyste-strat%C3%A9gie-performance-en-production-internship-canada-2024-strategic-performance-in-production-analyst-at-airbus-3928567951?position=9&pageNum=55&refId=NfeSfrOS6SXmVTbNpOAEQQ%3D%3D&trackingId=2BnOQV6ShxkfGrcm3HDznw%3D%3D&trk=public_jobs_jserp-result_search-card\n",
      "Jobs extracted:  280 https://es.linkedin.com/jobs/view/predoctoral-contract-in-extragalactic-radio-astronomy-at-universidad-complutense-de-madrid-3940170883?position=10&pageNum=55&refId=NfeSfrOS6SXmVTbNpOAEQQ%3D%3D&trackingId=RgRiWNddUn0OSYlPx44CyQ%3D%3D&trk=public_jobs_jserp-result_search-card\n",
      "Jobs extracted:  281 https://es.linkedin.com/jobs/view/%23discover-ii-2024-supply-chain-quality-management-support-at-airbus-3928571903?position=1&pageNum=57&refId=qE%2BzTuT2XxVU%2FvSawMJ1bA%3D%3D&trackingId=3R0CxN%2BjFFGWNfVrqubwlw%3D%3D&trk=public_jobs_jserp-result_search-card\n",
      "Jobs extracted:  282 https://es.linkedin.com/jobs/view/working-student-towers-procurement-f-m-x-at-siemens-gamesa-3814628897?position=2&pageNum=57&refId=qE%2BzTuT2XxVU%2FvSawMJ1bA%3D%3D&trackingId=y15zMEtqCIFKXgHNlY6ylA%3D%3D&trk=public_jobs_jserp-result_search-card\n",
      "Jobs extracted:  283 https://es.linkedin.com/jobs/view/%23discover-ii-2024-supply-chain-quality-management-support-at-airbus-3928573809?position=3&pageNum=57&refId=qE%2BzTuT2XxVU%2FvSawMJ1bA%3D%3D&trackingId=b22%2BdYE6PKgm%2BTj1X5CsTw%3D%3D&trk=public_jobs_jserp-result_search-card\n",
      "Jobs extracted:  284 https://es.linkedin.com/jobs/view/%23discover-ii-2024-internship-quality-manufacturing-engineering-at-airbus-3928571893?position=4&pageNum=57&refId=qE%2BzTuT2XxVU%2FvSawMJ1bA%3D%3D&trackingId=5aHVKNuyIvtSS%2BFZRNWCQg%3D%3D&trk=public_jobs_jserp-result_search-card\n",
      "Jobs extracted:  285 https://es.linkedin.com/jobs/view/agency-account-strategist-intern-italy-at-criteo-3942341045?position=5&pageNum=57&refId=qE%2BzTuT2XxVU%2FvSawMJ1bA%3D%3D&trackingId=eGaHrM8zAZLPefqBgGPugw%3D%3D&trk=public_jobs_jserp-result_search-card\n",
      "Jobs extracted:  286 https://es.linkedin.com/jobs/view/finance-internship-july-2024-at-kraft-heinz-3861558979?position=6&pageNum=57&refId=qE%2BzTuT2XxVU%2FvSawMJ1bA%3D%3D&trackingId=cmyXE%2BomDwuVktHZnXmSvQ%3D%3D&trk=public_jobs_jserp-result_search-card\n",
      "Jobs extracted:  287 https://es.linkedin.com/jobs/view/customer-support-representative-intern-at-morningstar-3883505549?position=7&pageNum=57&refId=qE%2BzTuT2XxVU%2FvSawMJ1bA%3D%3D&trackingId=Y5kDsT0u6f2xaeDcQE%2BvDA%3D%3D&trk=public_jobs_jserp-result_search-card\n",
      "Jobs extracted:  288 https://es.linkedin.com/jobs/view/2018-10-02-post-doctoral-position-mr-guided-focused-ultrasound-in-experimental-model-18-months-at-institut-du-cerveau-%E2%80%93-paris-brain-institute-3929092222?position=8&pageNum=57&refId=qE%2BzTuT2XxVU%2FvSawMJ1bA%3D%3D&trackingId=nlZ0qFt2yztG3NzyA33A4w%3D%3D&trk=public_jobs_jserp-result_search-card\n",
      "Jobs extracted:  289 https://es.linkedin.com/jobs/view/%23discover-ii-2024-supply-chain-quality-management-support-at-airbus-3928572829?position=9&pageNum=57&refId=qE%2BzTuT2XxVU%2FvSawMJ1bA%3D%3D&trackingId=eJK5AZWfUCmKYOT2ajCvRw%3D%3D&trk=public_jobs_jserp-result_search-card\n",
      "Jobs extracted:  290 https://es.linkedin.com/jobs/view/publisher-account-executive-trainee-french-speaker-at-seedtag-3830003257?position=10&pageNum=57&refId=qE%2BzTuT2XxVU%2FvSawMJ1bA%3D%3D&trackingId=gDakj%2BXrW2bcSuBhbZMyZw%3D%3D&trk=public_jobs_jserp-result_search-card\n",
      "Error extracting data from a job card: Message: no such element: Unable to locate element: {\"method\":\"css selector\",\"selector\":\".base-card__full-link\"}\n",
      "  (Session info: chrome=125.0.6422.141); For documentation on this error, please visit: https://www.selenium.dev/documentation/webdriver/troubleshooting/errors#no-such-element-exception\n",
      "Stacktrace:\n",
      "\tGetHandleVerifier [0x00007FF7BB2E1F52+60322]\n",
      "\t(No symbol) [0x00007FF7BB25CEC9]\n",
      "\t(No symbol) [0x00007FF7BB117EBA]\n",
      "\t(No symbol) [0x00007FF7BB167676]\n",
      "\t(No symbol) [0x00007FF7BB16773C]\n",
      "\t(No symbol) [0x00007FF7BB15AEEC]\n",
      "\t(No symbol) [0x00007FF7BB18C25F]\n",
      "\t(No symbol) [0x00007FF7BB15ADB6]\n",
      "\t(No symbol) [0x00007FF7BB18C430]\n",
      "\t(No symbol) [0x00007FF7BB1ABC80]\n",
      "\t(No symbol) [0x00007FF7BB18BFC3]\n",
      "\t(No symbol) [0x00007FF7BB159617]\n",
      "\t(No symbol) [0x00007FF7BB15A211]\n",
      "\tGetHandleVerifier [0x00007FF7BB5F94AD+3301629]\n",
      "\tGetHandleVerifier [0x00007FF7BB6436D3+3605283]\n",
      "\tGetHandleVerifier [0x00007FF7BB639450+3563680]\n",
      "\tGetHandleVerifier [0x00007FF7BB394326+790390]\n",
      "\t(No symbol) [0x00007FF7BB26750F]\n",
      "\t(No symbol) [0x00007FF7BB263404]\n",
      "\t(No symbol) [0x00007FF7BB263592]\n",
      "\t(No symbol) [0x00007FF7BB252F9F]\n",
      "\tBaseThreadInitThunk [0x00007FFF1E557344+20]\n",
      "\tRtlUserThreadStart [0x00007FFF205626B1+33]\n",
      "\n",
      "Jobs extracted:  291 https://es.linkedin.com/jobs/view/ext-buying-professional-working-student-at-siemens-gamesa-3903442689?position=2&pageNum=60&refId=poitRuMla96pDZv2fQ3KbA%3D%3D&trackingId=fSFCof4sAlZDvIaLtOCX6Q%3D%3D&trk=public_jobs_jserp-result_search-card\n",
      "Jobs extracted:  292 https://es.linkedin.com/jobs/view/neuroimaging-postdoc-para-el-laboratorio-de-imagen-cardiovascular-y-estudios-poblacionales-at-cnic-spanish-national-center-for-cardiovascular-research-centro-nac-investigaciones-cardiovasc-3931278886?position=3&pageNum=60&refId=poitRuMla96pDZv2fQ3KbA%3D%3D&trackingId=BnXn9eMNzgCL0atl0btTjA%3D%3D&trk=public_jobs_jserp-result_search-card\n",
      "Jobs extracted:  293 https://es.linkedin.com/jobs/view/sales-internship-july-2024-at-kraft-heinz-3849369348?position=4&pageNum=60&refId=poitRuMla96pDZv2fQ3KbA%3D%3D&trackingId=G32Eu%2Fy5HZCsIZBbQzQpBQ%3D%3D&trk=public_jobs_jserp-result_search-card\n",
      "Jobs extracted:  294 https://es.linkedin.com/jobs/view/project-engineering-software-engineer-intern-at-dtn-3907340931?position=5&pageNum=60&refId=poitRuMla96pDZv2fQ3KbA%3D%3D&trackingId=pXoVHCOWuP%2F47iwAFQPgDw%3D%3D&trk=public_jobs_jserp-result_search-card\n",
      "Error extracting data from a job card: Message: no such element: Unable to locate element: {\"method\":\"css selector\",\"selector\":\".base-card__full-link\"}\n",
      "  (Session info: chrome=125.0.6422.141); For documentation on this error, please visit: https://www.selenium.dev/documentation/webdriver/troubleshooting/errors#no-such-element-exception\n",
      "Stacktrace:\n",
      "\tGetHandleVerifier [0x00007FF7BB2E1F52+60322]\n",
      "\t(No symbol) [0x00007FF7BB25CEC9]\n",
      "\t(No symbol) [0x00007FF7BB117EBA]\n",
      "\t(No symbol) [0x00007FF7BB167676]\n",
      "\t(No symbol) [0x00007FF7BB16773C]\n",
      "\t(No symbol) [0x00007FF7BB15AEEC]\n",
      "\t(No symbol) [0x00007FF7BB18C25F]\n",
      "\t(No symbol) [0x00007FF7BB15ADB6]\n",
      "\t(No symbol) [0x00007FF7BB18C430]\n",
      "\t(No symbol) [0x00007FF7BB1ABC80]\n",
      "\t(No symbol) [0x00007FF7BB18BFC3]\n",
      "\t(No symbol) [0x00007FF7BB159617]\n",
      "\t(No symbol) [0x00007FF7BB15A211]\n",
      "\tGetHandleVerifier [0x00007FF7BB5F94AD+3301629]\n",
      "\tGetHandleVerifier [0x00007FF7BB6436D3+3605283]\n",
      "\tGetHandleVerifier [0x00007FF7BB639450+3563680]\n",
      "\tGetHandleVerifier [0x00007FF7BB394326+790390]\n",
      "\t(No symbol) [0x00007FF7BB26750F]\n",
      "\t(No symbol) [0x00007FF7BB263404]\n",
      "\t(No symbol) [0x00007FF7BB263592]\n",
      "\t(No symbol) [0x00007FF7BB252F9F]\n",
      "\tBaseThreadInitThunk [0x00007FFF1E557344+20]\n",
      "\tRtlUserThreadStart [0x00007FFF205626B1+33]\n",
      "\n",
      "Jobs extracted:  295 https://es.linkedin.com/jobs/view/aftermarket-sales-trainee-at-siemens-gamesa-3814628878?position=7&pageNum=60&refId=poitRuMla96pDZv2fQ3KbA%3D%3D&trackingId=dRB%2FZ5D24DbpQA%2BDvIBkEQ%3D%3D&trk=public_jobs_jserp-result_search-card\n",
      "Jobs extracted:  296 https://es.linkedin.com/jobs/view/%23discover-ii-2024-buyer-internship-at-airbus-3928571900?position=8&pageNum=60&refId=poitRuMla96pDZv2fQ3KbA%3D%3D&trackingId=qhW1SkKQ%2BTBnNFbt%2Fs06pQ%3D%3D&trk=public_jobs_jserp-result_search-card\n",
      "Jobs extracted:  297 https://es.linkedin.com/jobs/view/%23discover-ii-2024-support-to-customer-services-for-engineering-maintenance-spain-at-airbus-3928946810?position=9&pageNum=60&refId=poitRuMla96pDZv2fQ3KbA%3D%3D&trackingId=NCBAg9xK75YMK8PkiFSHJw%3D%3D&trk=public_jobs_jserp-result_search-card\n",
      "Jobs extracted:  298 https://es.linkedin.com/jobs/view/stage-canada-2024-innovation-industrielle-et-digitalisation-vsm-a220-internship-canada-2024-vsm-a220-digitalization-and-industrial-innovation-at-airbus-3928573805?position=10&pageNum=60&refId=poitRuMla96pDZv2fQ3KbA%3D%3D&trackingId=jL0ttbOXay%2F%2FF9Zq6W8rHA%3D%3D&trk=public_jobs_jserp-result_search-card\n"
     ]
    }
   ],
   "source": [
    "#Let's initiate some lists\n",
    "CompanyName = []\n",
    "JobTitle= []\n",
    "place = []\n",
    "posted_date = []\n",
    "urlPost = []\n",
    "# Let's iterate through all the cards to extract some data: \n",
    "j = 0\n",
    "for job_card in job_cards:\n",
    "    try:\n",
    "        company = job_card.find_element(By.CLASS_NAME, 'base-search-card__subtitle').text\n",
    "        title = job_card.find_element(By.CLASS_NAME, 'base-search-card__title').text\n",
    "        location = job_card.find_element(By.CLASS_NAME, 'job-search-card__location').text\n",
    "        date = job_card.find_element(By.XPATH, './/time[contains(@class, \"job-search-card__listdate\")]').get_attribute('datetime')\n",
    "        linkPost = job_card.find_element(By.CLASS_NAME, 'base-card__full-link').get_attribute('href')\n",
    "        \n",
    "        CompanyName.append(company)\n",
    "        JobTitle.append(title)\n",
    "        place.append(location)\n",
    "        urlPost.append(linkPost)\n",
    "        posted_date.append(date)\n",
    "        \n",
    "        j = j+1\n",
    "        print('Jobs extracted: ', j,linkPost)\n",
    "\n",
    "    except Exception as e:\n",
    "        print(f\"Error extracting data from a job card: {e}\")\n",
    "        pass\n",
    "\n",
    "# Print extracted data\n",
    "data = {\n",
    "    'Company Name': CompanyName,\n",
    "    'Job Title': JobTitle,\n",
    "    'location': place,\n",
    "    'Job URL': urlPost,\n",
    "    'Date' : posted_date\n",
    "}\n",
    "jobs_df = pd.DataFrame(data)\n",
    "jobs_df.to_csv(\"first_attempt_jobs.csv\")"
   ]
  },
  {
   "cell_type": "code",
   "execution_count": 50,
   "metadata": {},
   "outputs": [
    {
     "ename": "NoSuchElementException",
     "evalue": "Message: no such element: Unable to locate element: {\"method\":\"css selector\",\"selector\":\".num-applicants__caption\"}\n  (Session info: chrome=125.0.6422.141); For documentation on this error, please visit: https://www.selenium.dev/documentation/webdriver/troubleshooting/errors#no-such-element-exception\nStacktrace:\n\tGetHandleVerifier [0x00007FF7BB2E1F52+60322]\n\t(No symbol) [0x00007FF7BB25CEC9]\n\t(No symbol) [0x00007FF7BB117EBA]\n\t(No symbol) [0x00007FF7BB167676]\n\t(No symbol) [0x00007FF7BB16773C]\n\t(No symbol) [0x00007FF7BB1AE967]\n\t(No symbol) [0x00007FF7BB18C25F]\n\t(No symbol) [0x00007FF7BB1ABC80]\n\t(No symbol) [0x00007FF7BB18BFC3]\n\t(No symbol) [0x00007FF7BB159617]\n\t(No symbol) [0x00007FF7BB15A211]\n\tGetHandleVerifier [0x00007FF7BB5F94AD+3301629]\n\tGetHandleVerifier [0x00007FF7BB6436D3+3605283]\n\tGetHandleVerifier [0x00007FF7BB639450+3563680]\n\tGetHandleVerifier [0x00007FF7BB394326+790390]\n\t(No symbol) [0x00007FF7BB26750F]\n\t(No symbol) [0x00007FF7BB263404]\n\t(No symbol) [0x00007FF7BB263592]\n\t(No symbol) [0x00007FF7BB252F9F]\n\tBaseThreadInitThunk [0x00007FFF1E557344+20]\n\tRtlUserThreadStart [0x00007FFF205626B1+33]\n",
     "output_type": "error",
     "traceback": [
      "\u001b[1;31m---------------------------------------------------------------------------\u001b[0m",
      "\u001b[1;31mNoSuchElementException\u001b[0m                    Traceback (most recent call last)",
      "Cell \u001b[1;32mIn[50], line 25\u001b[0m\n\u001b[0;32m     22\u001b[0m \u001b[38;5;28;01mexcept\u001b[39;00m:\n\u001b[0;32m     23\u001b[0m         \u001b[38;5;28;01mpass\u001b[39;00m\n\u001b[1;32m---> 25\u001b[0m num_applicants \u001b[38;5;241m=\u001b[39m \u001b[43mdriver\u001b[49m\u001b[38;5;241;43m.\u001b[39;49m\u001b[43mfind_element\u001b[49m\u001b[43m(\u001b[49m\u001b[43mBy\u001b[49m\u001b[38;5;241;43m.\u001b[39;49m\u001b[43mCLASS_NAME\u001b[49m\u001b[43m,\u001b[49m\u001b[43m \u001b[49m\u001b[38;5;124;43m'\u001b[39;49m\u001b[38;5;124;43mnum-applicants__caption\u001b[39;49m\u001b[38;5;124;43m'\u001b[39;49m\u001b[43m)\u001b[49m\u001b[38;5;241m.\u001b[39mtext\u001b[38;5;241m.\u001b[39mreplace(\u001b[38;5;124m'\u001b[39m\u001b[38;5;124m applicants\u001b[39m\u001b[38;5;124m'\u001b[39m, \u001b[38;5;124m'\u001b[39m\u001b[38;5;124m'\u001b[39m)\u001b[38;5;241m.\u001b[39mstrip()\n\u001b[0;32m     26\u001b[0m experience_level \u001b[38;5;241m=\u001b[39m driver\u001b[38;5;241m.\u001b[39mfind_element(By\u001b[38;5;241m.\u001b[39mXPATH, \u001b[38;5;124m'\u001b[39m\u001b[38;5;124m.//ul[contains(@class, \u001b[39m\u001b[38;5;124m\"\u001b[39m\u001b[38;5;124mdescription__job-criteria-list\u001b[39m\u001b[38;5;124m\"\u001b[39m\u001b[38;5;124m)]/li[1]/span\u001b[39m\u001b[38;5;124m'\u001b[39m)\u001b[38;5;241m.\u001b[39mtext\n\u001b[0;32m     27\u001b[0m employment_type \u001b[38;5;241m=\u001b[39m driver\u001b[38;5;241m.\u001b[39mfind_element(By\u001b[38;5;241m.\u001b[39mXPATH, \u001b[38;5;124m'\u001b[39m\u001b[38;5;124m.//ul[contains(@class, \u001b[39m\u001b[38;5;124m\"\u001b[39m\u001b[38;5;124mdescription__job-criteria-list\u001b[39m\u001b[38;5;124m\"\u001b[39m\u001b[38;5;124m)]/li[2]/span\u001b[39m\u001b[38;5;124m'\u001b[39m)\u001b[38;5;241m.\u001b[39mtext\n",
      "File \u001b[1;32md:\\DATA\\Projects\\Linkedin-Jobs-Scrapping\\LJS\\Lib\\site-packages\\selenium\\webdriver\\remote\\webdriver.py:741\u001b[0m, in \u001b[0;36mWebDriver.find_element\u001b[1;34m(self, by, value)\u001b[0m\n\u001b[0;32m    738\u001b[0m     by \u001b[38;5;241m=\u001b[39m By\u001b[38;5;241m.\u001b[39mCSS_SELECTOR\n\u001b[0;32m    739\u001b[0m     value \u001b[38;5;241m=\u001b[39m \u001b[38;5;124mf\u001b[39m\u001b[38;5;124m'\u001b[39m\u001b[38;5;124m[name=\u001b[39m\u001b[38;5;124m\"\u001b[39m\u001b[38;5;132;01m{\u001b[39;00mvalue\u001b[38;5;132;01m}\u001b[39;00m\u001b[38;5;124m\"\u001b[39m\u001b[38;5;124m]\u001b[39m\u001b[38;5;124m'\u001b[39m\n\u001b[1;32m--> 741\u001b[0m \u001b[38;5;28;01mreturn\u001b[39;00m \u001b[38;5;28;43mself\u001b[39;49m\u001b[38;5;241;43m.\u001b[39;49m\u001b[43mexecute\u001b[49m\u001b[43m(\u001b[49m\u001b[43mCommand\u001b[49m\u001b[38;5;241;43m.\u001b[39;49m\u001b[43mFIND_ELEMENT\u001b[49m\u001b[43m,\u001b[49m\u001b[43m \u001b[49m\u001b[43m{\u001b[49m\u001b[38;5;124;43m\"\u001b[39;49m\u001b[38;5;124;43musing\u001b[39;49m\u001b[38;5;124;43m\"\u001b[39;49m\u001b[43m:\u001b[49m\u001b[43m \u001b[49m\u001b[43mby\u001b[49m\u001b[43m,\u001b[49m\u001b[43m \u001b[49m\u001b[38;5;124;43m\"\u001b[39;49m\u001b[38;5;124;43mvalue\u001b[39;49m\u001b[38;5;124;43m\"\u001b[39;49m\u001b[43m:\u001b[49m\u001b[43m \u001b[49m\u001b[43mvalue\u001b[49m\u001b[43m}\u001b[49m\u001b[43m)\u001b[49m[\u001b[38;5;124m\"\u001b[39m\u001b[38;5;124mvalue\u001b[39m\u001b[38;5;124m\"\u001b[39m]\n",
      "File \u001b[1;32md:\\DATA\\Projects\\Linkedin-Jobs-Scrapping\\LJS\\Lib\\site-packages\\selenium\\webdriver\\remote\\webdriver.py:347\u001b[0m, in \u001b[0;36mWebDriver.execute\u001b[1;34m(self, driver_command, params)\u001b[0m\n\u001b[0;32m    345\u001b[0m response \u001b[38;5;241m=\u001b[39m \u001b[38;5;28mself\u001b[39m\u001b[38;5;241m.\u001b[39mcommand_executor\u001b[38;5;241m.\u001b[39mexecute(driver_command, params)\n\u001b[0;32m    346\u001b[0m \u001b[38;5;28;01mif\u001b[39;00m response:\n\u001b[1;32m--> 347\u001b[0m     \u001b[38;5;28;43mself\u001b[39;49m\u001b[38;5;241;43m.\u001b[39;49m\u001b[43merror_handler\u001b[49m\u001b[38;5;241;43m.\u001b[39;49m\u001b[43mcheck_response\u001b[49m\u001b[43m(\u001b[49m\u001b[43mresponse\u001b[49m\u001b[43m)\u001b[49m\n\u001b[0;32m    348\u001b[0m     response[\u001b[38;5;124m\"\u001b[39m\u001b[38;5;124mvalue\u001b[39m\u001b[38;5;124m\"\u001b[39m] \u001b[38;5;241m=\u001b[39m \u001b[38;5;28mself\u001b[39m\u001b[38;5;241m.\u001b[39m_unwrap_value(response\u001b[38;5;241m.\u001b[39mget(\u001b[38;5;124m\"\u001b[39m\u001b[38;5;124mvalue\u001b[39m\u001b[38;5;124m\"\u001b[39m, \u001b[38;5;28;01mNone\u001b[39;00m))\n\u001b[0;32m    349\u001b[0m     \u001b[38;5;28;01mreturn\u001b[39;00m response\n",
      "File \u001b[1;32md:\\DATA\\Projects\\Linkedin-Jobs-Scrapping\\LJS\\Lib\\site-packages\\selenium\\webdriver\\remote\\errorhandler.py:229\u001b[0m, in \u001b[0;36mErrorHandler.check_response\u001b[1;34m(self, response)\u001b[0m\n\u001b[0;32m    227\u001b[0m         alert_text \u001b[38;5;241m=\u001b[39m value[\u001b[38;5;124m\"\u001b[39m\u001b[38;5;124malert\u001b[39m\u001b[38;5;124m\"\u001b[39m]\u001b[38;5;241m.\u001b[39mget(\u001b[38;5;124m\"\u001b[39m\u001b[38;5;124mtext\u001b[39m\u001b[38;5;124m\"\u001b[39m)\n\u001b[0;32m    228\u001b[0m     \u001b[38;5;28;01mraise\u001b[39;00m exception_class(message, screen, stacktrace, alert_text)  \u001b[38;5;66;03m# type: ignore[call-arg]  # mypy is not smart enough here\u001b[39;00m\n\u001b[1;32m--> 229\u001b[0m \u001b[38;5;28;01mraise\u001b[39;00m exception_class(message, screen, stacktrace)\n",
      "\u001b[1;31mNoSuchElementException\u001b[0m: Message: no such element: Unable to locate element: {\"method\":\"css selector\",\"selector\":\".num-applicants__caption\"}\n  (Session info: chrome=125.0.6422.141); For documentation on this error, please visit: https://www.selenium.dev/documentation/webdriver/troubleshooting/errors#no-such-element-exception\nStacktrace:\n\tGetHandleVerifier [0x00007FF7BB2E1F52+60322]\n\t(No symbol) [0x00007FF7BB25CEC9]\n\t(No symbol) [0x00007FF7BB117EBA]\n\t(No symbol) [0x00007FF7BB167676]\n\t(No symbol) [0x00007FF7BB16773C]\n\t(No symbol) [0x00007FF7BB1AE967]\n\t(No symbol) [0x00007FF7BB18C25F]\n\t(No symbol) [0x00007FF7BB1ABC80]\n\t(No symbol) [0x00007FF7BB18BFC3]\n\t(No symbol) [0x00007FF7BB159617]\n\t(No symbol) [0x00007FF7BB15A211]\n\tGetHandleVerifier [0x00007FF7BB5F94AD+3301629]\n\tGetHandleVerifier [0x00007FF7BB6436D3+3605283]\n\tGetHandleVerifier [0x00007FF7BB639450+3563680]\n\tGetHandleVerifier [0x00007FF7BB394326+790390]\n\t(No symbol) [0x00007FF7BB26750F]\n\t(No symbol) [0x00007FF7BB263404]\n\t(No symbol) [0x00007FF7BB263592]\n\t(No symbol) [0x00007FF7BB252F9F]\n\tBaseThreadInitThunk [0x00007FFF1E557344+20]\n\tRtlUserThreadStart [0x00007FFF205626B1+33]\n"
     ]
    }
   ],
   "source": [
    "#Now, we need to use our list of url to access them one by one and fetch the job description, and some other info\n",
    "applicants = []\n",
    "experience = []\n",
    "typeEmploy = []\n",
    "description = []\n",
    "sector = []\n",
    "\n",
    "service = Service(executable_path=r'D:\\\\DATA\\\\Projects\\\\Linkedin-Jobs-Scrapping\\\\chromedriver-win64\\\\chromedriver.exe')\n",
    "driver = webdriver.Chrome(service=service)\n",
    "\n",
    "for link in jobs_df['Job URL']:\n",
    "    #This code below opens a chrome window in the referenced url\n",
    "    #Setting webdriver \n",
    "    driver.get(link) #open the job page\n",
    "    driver.implicitly_wait(4) #for safety, wait 4 segs to give time to load completely \n",
    "\n",
    "    try:\n",
    "            # Click the \"See more jobs\" button if it exists\n",
    "            show_more_button = driver.find_element(By.CLASS_NAME, 'show-more-less-html__button')\n",
    "            show_more_button.click()\n",
    "            time.sleep(2)  # wait for jobs to load after clicking the button\n",
    "    except:\n",
    "            pass\n",
    "\n",
    "    num_applicants = driver.find_element(By.CLASS_NAME, 'num-applicants__caption').text.replace(' applicants', '').strip()\n",
    "    experience_level = driver.find_element(By.XPATH, './/ul[contains(@class, \"description__job-criteria-list\")]/li[1]/span').text\n",
    "    employment_type = driver.find_element(By.XPATH, './/ul[contains(@class, \"description__job-criteria-list\")]/li[2]/span').text\n",
    "    sector_type = driver.find_element(By.XPATH, './/ul[contains(@class, \"description__job-criteria-list\")]/li[4]/span').text\n",
    "    desc = driver.find_element(By.CLASS_NAME, 'description__text').text\n",
    "    time.sleep(2)\n",
    "\n",
    "\n",
    "    applicants.append(num_applicants)\n",
    "    experience.append(experience_level)\n",
    "    typeEmploy.append(employment_type)\n",
    "    sector.append(sector_type)\n",
    "    description.append(desc)\n",
    "    \n",
    "applicants\n"
   ]
  },
  {
   "cell_type": "markdown",
   "metadata": {},
   "source": [
    "Well, this method was caught by the LinkedIn anti-bots systems. The spider was blocked after the third of forth window open in a row."
   ]
  },
  {
   "cell_type": "markdown",
   "metadata": {},
   "source": [
    "### Step 3.2 Trying anti-bot methods \n",
    "\n",
    "Luckily, there are enough tools out there to fake the behavior of a real user:\n",
    "- random waiting times\n",
    "- using several random fake users "
   ]
  },
  {
   "cell_type": "code",
   "execution_count": 5,
   "metadata": {},
   "outputs": [
    {
     "name": "stdout",
     "output_type": "stream",
     "text": [
      "1 :  Descripción del\n"
     ]
    },
    {
     "ename": "KeyboardInterrupt",
     "evalue": "",
     "output_type": "error",
     "traceback": [
      "\u001b[1;31m---------------------------------------------------------------------------\u001b[0m",
      "\u001b[1;31mKeyboardInterrupt\u001b[0m                         Traceback (most recent call last)",
      "Cell \u001b[1;32mIn[5], line 42\u001b[0m\n\u001b[0;32m     39\u001b[0m j\u001b[38;5;241m=\u001b[39m\u001b[38;5;241m1\u001b[39m\n\u001b[0;32m     41\u001b[0m \u001b[38;5;28;01mfor\u001b[39;00m link \u001b[38;5;129;01min\u001b[39;00m jobs_df[\u001b[38;5;124m'\u001b[39m\u001b[38;5;124mJob URL\u001b[39m\u001b[38;5;124m'\u001b[39m]:\n\u001b[1;32m---> 42\u001b[0m     \u001b[43mdriver\u001b[49m\u001b[38;5;241;43m.\u001b[39;49m\u001b[43mget\u001b[49m\u001b[43m(\u001b[49m\u001b[43mlink\u001b[49m\u001b[43m)\u001b[49m  \u001b[38;5;66;03m# open the job page\u001b[39;00m\n\u001b[0;32m     43\u001b[0m     time\u001b[38;5;241m.\u001b[39msleep(random\u001b[38;5;241m.\u001b[39muniform(\u001b[38;5;241m2\u001b[39m, \u001b[38;5;241m3\u001b[39m))  \u001b[38;5;66;03m# wait for the page to load completely with a random delay\u001b[39;00m\n\u001b[0;32m     45\u001b[0m     \u001b[38;5;28;01mtry\u001b[39;00m:\n\u001b[0;32m     46\u001b[0m         \u001b[38;5;66;03m# Click the \"See more jobs\" button if it exists\u001b[39;00m\n",
      "File \u001b[1;32md:\\DATA\\Projects\\Linkedin-Jobs-Scrapping\\LJS\\Lib\\site-packages\\selenium\\webdriver\\remote\\webdriver.py:356\u001b[0m, in \u001b[0;36mWebDriver.get\u001b[1;34m(self, url)\u001b[0m\n\u001b[0;32m    354\u001b[0m \u001b[38;5;28;01mdef\u001b[39;00m \u001b[38;5;21mget\u001b[39m(\u001b[38;5;28mself\u001b[39m, url: \u001b[38;5;28mstr\u001b[39m) \u001b[38;5;241m-\u001b[39m\u001b[38;5;241m>\u001b[39m \u001b[38;5;28;01mNone\u001b[39;00m:\n\u001b[0;32m    355\u001b[0m \u001b[38;5;250m    \u001b[39m\u001b[38;5;124;03m\"\"\"Loads a web page in the current browser session.\"\"\"\u001b[39;00m\n\u001b[1;32m--> 356\u001b[0m     \u001b[38;5;28;43mself\u001b[39;49m\u001b[38;5;241;43m.\u001b[39;49m\u001b[43mexecute\u001b[49m\u001b[43m(\u001b[49m\u001b[43mCommand\u001b[49m\u001b[38;5;241;43m.\u001b[39;49m\u001b[43mGET\u001b[49m\u001b[43m,\u001b[49m\u001b[43m \u001b[49m\u001b[43m{\u001b[49m\u001b[38;5;124;43m\"\u001b[39;49m\u001b[38;5;124;43murl\u001b[39;49m\u001b[38;5;124;43m\"\u001b[39;49m\u001b[43m:\u001b[49m\u001b[43m \u001b[49m\u001b[43murl\u001b[49m\u001b[43m}\u001b[49m\u001b[43m)\u001b[49m\n",
      "File \u001b[1;32md:\\DATA\\Projects\\Linkedin-Jobs-Scrapping\\LJS\\Lib\\site-packages\\selenium\\webdriver\\remote\\webdriver.py:345\u001b[0m, in \u001b[0;36mWebDriver.execute\u001b[1;34m(self, driver_command, params)\u001b[0m\n\u001b[0;32m    342\u001b[0m     \u001b[38;5;28;01melif\u001b[39;00m \u001b[38;5;124m\"\u001b[39m\u001b[38;5;124msessionId\u001b[39m\u001b[38;5;124m\"\u001b[39m \u001b[38;5;129;01mnot\u001b[39;00m \u001b[38;5;129;01min\u001b[39;00m params:\n\u001b[0;32m    343\u001b[0m         params[\u001b[38;5;124m\"\u001b[39m\u001b[38;5;124msessionId\u001b[39m\u001b[38;5;124m\"\u001b[39m] \u001b[38;5;241m=\u001b[39m \u001b[38;5;28mself\u001b[39m\u001b[38;5;241m.\u001b[39msession_id\n\u001b[1;32m--> 345\u001b[0m response \u001b[38;5;241m=\u001b[39m \u001b[38;5;28;43mself\u001b[39;49m\u001b[38;5;241;43m.\u001b[39;49m\u001b[43mcommand_executor\u001b[49m\u001b[38;5;241;43m.\u001b[39;49m\u001b[43mexecute\u001b[49m\u001b[43m(\u001b[49m\u001b[43mdriver_command\u001b[49m\u001b[43m,\u001b[49m\u001b[43m \u001b[49m\u001b[43mparams\u001b[49m\u001b[43m)\u001b[49m\n\u001b[0;32m    346\u001b[0m \u001b[38;5;28;01mif\u001b[39;00m response:\n\u001b[0;32m    347\u001b[0m     \u001b[38;5;28mself\u001b[39m\u001b[38;5;241m.\u001b[39merror_handler\u001b[38;5;241m.\u001b[39mcheck_response(response)\n",
      "File \u001b[1;32md:\\DATA\\Projects\\Linkedin-Jobs-Scrapping\\LJS\\Lib\\site-packages\\selenium\\webdriver\\remote\\remote_connection.py:302\u001b[0m, in \u001b[0;36mRemoteConnection.execute\u001b[1;34m(self, command, params)\u001b[0m\n\u001b[0;32m    300\u001b[0m trimmed \u001b[38;5;241m=\u001b[39m \u001b[38;5;28mself\u001b[39m\u001b[38;5;241m.\u001b[39m_trim_large_entries(params)\n\u001b[0;32m    301\u001b[0m LOGGER\u001b[38;5;241m.\u001b[39mdebug(\u001b[38;5;124m\"\u001b[39m\u001b[38;5;132;01m%s\u001b[39;00m\u001b[38;5;124m \u001b[39m\u001b[38;5;132;01m%s\u001b[39;00m\u001b[38;5;124m \u001b[39m\u001b[38;5;132;01m%s\u001b[39;00m\u001b[38;5;124m\"\u001b[39m, command_info[\u001b[38;5;241m0\u001b[39m], url, \u001b[38;5;28mstr\u001b[39m(trimmed))\n\u001b[1;32m--> 302\u001b[0m \u001b[38;5;28;01mreturn\u001b[39;00m \u001b[38;5;28;43mself\u001b[39;49m\u001b[38;5;241;43m.\u001b[39;49m\u001b[43m_request\u001b[49m\u001b[43m(\u001b[49m\u001b[43mcommand_info\u001b[49m\u001b[43m[\u001b[49m\u001b[38;5;241;43m0\u001b[39;49m\u001b[43m]\u001b[49m\u001b[43m,\u001b[49m\u001b[43m \u001b[49m\u001b[43murl\u001b[49m\u001b[43m,\u001b[49m\u001b[43m \u001b[49m\u001b[43mbody\u001b[49m\u001b[38;5;241;43m=\u001b[39;49m\u001b[43mdata\u001b[49m\u001b[43m)\u001b[49m\n",
      "File \u001b[1;32md:\\DATA\\Projects\\Linkedin-Jobs-Scrapping\\LJS\\Lib\\site-packages\\selenium\\webdriver\\remote\\remote_connection.py:322\u001b[0m, in \u001b[0;36mRemoteConnection._request\u001b[1;34m(self, method, url, body)\u001b[0m\n\u001b[0;32m    319\u001b[0m     body \u001b[38;5;241m=\u001b[39m \u001b[38;5;28;01mNone\u001b[39;00m\n\u001b[0;32m    321\u001b[0m \u001b[38;5;28;01mif\u001b[39;00m \u001b[38;5;28mself\u001b[39m\u001b[38;5;241m.\u001b[39mkeep_alive:\n\u001b[1;32m--> 322\u001b[0m     response \u001b[38;5;241m=\u001b[39m \u001b[38;5;28;43mself\u001b[39;49m\u001b[38;5;241;43m.\u001b[39;49m\u001b[43m_conn\u001b[49m\u001b[38;5;241;43m.\u001b[39;49m\u001b[43mrequest\u001b[49m\u001b[43m(\u001b[49m\u001b[43mmethod\u001b[49m\u001b[43m,\u001b[49m\u001b[43m \u001b[49m\u001b[43murl\u001b[49m\u001b[43m,\u001b[49m\u001b[43m \u001b[49m\u001b[43mbody\u001b[49m\u001b[38;5;241;43m=\u001b[39;49m\u001b[43mbody\u001b[49m\u001b[43m,\u001b[49m\u001b[43m \u001b[49m\u001b[43mheaders\u001b[49m\u001b[38;5;241;43m=\u001b[39;49m\u001b[43mheaders\u001b[49m\u001b[43m)\u001b[49m\n\u001b[0;32m    323\u001b[0m     statuscode \u001b[38;5;241m=\u001b[39m response\u001b[38;5;241m.\u001b[39mstatus\n\u001b[0;32m    324\u001b[0m \u001b[38;5;28;01melse\u001b[39;00m:\n",
      "File \u001b[1;32md:\\DATA\\Projects\\Linkedin-Jobs-Scrapping\\LJS\\Lib\\site-packages\\urllib3\\_request_methods.py:144\u001b[0m, in \u001b[0;36mRequestMethods.request\u001b[1;34m(self, method, url, body, fields, headers, json, **urlopen_kw)\u001b[0m\n\u001b[0;32m    136\u001b[0m     \u001b[38;5;28;01mreturn\u001b[39;00m \u001b[38;5;28mself\u001b[39m\u001b[38;5;241m.\u001b[39mrequest_encode_url(\n\u001b[0;32m    137\u001b[0m         method,\n\u001b[0;32m    138\u001b[0m         url,\n\u001b[1;32m   (...)\u001b[0m\n\u001b[0;32m    141\u001b[0m         \u001b[38;5;241m*\u001b[39m\u001b[38;5;241m*\u001b[39murlopen_kw,\n\u001b[0;32m    142\u001b[0m     )\n\u001b[0;32m    143\u001b[0m \u001b[38;5;28;01melse\u001b[39;00m:\n\u001b[1;32m--> 144\u001b[0m     \u001b[38;5;28;01mreturn\u001b[39;00m \u001b[38;5;28;43mself\u001b[39;49m\u001b[38;5;241;43m.\u001b[39;49m\u001b[43mrequest_encode_body\u001b[49m\u001b[43m(\u001b[49m\n\u001b[0;32m    145\u001b[0m \u001b[43m        \u001b[49m\u001b[43mmethod\u001b[49m\u001b[43m,\u001b[49m\u001b[43m \u001b[49m\u001b[43murl\u001b[49m\u001b[43m,\u001b[49m\u001b[43m \u001b[49m\u001b[43mfields\u001b[49m\u001b[38;5;241;43m=\u001b[39;49m\u001b[43mfields\u001b[49m\u001b[43m,\u001b[49m\u001b[43m \u001b[49m\u001b[43mheaders\u001b[49m\u001b[38;5;241;43m=\u001b[39;49m\u001b[43mheaders\u001b[49m\u001b[43m,\u001b[49m\u001b[43m \u001b[49m\u001b[38;5;241;43m*\u001b[39;49m\u001b[38;5;241;43m*\u001b[39;49m\u001b[43murlopen_kw\u001b[49m\n\u001b[0;32m    146\u001b[0m \u001b[43m    \u001b[49m\u001b[43m)\u001b[49m\n",
      "File \u001b[1;32md:\\DATA\\Projects\\Linkedin-Jobs-Scrapping\\LJS\\Lib\\site-packages\\urllib3\\_request_methods.py:279\u001b[0m, in \u001b[0;36mRequestMethods.request_encode_body\u001b[1;34m(self, method, url, fields, headers, encode_multipart, multipart_boundary, **urlopen_kw)\u001b[0m\n\u001b[0;32m    275\u001b[0m     extra_kw[\u001b[38;5;124m\"\u001b[39m\u001b[38;5;124mheaders\u001b[39m\u001b[38;5;124m\"\u001b[39m]\u001b[38;5;241m.\u001b[39msetdefault(\u001b[38;5;124m\"\u001b[39m\u001b[38;5;124mContent-Type\u001b[39m\u001b[38;5;124m\"\u001b[39m, content_type)\n\u001b[0;32m    277\u001b[0m extra_kw\u001b[38;5;241m.\u001b[39mupdate(urlopen_kw)\n\u001b[1;32m--> 279\u001b[0m \u001b[38;5;28;01mreturn\u001b[39;00m \u001b[38;5;28;43mself\u001b[39;49m\u001b[38;5;241;43m.\u001b[39;49m\u001b[43murlopen\u001b[49m\u001b[43m(\u001b[49m\u001b[43mmethod\u001b[49m\u001b[43m,\u001b[49m\u001b[43m \u001b[49m\u001b[43murl\u001b[49m\u001b[43m,\u001b[49m\u001b[43m \u001b[49m\u001b[38;5;241;43m*\u001b[39;49m\u001b[38;5;241;43m*\u001b[39;49m\u001b[43mextra_kw\u001b[49m\u001b[43m)\u001b[49m\n",
      "File \u001b[1;32md:\\DATA\\Projects\\Linkedin-Jobs-Scrapping\\LJS\\Lib\\site-packages\\urllib3\\poolmanager.py:444\u001b[0m, in \u001b[0;36mPoolManager.urlopen\u001b[1;34m(self, method, url, redirect, **kw)\u001b[0m\n\u001b[0;32m    442\u001b[0m     response \u001b[38;5;241m=\u001b[39m conn\u001b[38;5;241m.\u001b[39murlopen(method, url, \u001b[38;5;241m*\u001b[39m\u001b[38;5;241m*\u001b[39mkw)\n\u001b[0;32m    443\u001b[0m \u001b[38;5;28;01melse\u001b[39;00m:\n\u001b[1;32m--> 444\u001b[0m     response \u001b[38;5;241m=\u001b[39m \u001b[43mconn\u001b[49m\u001b[38;5;241;43m.\u001b[39;49m\u001b[43murlopen\u001b[49m\u001b[43m(\u001b[49m\u001b[43mmethod\u001b[49m\u001b[43m,\u001b[49m\u001b[43m \u001b[49m\u001b[43mu\u001b[49m\u001b[38;5;241;43m.\u001b[39;49m\u001b[43mrequest_uri\u001b[49m\u001b[43m,\u001b[49m\u001b[43m \u001b[49m\u001b[38;5;241;43m*\u001b[39;49m\u001b[38;5;241;43m*\u001b[39;49m\u001b[43mkw\u001b[49m\u001b[43m)\u001b[49m\n\u001b[0;32m    446\u001b[0m redirect_location \u001b[38;5;241m=\u001b[39m redirect \u001b[38;5;129;01mand\u001b[39;00m response\u001b[38;5;241m.\u001b[39mget_redirect_location()\n\u001b[0;32m    447\u001b[0m \u001b[38;5;28;01mif\u001b[39;00m \u001b[38;5;129;01mnot\u001b[39;00m redirect_location:\n",
      "File \u001b[1;32md:\\DATA\\Projects\\Linkedin-Jobs-Scrapping\\LJS\\Lib\\site-packages\\urllib3\\connectionpool.py:793\u001b[0m, in \u001b[0;36mHTTPConnectionPool.urlopen\u001b[1;34m(self, method, url, body, headers, retries, redirect, assert_same_host, timeout, pool_timeout, release_conn, chunked, body_pos, preload_content, decode_content, **response_kw)\u001b[0m\n\u001b[0;32m    790\u001b[0m response_conn \u001b[38;5;241m=\u001b[39m conn \u001b[38;5;28;01mif\u001b[39;00m \u001b[38;5;129;01mnot\u001b[39;00m release_conn \u001b[38;5;28;01melse\u001b[39;00m \u001b[38;5;28;01mNone\u001b[39;00m\n\u001b[0;32m    792\u001b[0m \u001b[38;5;66;03m# Make the request on the HTTPConnection object\u001b[39;00m\n\u001b[1;32m--> 793\u001b[0m response \u001b[38;5;241m=\u001b[39m \u001b[38;5;28;43mself\u001b[39;49m\u001b[38;5;241;43m.\u001b[39;49m\u001b[43m_make_request\u001b[49m\u001b[43m(\u001b[49m\n\u001b[0;32m    794\u001b[0m \u001b[43m    \u001b[49m\u001b[43mconn\u001b[49m\u001b[43m,\u001b[49m\n\u001b[0;32m    795\u001b[0m \u001b[43m    \u001b[49m\u001b[43mmethod\u001b[49m\u001b[43m,\u001b[49m\n\u001b[0;32m    796\u001b[0m \u001b[43m    \u001b[49m\u001b[43murl\u001b[49m\u001b[43m,\u001b[49m\n\u001b[0;32m    797\u001b[0m \u001b[43m    \u001b[49m\u001b[43mtimeout\u001b[49m\u001b[38;5;241;43m=\u001b[39;49m\u001b[43mtimeout_obj\u001b[49m\u001b[43m,\u001b[49m\n\u001b[0;32m    798\u001b[0m \u001b[43m    \u001b[49m\u001b[43mbody\u001b[49m\u001b[38;5;241;43m=\u001b[39;49m\u001b[43mbody\u001b[49m\u001b[43m,\u001b[49m\n\u001b[0;32m    799\u001b[0m \u001b[43m    \u001b[49m\u001b[43mheaders\u001b[49m\u001b[38;5;241;43m=\u001b[39;49m\u001b[43mheaders\u001b[49m\u001b[43m,\u001b[49m\n\u001b[0;32m    800\u001b[0m \u001b[43m    \u001b[49m\u001b[43mchunked\u001b[49m\u001b[38;5;241;43m=\u001b[39;49m\u001b[43mchunked\u001b[49m\u001b[43m,\u001b[49m\n\u001b[0;32m    801\u001b[0m \u001b[43m    \u001b[49m\u001b[43mretries\u001b[49m\u001b[38;5;241;43m=\u001b[39;49m\u001b[43mretries\u001b[49m\u001b[43m,\u001b[49m\n\u001b[0;32m    802\u001b[0m \u001b[43m    \u001b[49m\u001b[43mresponse_conn\u001b[49m\u001b[38;5;241;43m=\u001b[39;49m\u001b[43mresponse_conn\u001b[49m\u001b[43m,\u001b[49m\n\u001b[0;32m    803\u001b[0m \u001b[43m    \u001b[49m\u001b[43mpreload_content\u001b[49m\u001b[38;5;241;43m=\u001b[39;49m\u001b[43mpreload_content\u001b[49m\u001b[43m,\u001b[49m\n\u001b[0;32m    804\u001b[0m \u001b[43m    \u001b[49m\u001b[43mdecode_content\u001b[49m\u001b[38;5;241;43m=\u001b[39;49m\u001b[43mdecode_content\u001b[49m\u001b[43m,\u001b[49m\n\u001b[0;32m    805\u001b[0m \u001b[43m    \u001b[49m\u001b[38;5;241;43m*\u001b[39;49m\u001b[38;5;241;43m*\u001b[39;49m\u001b[43mresponse_kw\u001b[49m\u001b[43m,\u001b[49m\n\u001b[0;32m    806\u001b[0m \u001b[43m\u001b[49m\u001b[43m)\u001b[49m\n\u001b[0;32m    808\u001b[0m \u001b[38;5;66;03m# Everything went great!\u001b[39;00m\n\u001b[0;32m    809\u001b[0m clean_exit \u001b[38;5;241m=\u001b[39m \u001b[38;5;28;01mTrue\u001b[39;00m\n",
      "File \u001b[1;32md:\\DATA\\Projects\\Linkedin-Jobs-Scrapping\\LJS\\Lib\\site-packages\\urllib3\\connectionpool.py:537\u001b[0m, in \u001b[0;36mHTTPConnectionPool._make_request\u001b[1;34m(self, conn, method, url, body, headers, retries, timeout, chunked, response_conn, preload_content, decode_content, enforce_content_length)\u001b[0m\n\u001b[0;32m    535\u001b[0m \u001b[38;5;66;03m# Receive the response from the server\u001b[39;00m\n\u001b[0;32m    536\u001b[0m \u001b[38;5;28;01mtry\u001b[39;00m:\n\u001b[1;32m--> 537\u001b[0m     response \u001b[38;5;241m=\u001b[39m \u001b[43mconn\u001b[49m\u001b[38;5;241;43m.\u001b[39;49m\u001b[43mgetresponse\u001b[49m\u001b[43m(\u001b[49m\u001b[43m)\u001b[49m\n\u001b[0;32m    538\u001b[0m \u001b[38;5;28;01mexcept\u001b[39;00m (BaseSSLError, \u001b[38;5;167;01mOSError\u001b[39;00m) \u001b[38;5;28;01mas\u001b[39;00m e:\n\u001b[0;32m    539\u001b[0m     \u001b[38;5;28mself\u001b[39m\u001b[38;5;241m.\u001b[39m_raise_timeout(err\u001b[38;5;241m=\u001b[39me, url\u001b[38;5;241m=\u001b[39murl, timeout_value\u001b[38;5;241m=\u001b[39mread_timeout)\n",
      "File \u001b[1;32md:\\DATA\\Projects\\Linkedin-Jobs-Scrapping\\LJS\\Lib\\site-packages\\urllib3\\connection.py:466\u001b[0m, in \u001b[0;36mHTTPConnection.getresponse\u001b[1;34m(self)\u001b[0m\n\u001b[0;32m    463\u001b[0m \u001b[38;5;28;01mfrom\u001b[39;00m \u001b[38;5;21;01m.\u001b[39;00m\u001b[38;5;21;01mresponse\u001b[39;00m \u001b[38;5;28;01mimport\u001b[39;00m HTTPResponse\n\u001b[0;32m    465\u001b[0m \u001b[38;5;66;03m# Get the response from http.client.HTTPConnection\u001b[39;00m\n\u001b[1;32m--> 466\u001b[0m httplib_response \u001b[38;5;241m=\u001b[39m \u001b[38;5;28;43msuper\u001b[39;49m\u001b[43m(\u001b[49m\u001b[43m)\u001b[49m\u001b[38;5;241;43m.\u001b[39;49m\u001b[43mgetresponse\u001b[49m\u001b[43m(\u001b[49m\u001b[43m)\u001b[49m\n\u001b[0;32m    468\u001b[0m \u001b[38;5;28;01mtry\u001b[39;00m:\n\u001b[0;32m    469\u001b[0m     assert_header_parsing(httplib_response\u001b[38;5;241m.\u001b[39mmsg)\n",
      "File \u001b[1;32mC:\\Program Files\\WindowsApps\\PythonSoftwareFoundation.Python.3.11_3.11.2544.0_x64__qbz5n2kfra8p0\\Lib\\http\\client.py:1395\u001b[0m, in \u001b[0;36mHTTPConnection.getresponse\u001b[1;34m(self)\u001b[0m\n\u001b[0;32m   1393\u001b[0m \u001b[38;5;28;01mtry\u001b[39;00m:\n\u001b[0;32m   1394\u001b[0m     \u001b[38;5;28;01mtry\u001b[39;00m:\n\u001b[1;32m-> 1395\u001b[0m         \u001b[43mresponse\u001b[49m\u001b[38;5;241;43m.\u001b[39;49m\u001b[43mbegin\u001b[49m\u001b[43m(\u001b[49m\u001b[43m)\u001b[49m\n\u001b[0;32m   1396\u001b[0m     \u001b[38;5;28;01mexcept\u001b[39;00m \u001b[38;5;167;01mConnectionError\u001b[39;00m:\n\u001b[0;32m   1397\u001b[0m         \u001b[38;5;28mself\u001b[39m\u001b[38;5;241m.\u001b[39mclose()\n",
      "File \u001b[1;32mC:\\Program Files\\WindowsApps\\PythonSoftwareFoundation.Python.3.11_3.11.2544.0_x64__qbz5n2kfra8p0\\Lib\\http\\client.py:325\u001b[0m, in \u001b[0;36mHTTPResponse.begin\u001b[1;34m(self)\u001b[0m\n\u001b[0;32m    323\u001b[0m \u001b[38;5;66;03m# read until we get a non-100 response\u001b[39;00m\n\u001b[0;32m    324\u001b[0m \u001b[38;5;28;01mwhile\u001b[39;00m \u001b[38;5;28;01mTrue\u001b[39;00m:\n\u001b[1;32m--> 325\u001b[0m     version, status, reason \u001b[38;5;241m=\u001b[39m \u001b[38;5;28;43mself\u001b[39;49m\u001b[38;5;241;43m.\u001b[39;49m\u001b[43m_read_status\u001b[49m\u001b[43m(\u001b[49m\u001b[43m)\u001b[49m\n\u001b[0;32m    326\u001b[0m     \u001b[38;5;28;01mif\u001b[39;00m status \u001b[38;5;241m!=\u001b[39m CONTINUE:\n\u001b[0;32m    327\u001b[0m         \u001b[38;5;28;01mbreak\u001b[39;00m\n",
      "File \u001b[1;32mC:\\Program Files\\WindowsApps\\PythonSoftwareFoundation.Python.3.11_3.11.2544.0_x64__qbz5n2kfra8p0\\Lib\\http\\client.py:286\u001b[0m, in \u001b[0;36mHTTPResponse._read_status\u001b[1;34m(self)\u001b[0m\n\u001b[0;32m    285\u001b[0m \u001b[38;5;28;01mdef\u001b[39;00m \u001b[38;5;21m_read_status\u001b[39m(\u001b[38;5;28mself\u001b[39m):\n\u001b[1;32m--> 286\u001b[0m     line \u001b[38;5;241m=\u001b[39m \u001b[38;5;28mstr\u001b[39m(\u001b[38;5;28mself\u001b[39m\u001b[38;5;241m.\u001b[39mfp\u001b[38;5;241m.\u001b[39mreadline(_MAXLINE \u001b[38;5;241m+\u001b[39m \u001b[38;5;241m1\u001b[39m), \u001b[38;5;124m\"\u001b[39m\u001b[38;5;124miso-8859-1\u001b[39m\u001b[38;5;124m\"\u001b[39m)\n\u001b[0;32m    287\u001b[0m     \u001b[38;5;28;01mif\u001b[39;00m \u001b[38;5;28mlen\u001b[39m(line) \u001b[38;5;241m>\u001b[39m _MAXLINE:\n\u001b[0;32m    288\u001b[0m         \u001b[38;5;28;01mraise\u001b[39;00m LineTooLong(\u001b[38;5;124m\"\u001b[39m\u001b[38;5;124mstatus line\u001b[39m\u001b[38;5;124m\"\u001b[39m)\n",
      "File \u001b[1;32mC:\\Program Files\\WindowsApps\\PythonSoftwareFoundation.Python.3.11_3.11.2544.0_x64__qbz5n2kfra8p0\\Lib\\socket.py:706\u001b[0m, in \u001b[0;36mSocketIO.readinto\u001b[1;34m(self, b)\u001b[0m\n\u001b[0;32m    704\u001b[0m \u001b[38;5;28;01mwhile\u001b[39;00m \u001b[38;5;28;01mTrue\u001b[39;00m:\n\u001b[0;32m    705\u001b[0m     \u001b[38;5;28;01mtry\u001b[39;00m:\n\u001b[1;32m--> 706\u001b[0m         \u001b[38;5;28;01mreturn\u001b[39;00m \u001b[38;5;28;43mself\u001b[39;49m\u001b[38;5;241;43m.\u001b[39;49m\u001b[43m_sock\u001b[49m\u001b[38;5;241;43m.\u001b[39;49m\u001b[43mrecv_into\u001b[49m\u001b[43m(\u001b[49m\u001b[43mb\u001b[49m\u001b[43m)\u001b[49m\n\u001b[0;32m    707\u001b[0m     \u001b[38;5;28;01mexcept\u001b[39;00m timeout:\n\u001b[0;32m    708\u001b[0m         \u001b[38;5;28mself\u001b[39m\u001b[38;5;241m.\u001b[39m_timeout_occurred \u001b[38;5;241m=\u001b[39m \u001b[38;5;28;01mTrue\u001b[39;00m\n",
      "\u001b[1;31mKeyboardInterrupt\u001b[0m: "
     ]
    }
   ],
   "source": [
    "import time\n",
    "import random\n",
    "from selenium import webdriver\n",
    "from selenium.webdriver.common.by import By\n",
    "from selenium.webdriver.chrome.service import Service\n",
    "from selenium.webdriver.chrome.options import Options\n",
    "import pandas as pd\n",
    "\n",
    "# Load the DataFrame with job URLs\n",
    "jobs_df = pd.read_csv('first_attempt_jobs.csv')\n",
    "\n",
    "# Initialize lists to store the extracted data\n",
    "applicants = []\n",
    "experience = []\n",
    "typeEmploy = []\n",
    "description = []\n",
    "sector = []\n",
    "\n",
    "# Setting WebDriver with Options. These reduce the chances of getting detected by the anti-bot LinkedIn's systems. \n",
    "chrome_options = Options()\n",
    "chrome_options.add_argument(\"--headless\")  # Run headless for less detection (remove this if you want to see the browser)\n",
    "chrome_options.add_argument(\"--disable-blink-features=AutomationControlled\")\n",
    "# chrome_options.add_argument(\"start-maximized\")\n",
    "chrome_options.add_argument(\"--disable-infobars\")\n",
    "chrome_options.add_argument(\"--disable-extensions\")\n",
    "\n",
    "# Add a random user-agent. Every time we launch Chrome, it will use a random fake user out of those 5. There is more  efficient ways of doing this. But this was enough. \n",
    "user_agents = [\n",
    "    \"Mozilla/5.0 (Windows NT 10.0; Win64; x64) AppleWebKit/537.36 (KHTML, like Gecko) Chrome/58.0.3029.110 Safari/537.3\",\n",
    "    \"Mozilla/5.0 (Macintosh; Intel Mac OS X 10_14_5) AppleWebKit/605.1.15 (KHTML, like Gecko) Version/12.1.1 Safari/605.1.15\",\n",
    "    \"Mozilla/5.0 (Windows NT 10.0; Win64; x64) AppleWebKit/537.36 (KHTML, like Gecko) Chrome/70.0.3538.77 Safari/537.36\",\n",
    "    \"Mozilla/5.0 (Windows NT 10.0; Win64; x64) AppleWebKit/537.36 (KHTML, like Gecko) Chrome/83.0.4103.116 Safari/537.36\",\n",
    "    \"Mozilla/5.0 (X11; Linux x86_64) AppleWebKit/537.36 (KHTML, like Gecko) Chrome/44.0.2403.157 Safari/537.36\",\n",
    "]\n",
    "chrome_options.add_argument(f\"user-agent={random.choice(user_agents)}\")\n",
    "\n",
    "service = Service(executable_path=r'D:\\\\DATA\\\\Projects\\\\Linkedin-Jobs-Scrapping\\\\chromedriver-win64\\\\chromedriver.exe')\n",
    "driver = webdriver.Chrome(service=service, options=chrome_options)\n",
    "j=1\n",
    "\n",
    "for link in jobs_df['Job URL']:\n",
    "    driver.get(link)  # open the job page\n",
    "    time.sleep(random.uniform(2, 3))  # wait for the page to load completely with a random delay\n",
    "\n",
    "    try:\n",
    "        # Click the \"See more jobs\" button if it exists\n",
    "        show_more_button = driver.find_element(By.CLASS_NAME, 'show-more-less-html__button')\n",
    "        show_more_button.click()\n",
    "        time.sleep(random.uniform(2, 4))  # wait for the additional content to load with a random delay\n",
    "    except:\n",
    "        pass\n",
    "\n",
    "    try:\n",
    "        num_applicants = driver.find_element(By.CLASS_NAME, 'num-applicants__caption').text.replace(' applicants', '').strip()\n",
    "    except:\n",
    "        num_applicants = 'N/A'\n",
    "        \n",
    "    try:\n",
    "        experience_level = driver.find_element(By.XPATH, './/ul[contains(@class, \"description__job-criteria-list\")]/li[1]/span').text\n",
    "    except:\n",
    "        experience_level = 'N/A'\n",
    "    \n",
    "    try:\n",
    "        employment_type = driver.find_element(By.XPATH, './/ul[contains(@class, \"description__job-criteria-list\")]/li[2]/span').text\n",
    "    except:\n",
    "        employment_type = 'N/A'\n",
    "    \n",
    "    try:\n",
    "        sector_type = driver.find_element(By.XPATH, './/ul[contains(@class, \"description__job-criteria-list\")]/li[4]/span').text\n",
    "    except:\n",
    "        sector_type = 'N/A'\n",
    "    \n",
    "    try:\n",
    "        desc = driver.find_element(By.CLASS_NAME, 'description__text').text\n",
    "    except:\n",
    "        desc = 'N/A'\n",
    "\n",
    "    applicants.append(num_applicants)\n",
    "    experience.append(experience_level)\n",
    "    typeEmploy.append(employment_type)\n",
    "    sector.append(sector_type)\n",
    "    description.append(desc)\n",
    "\n",
    "    print(j, \": \", desc[:15])\n",
    "    j = j+1\n",
    "\n",
    "    # Random sleep to mimic human behavior\n",
    "    time.sleep(random.uniform(1, 3))\n",
    "\n",
    "# Close the WebDriver\n",
    "driver.quit()\n",
    "\n",
    "# Create a DataFrame from the lists\n",
    "data_plus = {\n",
    "    'Company Name': jobs_df['Company Name'],\n",
    "    'Job Title': jobs_df['Job Title'],\n",
    "    'location': jobs_df['location'],\n",
    "    'Job URL': jobs_df['Job URL'],\n",
    "    'Date': jobs_df['Date'],\n",
    "    'Applicants': applicants,\n",
    "    'Experience': experience,\n",
    "    'Employment Type': typeEmploy,\n",
    "    'Sector': sector,\n",
    "    'Description': description\n",
    "}\n",
    "detailed_jobs_df = pd.DataFrame(data_plus)\n",
    "\n",
    "\n",
    "# Print the DataFrame to verify\n",
    "# detailed_jobs_df.to_csv('detailed_jobs_df.csv')\n"
   ]
  },
  {
   "cell_type": "markdown",
   "metadata": {},
   "source": [
    "### Step 4: Preparing the data\n",
    "\n",
    "- right format data\n",
    "- cleaning null values\n",
    "- Preparing the description text for different algorithms"
   ]
  },
  {
   "cell_type": "code",
   "execution_count": 4,
   "metadata": {},
   "outputs": [],
   "source": []
  },
  {
   "cell_type": "markdown",
   "metadata": {},
   "source": [
    "### Step 5: Adding Language and skills columns with ML "
   ]
  },
  {
   "cell_type": "code",
   "execution_count": 3,
   "metadata": {},
   "outputs": [],
   "source": [
    "import pandas as pd\n",
    "\n",
    "detailed_jobs_df = pd.read_csv('detailed_jobs_df.csv')"
   ]
  },
  {
   "cell_type": "code",
   "execution_count": 4,
   "metadata": {},
   "outputs": [
    {
     "data": {
      "text/plain": [
       "language\n",
       "en    238\n",
       "es     57\n",
       "fr      2\n",
       "ca      1\n",
       "Name: count, dtype: int64"
      ]
     },
     "execution_count": 4,
     "metadata": {},
     "output_type": "execute_result"
    }
   ],
   "source": [
    "from langdetect import detect\n",
    "from langdetect.lang_detect_exception import LangDetectException\n",
    "\n",
    "def detect_language(text):\n",
    "    try:\n",
    "        return detect(text)\n",
    "    except LangDetectException:\n",
    "        return 'unknown'\n",
    "\n",
    "detailed_jobs_df['language'] = detailed_jobs_df['Description'].apply(detect_language)\n",
    "\n",
    "detailed_jobs_df['language'].value_counts()"
   ]
  },
  {
   "cell_type": "code",
   "execution_count": 47,
   "metadata": {},
   "outputs": [],
   "source": [
    "# Let's fix some columns and formats. \n",
    "detailed_jobs_df = detailed_jobs_df.drop(columns='Unnamed: 0')\n",
    "detailed_jobs_df['Date'] = pd.to_datetime(detailed_jobs_df['Date'])\n",
    "\n"
   ]
  },
  {
   "cell_type": "code",
   "execution_count": 6,
   "metadata": {},
   "outputs": [
    {
     "data": {
      "text/plain": [
       "Timestamp('2024-06-05 00:00:00')"
      ]
     },
     "execution_count": 6,
     "metadata": {},
     "output_type": "execute_result"
    }
   ],
   "source": [
    "detailed_jobs_df['Date'][4]"
   ]
  },
  {
   "cell_type": "code",
   "execution_count": 48,
   "metadata": {},
   "outputs": [
    {
     "name": "stdout",
     "output_type": "stream",
     "text": [
      "<class 'pandas.core.frame.DataFrame'>\n",
      "RangeIndex: 298 entries, 0 to 297\n",
      "Data columns (total 11 columns):\n",
      " #   Column           Non-Null Count  Dtype         \n",
      "---  ------           --------------  -----         \n",
      " 0   Company Name     298 non-null    object        \n",
      " 1   Job Title        298 non-null    object        \n",
      " 2   location         298 non-null    object        \n",
      " 3   Job URL          298 non-null    object        \n",
      " 4   Date             298 non-null    datetime64[ns]\n",
      " 5   Applicants       298 non-null    object        \n",
      " 6   Experience       298 non-null    object        \n",
      " 7   Employment Type  287 non-null    object        \n",
      " 8   Sector           287 non-null    object        \n",
      " 9   Description      298 non-null    object        \n",
      " 10  language         298 non-null    object        \n",
      "dtypes: datetime64[ns](1), object(10)\n",
      "memory usage: 25.7+ KB\n"
     ]
    }
   ],
   "source": [
    "detailed_jobs_df.info()"
   ]
  },
  {
   "cell_type": "markdown",
   "metadata": {},
   "source": [
    "### Step5b: Keywords extraction trying numerous methods\n",
    "\n",
    "We will use different libraries and methods to increase the accuracy of our keyword extraction model. "
   ]
  },
  {
   "cell_type": "markdown",
   "metadata": {},
   "source": [
    "#### Step 5b Preprocessing the text"
   ]
  },
  {
   "cell_type": "code",
   "execution_count": null,
   "metadata": {},
   "outputs": [],
   "source": [
    "text = detailed_jobs_df['Description'][2]"
   ]
  },
  {
   "cell_type": "code",
   "execution_count": 27,
   "metadata": {},
   "outputs": [
    {
     "name": "stderr",
     "output_type": "stream",
     "text": [
      "[nltk_data] Downloading package punkt to\n",
      "[nltk_data]     C:\\Users\\pablo\\AppData\\Roaming\\nltk_data...\n",
      "[nltk_data]   Package punkt is already up-to-date!\n",
      "[nltk_data] Downloading package stopwords to\n",
      "[nltk_data]     C:\\Users\\pablo\\AppData\\Roaming\\nltk_data...\n",
      "[nltk_data]   Package stopwords is already up-to-date!\n"
     ]
    },
    {
     "data": {
      "text/plain": [
       "True"
      ]
     },
     "execution_count": 27,
     "metadata": {},
     "output_type": "execute_result"
    }
   ],
   "source": [
    "import re\n",
    "import nltk\n",
    "\n",
    "nltk.download('punkt')\n",
    "nltk.download('stopwords')"
   ]
  },
  {
   "cell_type": "code",
   "execution_count": 31,
   "metadata": {},
   "outputs": [],
   "source": [
    "from nltk.corpus import stopwords\n",
    "from nltk.tokenize import word_tokenize\n",
    "\n",
    "stop_words = set(stopwords.words('english'))\n",
    "def clean_text(text):\n",
    "    # Convert text to lower case\n",
    "    text = text.lower()\n",
    "\n",
    "    # Remove punctuation\n",
    "    text = re.sub(r'[^\\w\\s]', '', text)\n",
    "\n",
    "    # Remove numbers\n",
    "    text = re.sub(r'\\d+', '', text)\n",
    "\n",
    "    # Remove stopwords\n",
    "    tokens = word_tokenize(text)\n",
    "    filtered_tokens = [word for word in tokens if word not in stop_words]\n",
    "    text = ' '.join(filtered_tokens)\n",
    "\n",
    "    # Remove extra spaces\n",
    "    text = re.sub(r'\\s+', ' ', text).strip()\n",
    "\n",
    "    return text"
   ]
  },
  {
   "cell_type": "code",
   "execution_count": 32,
   "metadata": {},
   "outputs": [
    {
     "data": {
      "text/plain": [
       "'job summary data analytics trainee embark journey dive deep world data science analytics role designed individuals passionate leveraging data drive insights make informed decisions part dynamic team data professionals working closely experienced data analysts bi analysts data engineers hone skills contribute realworld projects key accountabilities among others analytical support assist data collection cleaning preprocessing tasks guidance senior team members learn navigate manipulate data using programming languages python sql follow established protocols ensure data quality integrity throughout process contribute basic data analysis tasks descriptive statistics exploratory data analysis hypothesis testing visualization reporting assist creating visualizations dashboards communicate data findings effectively learn use data visualization tools libraries create clear compelling presentations analytical results minimum knowledge experience required position expect experience knowledge programming languages commonly used data analysis python sql ability write understand basic scripts queries data manipulation analysis familiarity data visualization principles techniques knowledge visualization tools like power bi qliksense clear effective communication skills verbal written english multinational company english primary language communication meetings individual contributor core competencies managing work effectively managing ones time resources ensure work completed efficiently emotional intelligence essentials establishing sustaining trusting relationships accurately perceiving interpreting others emotions behavior leveraging insights effectively manage responses ones behavior matches ones values delivers intended results building partnerships developing leveraging relationships within across work groups including crossfunctional groups achieve results continuous improvement originating action improve existing conditions processes identifying improvement opportunities generating ideas implementing solutions continuous learning actively identifying new areas learning regularly creating taking advantage learning opportunities using newly gained knowledge skill job learning application show less'"
      ]
     },
     "execution_count": 32,
     "metadata": {},
     "output_type": "execute_result"
    }
   ],
   "source": [
    "text = clean_text(text)\n",
    "\n",
    "text"
   ]
  },
  {
   "cell_type": "markdown",
   "metadata": {},
   "source": [
    "#### Step 5b Trying Yake"
   ]
  },
  {
   "cell_type": "code",
   "execution_count": 33,
   "metadata": {},
   "outputs": [],
   "source": [
    "import yake\n"
   ]
  },
  {
   "cell_type": "code",
   "execution_count": 67,
   "metadata": {},
   "outputs": [
    {
     "name": "stdout",
     "output_type": "stream",
     "text": [
      "('analysis python sql', 0.0003481795085190169)\n",
      "('visualization tools libraries', 0.00040594074697135443)\n",
      "('knowledge programming languages', 0.0004132641754345171)\n",
      "('techniques knowledge visualization', 0.00045232687292902374)\n",
      "('expect experience knowledge', 0.000508473785199765)\n",
      "('work completed efficiently', 0.0005142173288362012)\n",
      "('contribute realworld projects', 0.0005144422774514619)\n",
      "('relationships accurately perceiving', 0.0005144422774514619)\n",
      "('journey dive deep', 0.0005269183373426173)\n",
      "('data', 0.006146915416871837)\n",
      "('skill job', 0.006181151999150864)\n",
      "('job summary', 0.006332958467500928)\n",
      "('learning', 0.019838363480312465)\n",
      "('results', 0.026120500979977437)\n",
      "('work', 0.026120500979977437)\n"
     ]
    }
   ],
   "source": [
    "# Specify YAKE! parameters\n",
    "# Initialize keyword extractor\n",
    "kw_extractor = yake.KeywordExtractor()\n",
    "\n",
    "language = \"en\"\n",
    "max_ngram_size = 3\n",
    "deduplication_thresold = 0.2\n",
    "deduplication_algo = 'seqm'\n",
    "windowSize = 1\n",
    "numOfKeywords = 15\n",
    "\n",
    "kw_extractor = yake.KeywordExtractor(lan=language, \n",
    "                                     n=max_ngram_size, \n",
    "                                     dedupLim=deduplication_thresold, \n",
    "                                     dedupFunc=deduplication_algo, \n",
    "                                     windowsSize=windowSize, \n",
    "                                     top=numOfKeywords)\n",
    "                                            \n",
    "keywords = kw_extractor.extract_keywords(text)\n",
    "\n",
    "for kw in keywords:\n",
    "    print(kw)"
   ]
  },
  {
   "cell_type": "markdown",
   "metadata": {},
   "source": [
    "#### Step 5b Trying Rake\n",
    "Yake didn't yield good results. Let's try another unsupervised one."
   ]
  },
  {
   "cell_type": "code",
   "execution_count": 61,
   "metadata": {},
   "outputs": [
    {
     "data": {
      "text/plain": [
       "[('role designed individuals passionate leveraging', 25.0),\n",
       " ('integrity throughout process contribute basic', 25.0),\n",
       " ('experience required position expect experience', 25.0),\n",
       " ('trainee embark journey dive', 16.0),\n",
       " ('professionals working closely experienced', 16.0),\n",
       " ('follow established protocols ensure', 16.0),\n",
       " ('actively identifying new areas', 16.0),\n",
       " ('regularly creating taking advantage', 15.5),\n",
       " ('opportunities using newly gained', 14.5),\n",
       " ('assist creating visualizations', 8.5),\n",
       " ('languages commonly used', 8.0),\n",
       " ('job summary', 4.0),\n",
       " ('navigate manipulate', 4.0),\n",
       " ('tasks descriptive', 4.0),\n",
       " ('findings effectively', 4.0),\n",
       " ('principles techniques', 4.0),\n",
       " ('skill job', 4.0),\n",
       " ('show less', 4.0),\n",
       " ('using', 2.5),\n",
       " ('assist', 2.0),\n",
       " ('languages', 2.0),\n",
       " ('world', 1.0),\n",
       " ('analysts', 1.0),\n",
       " ('collection', 1.0),\n",
       " ('exploratory', 1.0),\n",
       " ('communicate', 1.0),\n",
       " ('use', 1.0),\n",
       " ('manipulation', 1.0),\n",
       " ('familiarity', 1.0),\n",
       " ('like', 1.0)]"
      ]
     },
     "execution_count": 61,
     "metadata": {},
     "output_type": "execute_result"
    }
   ],
   "source": [
    "import RAKE\n",
    "import operator\n",
    "\n",
    "# Reka setup with stopword directory\n",
    "stop_dir = \"SmartStoplist.txt\"\n",
    "rake_object = RAKE.Rake(stop_dir)\n",
    "\n",
    "# Extract keywords\n",
    "keywords = rake_object.run(text)\n",
    "keywords"
   ]
  },
  {
   "cell_type": "markdown",
   "metadata": {},
   "source": [
    "Neither Yake or Rake yielded good results. Let's try with more complex scenarios."
   ]
  },
  {
   "cell_type": "markdown",
   "metadata": {},
   "source": [
    "#### Step 5b using spaCy for Named Entity Recognition (NER)\n",
    "spaGray is a powerful NLP library that can be used to extract named entities and potentially extend this to custom entities like specific skills from job descriptions. "
   ]
  },
  {
   "cell_type": "code",
   "execution_count": 39,
   "metadata": {},
   "outputs": [],
   "source": [
    "text2 = detailed_jobs_df['Description'][2]"
   ]
  },
  {
   "cell_type": "code",
   "execution_count": 42,
   "metadata": {},
   "outputs": [
    {
     "name": "stdout",
     "output_type": "stream",
     "text": [
      "Job Summary PERSON\n",
      "Analytics Trainee PERSON\n",
      "BI ORG\n",
      "Key Accountabilities LOC\n",
      "Analytical Support\n",
      "Assist PERSON\n",
      "Learn PRODUCT\n",
      "SQL ORG\n",
      "Contribute ORG\n",
      "Visualization and Reporting:\n",
      "Assist WORK_OF_ART\n",
      "Learn PRODUCT\n",
      "Minimum Knowledge & Experience ORG\n",
      "SQL ORG\n",
      "Power BI ORG\n",
      "QlikSense ORG\n",
      "Clear GPE\n",
      "English LANGUAGE\n",
      "English LANGUAGE\n",
      "Managing Work\n",
      "Effectively WORK_OF_ART\n",
      "Emotional Intelligence Essentials\n",
      "Establishing ORG\n",
      "Building Partnerships\n",
      "Developing WORK_OF_ART\n",
      "Continuous Improvement\n",
      " PERSON\n",
      "Continuous Learning PERSON\n"
     ]
    }
   ],
   "source": [
    "import spacy\n",
    "\n",
    "# Load the spaCy model\n",
    "nlp = spacy.load(\"en_core_web_sm\")\n",
    "\n",
    "# Process text\n",
    "doc = nlp(text2)\n",
    "\n",
    "# Extract entities\n",
    "for ent in doc.ents:\n",
    "    print(ent.text, ent.label_)\n"
   ]
  },
  {
   "cell_type": "markdown",
   "metadata": {},
   "source": [
    "#### Step 5b trying KeyBERT for Dynamic Keyword Extraction\n",
    "KeyBERT uses BERT embeddings to extract keywords that are contextually important. Unlike fixed lists or simple matching, KeyBERT understands the context and semantics of words in text.\n"
   ]
  },
  {
   "cell_type": "code",
   "execution_count": 60,
   "metadata": {},
   "outputs": [
    {
     "name": "stdout",
     "output_type": "stream",
     "text": [
      "[('competencies', 0.3771), ('skills', 0.3655), ('tasks', 0.363), ('insights', 0.3176), ('analytics', 0.3005)]\n"
     ]
    }
   ],
   "source": [
    "from keybert import KeyBERT\n",
    "\n",
    "kw_model = KeyBERT()\n",
    "keywords = kw_model.extract_keywords(text)\n",
    "\n",
    "print(keywords)\n"
   ]
  },
  {
   "cell_type": "markdown",
   "metadata": {},
   "source": [
    "#### Step 5c Tuning SpaCy\n",
    "SpaCy has been the best performer by far. But it'd be nice to tune it a bit to improve its results even further. We are going to use a list of 238 data skills to guide the extraction. \n"
   ]
  },
  {
   "cell_type": "code",
   "execution_count": 99,
   "metadata": {},
   "outputs": [
    {
     "name": "stdout",
     "output_type": "stream",
     "text": [
      "Big Data ORG\n",
      "Media & Digital Publishers ORG\n",
      "Spanish NORP\n",
      "Communication ORG\n",
      "the Marketing department ORG\n",
      "Big Data ORG\n",
      "Communication ORG\n",
      "Italian NORP\n",
      "Spanish LANGUAGE\n",
      "Humanity, Social sciences ORG\n",
      "Communication/Information sciences ORG\n",
      "3 months DATE\n",
      "500€/month CARDINAL\n",
      "Internship Hours EVENT\n",
      "Monday to Friday DATE\n",
      "10 to 19 hours TIME\n",
      "Madrid GPE\n",
      "NIE ORG\n",
      "Madrid Holidays ORG\n",
      "Madrid GPE\n",
      "300 - 600 euros MONEY\n",
      "One CARDINAL\n",
      "550 - 990 euros MONEY\n",
      "1 month DATE\n",
      "30 - 40 euros MONEY\n",
      "10 - 12 euros MONEY\n",
      "2 CARDINAL\n",
      "40 euros MONEY\n",
      "1 CARDINAL\n",
      "6 euros MONEY\n",
      "500 grams QUANTITY\n",
      "3,11 euros MONEY\n",
      "500 grams QUANTITY\n",
      "4,87 euros MONEY\n",
      "1 kg QUANTITY\n",
      "1,00 euro MONEY\n",
      "1 kg QUANTITY\n",
      "1,80 euros MONEY\n",
      "1 CARDINAL\n",
      "euros\n",
      "\n",
      "Transportation ORG\n",
      "1 liter QUANTITY\n",
      "1,30 euros MONEY\n",
      "monthly DATE\n",
      "55 euros MONEY\n",
      "1,17 euros\n",
      "\n",
      "Transportation MONEY\n",
      "9 euros MONEY\n",
      "9 euros MONEY\n",
      "2 CARDINAL\n",
      "between 30 - 40 euros CARDINAL\n",
      "1-month DATE\n",
      "between 35 - 50 euros CARDINAL\n",
      "Madrid GPE\n",
      "the season DATE\n",
      "Madrid GPE\n",
      "winters DATE\n",
      "the winter months DATE\n",
      "November - March DATE\n",
      "3°C QUANTITY\n",
      "37°F QUANTITY\n",
      "16°C QUANTITY\n",
      "61°F QUANTITY\n",
      "midday TIME\n",
      "April - October DATE\n",
      "11°C QUANTITY\n",
      "52°F QUANTITY\n",
      "the morning TIME\n",
      "32°C QUANTITY\n",
      "90°F QUANTITY\n",
      "a day DATE\n",
      "Madrid GPE\n",
      "Madrid GPE\n",
      "around 300-600€ MONEY\n",
      "Madrid GPE\n",
      "between 550€-1000€ MONEY\n",
      "Madrid GPE\n",
      "Madrid GPE\n",
      "NIE ORG\n",
      "Madrid GPE\n",
      "European NORP\n",
      "Madrid GPE\n",
      "NIE ORG\n",
      "Avenida de los Poblados S/N FAC\n",
      "hours TIME\n",
      "between 09:00- 14:00 TIME\n",
      "Monday to Friday DATE\n",
      "121 CARDINAL\n",
      "131 CARDINAL\n",
      "138 CARDINAL\n",
      "129 CARDINAL\n",
      "155 CARDINAL\n",
      "Aluche ORG\n",
      "Madrid GPE\n",
      "cita Previa PERSON\n",
      "Opening The Link In The Drop WORK_OF_ART\n",
      "Certificados EU ORG\n",
      "oficina pondrá PERSON\n",
      "su disponición GPE\n",
      "nuevas citas.\n",
      "\n",
      " PERSON\n",
      "08:00 am TIME\n",
      "Monday DATE\n",
      "morning TIME\n",
      "NIE ORG\n",
      "06:30 in the morning TIME\n",
      "NIE ORG\n",
      "Madrid GPE\n",
      "Non-European Citizens ORG\n",
      "European NORP\n",
      "Spain GPE\n",
      "NIE ORG\n",
      "Foreign Affairs ORG\n",
      "Oficina de ORG\n",
      "Spain GPE\n",
      "Spanish NORP\n",
      "Madrid GPE\n",
      "Avenida de los Poblados S FAC\n",
      "121 CARDINAL\n",
      "131 CARDINAL\n",
      "138 CARDINAL\n",
      "129 CARDINAL\n",
      "155 CARDINAL\n",
      "Madrid GPE\n",
      "Foreign Affairs ORG\n",
      "Madrid GPE\n",
      "Spain GPE\n",
      "up to 3 months DATE\n",
      "EX-15 ORG\n",
      "Spain GPE\n",
      "more than 3 months DATE\n",
      "EU ORG\n",
      "Spanish NORP\n",
      "10.60 MONEY\n",
      "Tarjeta de Residencia ORG\n",
      "Madrid GPE\n",
      "NIE ORG\n",
      "Social Security ORG\n",
      "Número de Seguridad Social ORG\n",
      "Madrid GPE\n",
      "Health ORG\n",
      "English LANGUAGE\n",
      "99% PERCENT\n",
      "Spanish NORP\n",
      "Necesito número de la seguridad PERSON\n",
      "Madrid GPE\n",
      "Localozación PERSON\n",
      "Por Provincia LOC\n",
      "Madrid GPE\n",
      "NIE ORG\n",
      "Social Security ORG\n",
      "the first working day DATE\n",
      "NIE ORG\n",
      "European Union ORG\n",
      "EU ORG\n",
      "Madrid GPE\n",
      "Madrid GPE\n",
      "EU ORG\n",
      "Madrid GPE\n",
      "13 public holidays DATE\n",
      "Madrid GPE\n",
      "the year 2019 DATE\n",
      "1 January DATE\n",
      "New Year EVENT\n",
      "7 January DATE\n",
      "18 April DATE\n",
      "Thursday DATE\n",
      "19 April DATE\n",
      "Good Friday DATE\n",
      "1 May DATE\n",
      "International Workers’ Day ORG\n",
      "2 May DATE\n",
      "the Autonomous Community of Madrid ORG\n",
      "15 May DATE\n",
      "St. Isidro GPE\n",
      "15 August DATE\n",
      "12 October DATE\n",
      "Spanish National Holiday EVENT\n",
      "1 November DATE\n",
      "’ Day DATE\n",
      "6 December DATE\n",
      "Constitution Day DATE\n",
      "9 December DATE\n",
      "Immaculate Conception Day EVENT\n",
      "25 December DATE\n",
      "Christmas DATE\n",
      "2142 CARDINAL\n",
      "500€ + MONEY\n",
      "Madrid GPE\n"
     ]
    }
   ],
   "source": [
    "#This was the first attempt\n",
    "from spacy.pipeline import EntityRuler\n",
    "\n",
    "# Load your spaCy model\n",
    "nlp = spacy.load(\"en_core_web_lg\")\n",
    "\n",
    "# Create the EntityRuler\n",
    "ruler = nlp.add_pipe(\"entity_ruler\", before=\"ner\", config={\"overwrite_ents\": True})\n",
    "\n",
    "# Example list of skills/keywords\n",
    "with open(\"DataSkills.txt\", 'r') as file:\n",
    "    skills = file.readlines()\n",
    "skills = [skill.strip() for skill in skills]\n",
    "\n",
    "# Create patterns to add to the ruler\n",
    "patterns = [{\"label\": \"SKILL\", \"pattern\": skill} for skill in skills]\n",
    "ruler.add_patterns(patterns)\n",
    "\n",
    "text = detailed_jobs_df['Description'][130]\n",
    "doc = nlp(text)\n",
    "\n",
    "# Test the updated pipeline\n",
    "for ent in doc.ents:\n",
    "    print(ent.text, ent.label_)"
   ]
  },
  {
   "cell_type": "markdown",
   "metadata": {},
   "source": [
    "Tuning the ruler with our list of skills, it yields considerable better results. Let's now apply this code to all descriptions "
   ]
  },
  {
   "cell_type": "code",
   "execution_count": 111,
   "metadata": {},
   "outputs": [],
   "source": [
    "from spacy.pipeline import EntityRuler\n",
    "#Setting the model\n",
    "nlp = spacy.load(\"en_core_web_lg\")\n",
    "ruler = nlp.add_pipe(\"entity_ruler\", before=\"ner\", config={\"overwrite_ents\": True})\n",
    "\n",
    "with open(\"DataSkills.txt\", 'r') as file:\n",
    "    skills = file.readlines()\n",
    "skills = [skill.strip() for skill in skills]\n",
    "\n",
    "patterns = [{\"label\": \"SKILL\", \"pattern\": skill} for skill in skills]\n",
    "ruler.add_patterns(patterns)\n",
    "\n",
    "#initiate function: \n",
    "def extract_keywords(description):\n",
    "    doc = nlp(description)\n",
    "    keywords = [ent.text for ent in doc.ents if ent.label_ == 'SKILL']\n",
    "    return keywords"
   ]
  },
  {
   "cell_type": "code",
   "execution_count": 112,
   "metadata": {},
   "outputs": [
    {
     "data": {
      "text/plain": [
       "0                                          [Python, SQL]\n",
       "1                                          [Python, SQL]\n",
       "2      [data science, analytics, Python, SQL, data qu...\n",
       "3      [AWS, Azure, AWS Lambda, Kubernetes, AWS, AWS,...\n",
       "4                                                     []\n",
       "                             ...                        \n",
       "293                          [analytics, Python, Python]\n",
       "294                                                   []\n",
       "295                                                   []\n",
       "296                                                 [AI]\n",
       "297    [reporting, reporting, big data, reporting, re...\n",
       "Name: keywords, Length: 298, dtype: object"
      ]
     },
     "execution_count": 112,
     "metadata": {},
     "output_type": "execute_result"
    }
   ],
   "source": [
    "# Apply the function to the 'Description' column and create a new 'keywords' column\n",
    "detailed_jobs_df['keywords'] = detailed_jobs_df['Description'].apply(extract_keywords)\n",
    "\n",
    "detailed_jobs_df['keywords']"
   ]
  },
  {
   "cell_type": "markdown",
   "metadata": {},
   "source": [
    "Here I remember that the descriptions are in different languages. So after many attempts to fix it. I decided to go the easy route and translate them before running them through the English model of spaCy. "
   ]
  },
  {
   "cell_type": "code",
   "execution_count": 126,
   "metadata": {},
   "outputs": [
    {
     "ename": "ValueError",
     "evalue": "[E966] `nlp.add_pipe` now takes the string name of the registered component factory, not a callable component. Expected string, but got <spacy.pipeline.entityruler.EntityRuler object at 0x00000231ABB50510> (name: 'None').\n\n- If you created your component with `nlp.create_pipe('name')`: remove nlp.create_pipe and call `nlp.add_pipe('name')` instead.\n\n- If you passed in a component like `TextCategorizer()`: call `nlp.add_pipe` with the string name instead, e.g. `nlp.add_pipe('textcat')`.\n\n- If you're using a custom component: Add the decorator `@Language.component` (for function components) or `@Language.factory` (for class components / factories) to your custom component and assign it a name, e.g. `@Language.component('your_name')`. You can then run `nlp.add_pipe('your_name')` to add it to the pipeline.",
     "output_type": "error",
     "traceback": [
      "\u001b[1;31m---------------------------------------------------------------------------\u001b[0m",
      "\u001b[1;31mValueError\u001b[0m                                Traceback (most recent call last)",
      "Cell \u001b[1;32mIn[126], line 37\u001b[0m\n\u001b[0;32m     34\u001b[0m skills \u001b[38;5;241m=\u001b[39m [skill\u001b[38;5;241m.\u001b[39mstrip() \u001b[38;5;28;01mfor\u001b[39;00m skill \u001b[38;5;129;01min\u001b[39;00m skills]\n\u001b[0;32m     36\u001b[0m \u001b[38;5;66;03m# Add EntityRuler to each model\u001b[39;00m\n\u001b[1;32m---> 37\u001b[0m nlp_en \u001b[38;5;241m=\u001b[39m \u001b[43mcreate_entity_ruler\u001b[49m\u001b[43m(\u001b[49m\u001b[43mnlp_en\u001b[49m\u001b[43m,\u001b[49m\u001b[43m \u001b[49m\u001b[43mskills\u001b[49m\u001b[43m)\u001b[49m\n\u001b[0;32m     38\u001b[0m nlp_es \u001b[38;5;241m=\u001b[39m create_entity_ruler(nlp_es, skills)\n\u001b[0;32m     39\u001b[0m nlp_fr \u001b[38;5;241m=\u001b[39m create_entity_ruler(nlp_fr, skills)\n",
      "Cell \u001b[1;32mIn[126], line 28\u001b[0m, in \u001b[0;36mcreate_entity_ruler\u001b[1;34m(nlp, skills)\u001b[0m\n\u001b[0;32m     26\u001b[0m patterns \u001b[38;5;241m=\u001b[39m [{\u001b[38;5;124m\"\u001b[39m\u001b[38;5;124mlabel\u001b[39m\u001b[38;5;124m\"\u001b[39m: \u001b[38;5;124m\"\u001b[39m\u001b[38;5;124mSKILL\u001b[39m\u001b[38;5;124m\"\u001b[39m, \u001b[38;5;124m\"\u001b[39m\u001b[38;5;124mpattern\u001b[39m\u001b[38;5;124m\"\u001b[39m: skill} \u001b[38;5;28;01mfor\u001b[39;00m skill \u001b[38;5;129;01min\u001b[39;00m skills]\n\u001b[0;32m     27\u001b[0m ruler\u001b[38;5;241m.\u001b[39madd_patterns(patterns)\n\u001b[1;32m---> 28\u001b[0m \u001b[43mnlp\u001b[49m\u001b[38;5;241;43m.\u001b[39;49m\u001b[43madd_pipe\u001b[49m\u001b[43m(\u001b[49m\u001b[43mruler\u001b[49m\u001b[43m,\u001b[49m\u001b[43m \u001b[49m\u001b[43mbefore\u001b[49m\u001b[38;5;241;43m=\u001b[39;49m\u001b[38;5;124;43m\"\u001b[39;49m\u001b[38;5;124;43mner\u001b[39;49m\u001b[38;5;124;43m\"\u001b[39;49m\u001b[43m)\u001b[49m\n\u001b[0;32m     29\u001b[0m \u001b[38;5;28;01mreturn\u001b[39;00m nlp\n",
      "File \u001b[1;32md:\\DATA\\Projects\\Linkedin-Jobs-Scrapping\\LJS\\Lib\\site-packages\\spacy\\language.py:807\u001b[0m, in \u001b[0;36mLanguage.add_pipe\u001b[1;34m(self, factory_name, name, before, after, first, last, source, config, raw_config, validate)\u001b[0m\n\u001b[0;32m    805\u001b[0m     bad_val \u001b[38;5;241m=\u001b[39m \u001b[38;5;28mrepr\u001b[39m(factory_name)\n\u001b[0;32m    806\u001b[0m     err \u001b[38;5;241m=\u001b[39m Errors\u001b[38;5;241m.\u001b[39mE966\u001b[38;5;241m.\u001b[39mformat(component\u001b[38;5;241m=\u001b[39mbad_val, name\u001b[38;5;241m=\u001b[39mname)\n\u001b[1;32m--> 807\u001b[0m     \u001b[38;5;28;01mraise\u001b[39;00m \u001b[38;5;167;01mValueError\u001b[39;00m(err)\n\u001b[0;32m    808\u001b[0m name \u001b[38;5;241m=\u001b[39m name \u001b[38;5;28;01mif\u001b[39;00m name \u001b[38;5;129;01mis\u001b[39;00m \u001b[38;5;129;01mnot\u001b[39;00m \u001b[38;5;28;01mNone\u001b[39;00m \u001b[38;5;28;01melse\u001b[39;00m factory_name\n\u001b[0;32m    809\u001b[0m \u001b[38;5;28;01mif\u001b[39;00m name \u001b[38;5;129;01min\u001b[39;00m \u001b[38;5;28mself\u001b[39m\u001b[38;5;241m.\u001b[39mcomponent_names:\n",
      "\u001b[1;31mValueError\u001b[0m: [E966] `nlp.add_pipe` now takes the string name of the registered component factory, not a callable component. Expected string, but got <spacy.pipeline.entityruler.EntityRuler object at 0x00000231ABB50510> (name: 'None').\n\n- If you created your component with `nlp.create_pipe('name')`: remove nlp.create_pipe and call `nlp.add_pipe('name')` instead.\n\n- If you passed in a component like `TextCategorizer()`: call `nlp.add_pipe` with the string name instead, e.g. `nlp.add_pipe('textcat')`.\n\n- If you're using a custom component: Add the decorator `@Language.component` (for function components) or `@Language.factory` (for class components / factories) to your custom component and assign it a name, e.g. `@Language.component('your_name')`. You can then run `nlp.add_pipe('your_name')` to add it to the pipeline."
     ]
    }
   ],
   "source": [
    "#Attempting to deal the multiple languages \n",
    "import spacy\n",
    "from spacy.pipeline import EntityRuler\n",
    "import pandas as pd\n",
    "\n",
    "# Load your spaCy models for different languages\n",
    "nlp_en = spacy.load(\"en_core_news_lg\")\n",
    "nlp_es = spacy.load(\"es_core_news_lg\")\n",
    "nlp_fr = spacy.load(\"fr_core_news_lg\")\n",
    "nlp_ca = spacy.load(\"ca_core_news_lg\")\n",
    "nlp_nl = spacy.load(\"nl_core_news_lg\")\n",
    "nlp_de = spacy.load(\"de_core_news_lg\")\n",
    "\n",
    "# Create the EntityRuler for each model\n",
    "def create_entity_ruler(nlp, skills):\n",
    "    ruler = EntityRuler(nlp, overwrite_ents=True)\n",
    "    patterns = [{\"label\": \"SKILL\", \"pattern\": skill} for skill in skills]\n",
    "    ruler.add_patterns(patterns)\n",
    "    nlp.add_pipe(ruler, before=\"ner\")\n",
    "    return nlp\n",
    "\n",
    "# Read the list of skills from the text file\n",
    "with open(\"DataSkills.txt\", 'r') as file:\n",
    "    skills = file.readlines()\n",
    "skills = [skill.strip() for skill in skills]\n",
    "\n",
    "# Add EntityRuler to each model\n",
    "nlp_en = create_entity_ruler(nlp_en, skills)\n",
    "nlp_es = create_entity_ruler(nlp_es, skills)\n",
    "nlp_e = create_entity_ruler(nlp_es, skills)\n"
   ]
  },
  {
   "cell_type": "code",
   "execution_count": 192,
   "metadata": {},
   "outputs": [],
   "source": [
    "import spacy\n",
    "from spacy.tokens import Doc\n",
    "from spacy.matcher import PhraseMatcher\n",
    "import deepl\n",
    "import pandas as pd\n",
    "\n",
    "# Initialize spaCy model\n",
    "nlp = spacy.load(\"en_core_web_md\")\n",
    "\n",
    "# List of key skills\n",
    "with open(\"DataSkills.txt\", 'r') as file:\n",
    "    skills = file.readlines()\n",
    "key_skills = [skill.strip() for skill in skills]\n",
    "key_skills_set = set([skill.lower() for skill in key_skills])  # Convert to set for faster lookup\n",
    "\n",
    "# Register custom extension attributes\n",
    "Doc.set_extension(\"key_skills\", default=[], force=True)\n",
    "\n",
    "# Initialize PhraseMatcher with the shared vocabulary\n",
    "matcher = PhraseMatcher(nlp.vocab)\n",
    "patterns = [nlp.make_doc(skill) for skill in key_skills]\n",
    "matcher.add(\"KEY_SKILLS\", patterns)\n",
    "\n",
    "# Define the custom component for keyword extraction\n",
    "@spacy.Language.component(\"key_skill_extractor\")\n",
    "def key_skill_extractor(doc):\n",
    "    # Extract key skills using PhraseMatcher\n",
    "    matches = matcher(doc)\n",
    "    matched_skills = [doc[start:end].text.lower() for match_id, start, end in matches]\n",
    "\n",
    "    # Deduplicate the skills\n",
    "    doc._.key_skills = list(set(matched_skills))\n",
    "    return doc\n",
    "\n",
    "# Add the custom component to the pipeline\n",
    "nlp.add_pipe(\"key_skill_extractor\", last=True)\n",
    "\n",
    "# Initialize DeepL translator\n",
    "DEEPL_API_KEY = '6966c943-0c69-40ed-a7cc-59cfd3e140f0:fx'\n",
    "translator = deepl.Translator(DEEPL_API_KEY)\n",
    "\n",
    "# Function to translate text to English if not in English\n",
    "def translate_to_english(text, lang):\n",
    "    if lang != 'en':\n",
    "        translated = translator.translate_text(text, target_lang='EN-GB')\n",
    "        return translated.text\n",
    "    return text\n",
    "\n",
    "# Modified extract_keywords function to include translation\n",
    "def extract_keywords(description, lang):\n",
    "    description_in_english = translate_to_english(description, lang)\n",
    "    doc = nlp(description_in_english)\n",
    "    return doc._.key_skills\n",
    "\n"
   ]
  },
  {
   "cell_type": "code",
   "execution_count": 193,
   "metadata": {},
   "outputs": [
    {
     "data": {
      "text/plain": [
       "0                [automation, python, sql, data science]\n",
       "1      [python, data pipelines, data engineering, sql...\n",
       "2      [python, dashboards, hypothesis testing, analy...\n",
       "3      [agile methodologies, sql, python, aws lambda,...\n",
       "4                                                     []\n",
       "                             ...                        \n",
       "293                                  [python, analytics]\n",
       "294                                                   []\n",
       "295                                                   []\n",
       "296                                                 [ai]\n",
       "297                            [ai, reporting, big data]\n",
       "Name: keywords, Length: 298, dtype: object"
      ]
     },
     "execution_count": 193,
     "metadata": {},
     "output_type": "execute_result"
    }
   ],
   "source": [
    "# Apply the function to the 'Description' column and create a new 'keywords' column\n",
    "detailed_jobs_df['keywords'] = detailed_jobs_df.apply(lambda row: extract_keywords(row['Description'], row['language']), axis=1)\n",
    "\n",
    "\n",
    "detailed_jobs_df['keywords']"
   ]
  },
  {
   "cell_type": "markdown",
   "metadata": {},
   "source": []
  },
  {
   "cell_type": "code",
   "execution_count": 202,
   "metadata": {},
   "outputs": [
    {
     "data": {
      "text/plain": [
       "\"haddock is the first smart cost management software for restaurants in Europe. We are focused on helping restaurateurs boosting their business to the next level offering real-time data focused on increasing their margins.\\n\\nOur mission 👉 To inspire and empower millions of restaurateurs boosting their business to the next level.\\n\\nOur vision 👉 To be the market leaders, innovate, and build long-term relationships with our clients to become their tech strategic partners in the success of their business.\\n\\n👀 Have you ever been in an AirBnB? haddock has been part of the program offered by the best accelerator in the world, Y Combinator. Companies like AirBnB or Twitch have grown with the teachings of Silicon Valley and haddock is on the same rocket. In addition, investors such as Zone2Boost, JME o Extension Fund are backing us.\\n\\n🤔 How do we help restaurants?\\n\\n👉 Digitalize all their invoices and delivery notes, and have them in the cloud and in our interactive dashboard to help them make real-time decisions with up-to-date data.\\n\\n👉 Know in real-time all the products’ price variations from their suppliers instantly.\\n\\n👉 Create BoM (bill of materials) of their whole menu to set a selling price and control the margin of each dish on the menu. This also allows them to update every dish's cost with the last product’s purchase price in real-time.\\n\\n👉 Control their sales by integrating their POS. This will help them to make decisions with real data.\\n\\n❓Do you want to know more about our functionalities? Check this!\\n\\nWhat we expect from you? ⚡️\\n\\n👉 You have passion and desire to embark on this adventure (and you really like the Horeca sector).\\n\\n👉 You want to gain experience or have experience in one of our areas: Product, Finance, People & Culture, Operations, Sales or Customer Experience.\\n\\n👉 It doesn't matter if you have already worked or are looking for an internship, we want to meet talent!\\n\\nWhen we have a position that fits your profile, we will contact with you proactively.\\n\\nBenefits For Our Team 👪\\n\\n💸 Competitive salary, based on the position to fill. Keep in mind that we are an early-stage startup and our salaries will increase as the company grows.\\n\\n⏳ Flexible working hours and Remote work. Got a flight to catch? Don't worry, go! Take it!\\n\\n📚 Training budget for each team member. We don't want you to go to sleep without learning something new every day.\\n\\n☕️ Coffee and milk -yes, also oatmeal- by Good News.\\n\\n🍏🍐🍊 Fruit every week to take care of your mind and body.\\n\\n💰 Need cash flow? Collect your payroll whenever you want in addition to have flexible remuneration thanks to Playflow.\\n\\n🧘🏻\\u200d♀️ Barrefit, LoveCycle, Lapso Studios, Trib3 and much more! With Urban Sports you can go to the gym whenever you want. Have you never tried yoga at 105 ºF? With haddock you can do it.\\n\\n💚 Alan, the ultimate private health insurance. haddock takes care of you professionally and personally.\\n\\n🧘🏻 Physiotherapist every Wednesday at the office at a special price.\\n\\n📍Privileged location. Having a coffee in the morning with La Pedrera in the background is priceless. You can also end the working day with dinner at the Gala Barcelona restaurant, just below our offices.\\n\\nOur Process 🫱🏻\\u200d🫲🏼\\n\\n1️⃣Interview with Talent Acquisition Team (30’) 📞\\n\\n2️⃣Interview with the Hiring Manager (45’ - 1 hour) 🗣\\n\\n3️⃣Culture Fit interview with our Founders (1 hour) 🤝\\nShow less\""
      ]
     },
     "execution_count": 202,
     "metadata": {},
     "output_type": "execute_result"
    }
   ],
   "source": [
    "text = detailed_jobs_df[\"Description\"][4]\n",
    "text\n",
    "translated = translator.translate_text(text, target_lang='EN-GB')\n",
    "translated.text"
   ]
  },
  {
   "cell_type": "code",
   "execution_count": 201,
   "metadata": {},
   "outputs": [
    {
     "data": {
      "text/plain": [
       "['python', 'data analysis', 'sql', 'analytics']"
      ]
     },
     "execution_count": 201,
     "metadata": {},
     "output_type": "execute_result"
    }
   ],
   "source": [
    "extract_keywords(detailed_jobs_df[\"Description\"][10], detailed_jobs_df[\"language\"][10])"
   ]
  }
 ],
 "metadata": {
  "kernelspec": {
   "display_name": "LJS",
   "language": "python",
   "name": "python3"
  },
  "language_info": {
   "codemirror_mode": {
    "name": "ipython",
    "version": 3
   },
   "file_extension": ".py",
   "mimetype": "text/x-python",
   "name": "python",
   "nbconvert_exporter": "python",
   "pygments_lexer": "ipython3",
   "version": "3.11.9"
  }
 },
 "nbformat": 4,
 "nbformat_minor": 2
}
