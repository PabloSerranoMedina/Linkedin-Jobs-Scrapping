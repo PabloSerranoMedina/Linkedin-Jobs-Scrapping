{
 "cells": [
  {
   "cell_type": "markdown",
   "metadata": {},
   "source": [
    "# Linkedin Jobs Scrapping\n",
    "In this project, I will conduct a web scraping data analysis to automatically extract job posting data from a job posting site. To achieve this, I will set up the environment, identify the job posting site, scrape the data, process, analyze, and visualize the data.\n",
    "\n",
    "After I perform my analysis, I will share my findings."
   ]
  },
  {
   "cell_type": "code",
   "execution_count": 15,
   "metadata": {},
   "outputs": [],
   "source": [
    "#Import Packages\n",
    "from selenium import webdriver\n",
    "import time\n",
    "import pandas as pd\n",
    "import os"
   ]
  },
  {
   "cell_type": "code",
   "execution_count": 18,
   "metadata": {},
   "outputs": [],
   "source": [
    "\n",
    "from selenium.webdriver.support.select import Select\n",
    "from selenium.webdriver.support.ui import WebDriverWait\n",
    "from selenium.webdriver.common.by import By\n",
    "from selenium.webdriver.support import expected_conditions as EC\n",
    "from selenium.webdriver.chrome.service import Service\n",
    "\n",
    "\n",
    "\n"
   ]
  },
  {
   "cell_type": "code",
   "execution_count": 23,
   "metadata": {},
   "outputs": [],
   "source": [
    "url1 = 'https://www.linkedin.com/jobs/search/?currentJobId=3934443881&keywords=data&location=Spain'"
   ]
  },
  {
   "cell_type": "code",
   "execution_count": 24,
   "metadata": {},
   "outputs": [],
   "source": [
    "#Setting webdriver \n",
    "service = Service(executable_path=r'D:\\\\DATA\\\\Projects\\\\Linkedin-Jobs-Scrapping\\\\chromedriver-win64\\\\chromedriver.exe')\n",
    "driver = webdriver.Chrome(service=service)\n",
    "driver.get(url1) #open the job search page\n",
    "driver.implicitly_wait(10) #for safety, wait 10 segs to give time to load completely "
   ]
  },
  {
   "cell_type": "code",
   "execution_count": 31,
   "metadata": {},
   "outputs": [
    {
     "data": {
      "text/plain": [
       "241"
      ]
     },
     "execution_count": 31,
     "metadata": {},
     "output_type": "execute_result"
    }
   ],
   "source": [
    "#Find number of jobs in the search\n",
    "n = driver.find_element(By.CLASS_NAME, 'results-context-header__job-count').text\n",
    "y=pd.to_numeric(n)\n",
    "y"
   ]
  },
  {
   "cell_type": "code",
   "execution_count": 32,
   "metadata": {},
   "outputs": [],
   "source": [
    "#Let's tell chrome to scroll through all jobs and click on see more jobs button when it appears\n",
    "\n",
    "i = 2\n",
    "while i <= int((y+200)/25)+1: \n",
    "    driver.execute_script(\"window.scrollTo(0, document.body.scrollHeight);\")\n",
    "    i = i + 1\n",
    "try:\n",
    "    send=driver.find_element_by_xpath(\"//button[@aria-label='Load more results']\")\n",
    "    driver.execute_script(\"arguments[0].click();\", send)   \n",
    "    time.sleep(3)\n",
    "except: \n",
    "    pass\n",
    "    time.sleep(4)"
   ]
  },
  {
   "cell_type": "markdown",
   "metadata": {},
   "source": [
    "# **Step 1: Understanding the LinkedIn Jobs Search Page**"
   ]
  },
  {
   "cell_type": "markdown",
   "metadata": {},
   "source": [
    "Step 2: Identifying Job Data Loading Mechanism"
   ]
  },
  {
   "cell_type": "markdown",
   "metadata": {},
   "source": [
    "Step 3: Setting Up the Spider"
   ]
  },
  {
   "cell_type": "markdown",
   "metadata": {},
   "source": [
    "Step 4: Setting Up a Proxy"
   ]
  },
  {
   "cell_type": "markdown",
   "metadata": {},
   "source": [
    "Step 5: Writing the Spider Code"
   ]
  },
  {
   "cell_type": "markdown",
   "metadata": {},
   "source": [
    "Step 6: Running the Spider"
   ]
  },
  {
   "cell_type": "markdown",
   "metadata": {},
   "source": [
    "Step 7: Closing and Outputting Data"
   ]
  }
 ],
 "metadata": {
  "kernelspec": {
   "display_name": "LJS",
   "language": "python",
   "name": "python3"
  },
  "language_info": {
   "codemirror_mode": {
    "name": "ipython",
    "version": 3
   },
   "file_extension": ".py",
   "mimetype": "text/x-python",
   "name": "python",
   "nbconvert_exporter": "python",
   "pygments_lexer": "ipython3",
   "version": "3.11.9"
  }
 },
 "nbformat": 4,
 "nbformat_minor": 2
}
