{
 "cells": [
  {
   "cell_type": "markdown",
   "metadata": {},
   "source": [
    "# **Linkedin Jobs Scrapping**\n",
    "In this project, I will scrape job posting data from LinkedIn. The goal is to be more prepared to land my first job as a intern in the data world.\n",
    "\n",
    "I want to see the location of the internship jobs and the requirements. Sadly, in Europe is not common to publish salary data, but I will also check the salaries of my -hopefully- first junior position. \n",
    "\n",
    "To achieve this, I will set up the environment, identify the job posting site, scrape the data, process, analyze, and visualize the data.\n",
    "\n",
    "Let's do it!"
   ]
  },
  {
   "cell_type": "markdown",
   "metadata": {},
   "source": [
    "### Step 1: Understanding the LinkedIn Jobs Search Page\n",
    "\n",
    "A quick inspection to the search page throws at us certain inconveniences:\n",
    "- The list of jobs are in individual cards with little information: company name, job name, location, and some extra info, like job id and link to the job post. So not everything is in one page.\n",
    "- It has **lazy load**. LinkedIn only loads the first 35 jobs at first. You need to scroll to the bottom of the page to load the next 25 jobs. \n",
    "- After 5 times lazyloading, a **'see more jobs'** button will pop up. \n",
    "\n",
    "Let's first solve the last two problems. **How can I load all the jobs in a search?**"
   ]
  },
  {
   "cell_type": "markdown",
   "metadata": {},
   "source": [
    "### Step 2: Scroll down and click with Selenium\n",
    "\n",
    "**Selenium** is a python library that automates browsers. So, basically, it will open a chrome tab and scroll down and click in the 'see more jobs' button for us.  "
   ]
  },
  {
   "cell_type": "code",
   "execution_count": 2,
   "metadata": {},
   "outputs": [],
   "source": [
    "#Import Packages\n",
    "from selenium import webdriver\n",
    "import time\n",
    "import pandas as pd\n",
    "import os\n",
    "\n",
    "from selenium.webdriver.support.select import Select\n",
    "from selenium.webdriver.support.ui import WebDriverWait\n",
    "from selenium.webdriver.common.by import By\n",
    "from selenium.webdriver.support import expected_conditions as EC\n",
    "from selenium.webdriver.chrome.service import Service"
   ]
  },
  {
   "cell_type": "code",
   "execution_count": 3,
   "metadata": {},
   "outputs": [],
   "source": [
    "#This code below opens a chrome window in the referenced url\n",
    "#Setting webdriver \n",
    "service = Service(executable_path=r'D:\\\\DATA\\\\Projects\\\\Linkedin-Jobs-Scrapping\\\\chromedriver-win64\\\\chromedriver.exe')\n",
    "driver = webdriver.Chrome(service=service)\n",
    "#The url we want to open. Later in the process we will make this url dynamic. \n",
    "url1 = 'https://www.linkedin.com/jobs/search/?keywords=Data&location=Spain&geoId=105646813&f_TPR=&f_E=1&position=1'\n",
    "driver.get(url1) #open the job search page\n",
    "driver.implicitly_wait(10) #for safety, wait 10 segs to give time to load completely "
   ]
  },
  {
   "cell_type": "code",
   "execution_count": 24,
   "metadata": {},
   "outputs": [
    {
     "data": {
      "text/plain": [
       "612"
      ]
     },
     "execution_count": 24,
     "metadata": {},
     "output_type": "execute_result"
    }
   ],
   "source": [
    "#Find number of jobs in the search\n",
    "\n",
    "n = driver.find_element(By.CLASS_NAME, 'results-context-header__job-count').text\n",
    "#Because LinkedIn writes '+17,700', we have to deal with any symbols to convert the number to an int.\n",
    "n = n.rstrip(\"+\")\n",
    "n = int(n.replace(\",\", \"\"))\n",
    "y=pd.to_numeric(n)\n",
    "y"
   ]
  },
  {
   "cell_type": "code",
   "execution_count": null,
   "metadata": {},
   "outputs": [],
   "source": [
    "#Scrolling down and loading all jobs \n",
    "i = 0\n",
    "while i <= int((y+35+25)/25): \n",
    "    driver.execute_script(\"window.scrollTo(0, document.body.scrollHeight);\")\n",
    "    i = i + 1\n",
    "    print('number of jobs:', 35+i*25)\n",
    "    \n",
    "    try:\n",
    "        driver.find_element(By.XPATH,'//*[@id=\"main-content\"]/section[2]/button').click()\n",
    "        time.sleep(1)\n",
    "            \n",
    "    except:\n",
    "        pass\n",
    "        time.sleep(2)\n",
    "         "
   ]
  },
  {
   "cell_type": "markdown",
   "metadata": {},
   "source": [
    "###  Step 3: Extracting the data from the job list\n",
    "\n",
    "Now that we have all the job cards loaded. Let's get their info! "
   ]
  },
  {
   "cell_type": "code",
   "execution_count": 10,
   "metadata": {},
   "outputs": [],
   "source": [
    "#Let's initiate some lists\n",
    "CompanyName = []\n",
    "JobTitle= []"
   ]
  },
  {
   "cell_type": "code",
   "execution_count": 26,
   "metadata": {},
   "outputs": [
    {
     "data": {
      "text/plain": [
       "'Emerald Stay® (A certified B Corp)'"
      ]
     },
     "execution_count": 26,
     "metadata": {},
     "output_type": "execute_result"
    }
   ],
   "source": [
    "#testing the code\n",
    "driver.find_elements(By.CLASS_NAME, 'base-search-card__subtitle')[116].text"
   ]
  },
  {
   "cell_type": "code",
   "execution_count": 27,
   "metadata": {},
   "outputs": [
    {
     "ename": "IndexError",
     "evalue": "list index out of range",
     "output_type": "error",
     "traceback": [
      "\u001b[1;31m---------------------------------------------------------------------------\u001b[0m",
      "\u001b[1;31mIndexError\u001b[0m                                Traceback (most recent call last)",
      "Cell \u001b[1;32mIn[27], line 3\u001b[0m\n\u001b[0;32m      1\u001b[0m \u001b[38;5;66;03m#Loop to go through all jobs and extract their data\u001b[39;00m\n\u001b[0;32m      2\u001b[0m \u001b[38;5;28;01mfor\u001b[39;00m job \u001b[38;5;129;01min\u001b[39;00m \u001b[38;5;28mrange\u001b[39m(y):\n\u001b[1;32m----> 3\u001b[0m     company \u001b[38;5;241m=\u001b[39m \u001b[43mdriver\u001b[49m\u001b[38;5;241;43m.\u001b[39;49m\u001b[43mfind_elements\u001b[49m\u001b[43m(\u001b[49m\u001b[43mBy\u001b[49m\u001b[38;5;241;43m.\u001b[39;49m\u001b[43mCLASS_NAME\u001b[49m\u001b[43m,\u001b[49m\u001b[43m \u001b[49m\u001b[38;5;124;43m'\u001b[39;49m\u001b[38;5;124;43mbase-search-card__subtitle\u001b[39;49m\u001b[38;5;124;43m'\u001b[39;49m\u001b[43m)\u001b[49m\u001b[43m[\u001b[49m\u001b[43mjob\u001b[49m\u001b[43m]\u001b[49m\u001b[38;5;241m.\u001b[39mtext\n\u001b[0;32m      4\u001b[0m     CompanyName\u001b[38;5;241m.\u001b[39mappend(company)\n\u001b[0;32m      6\u001b[0m CompanyName\n",
      "\u001b[1;31mIndexError\u001b[0m: list index out of range"
     ]
    }
   ],
   "source": [
    "#Loop to go through all jobs and extract their data\n",
    "for job in range(y):\n",
    "    company = driver.find_elements(By.CLASS_NAME, 'base-search-card__subtitle')[job].text\n",
    "    CompanyName.append(company)\n",
    "\n",
    "CompanyName"
   ]
  },
  {
   "cell_type": "markdown",
   "metadata": {},
   "source": [
    "Here, I encountered a `IndexError: list index out of range` all the time. \n",
    "\n",
    "I checked more deeply how linkedIn loads their jobs and how the page look. After several attempts and searches, I figured out that linkedIn never shows the full list of available jobs.\n",
    "\n",
    "If your search job number is an inexact number (+17,000, for example), the page stops loading more jobs after several clicks on the button. \n",
    "\n",
    "If your search is an exact number, you can reach the 'You've viewed all jobs for this search' tag. But it is a bit deceitful. If you inspect their code, the last card is even referenced as the last number of your search. That is, if you had 617 jobs, you will see a div with the class: `data-row=\"610\"`. But actually they had been skipping numbers all the time. So out of a search of 600, they usually show half of them: 300.\n",
    "\n",
    "This could be good enough. But we are learning here. So I decided to try a different method. "
   ]
  },
  {
   "cell_type": "markdown",
   "metadata": {},
   "source": [
    "### Step 2b: using Scrapy + ScrapeOps proxy aggregator [Abandoned]\n",
    "\n",
    "After a good while trying this method to function (https://www.youtube.com/watch?v=d4iz2NrZVRg&ab_channel=ScrapeOps), I gave up. LinkedIn automatically detected those calls and blocked them throwing a 403 error."
   ]
  },
  {
   "cell_type": "markdown",
   "metadata": {},
   "source": [
    "###  Step 3: Extracting the data from the job list (continuation)\n",
    "\n",
    "After some more research, it seems that scraping LinkedIn is quite difficult, and that it might get you banned if they caught you doing it. We will have to try again using selenium. "
   ]
  },
  {
   "cell_type": "code",
   "execution_count": 82,
   "metadata": {},
   "outputs": [],
   "source": [
    "#This code below opens a chrome window in the referenced url\n",
    "#Setting webdriver \n",
    "service = Service(executable_path=r'D:\\\\DATA\\\\Projects\\\\Linkedin-Jobs-Scrapping\\\\chromedriver-win64\\\\chromedriver.exe')\n",
    "driver = webdriver.Chrome(service=service)\n",
    "#The url we want to open. Later in the process we will make this url dynamic. \n",
    "url1 = 'https://www.linkedin.com/jobs/search/?keywords=Data&location=Spain&geoId=105646813&f_TPR=&f_E=1&position=1'\n",
    "driver.get(url1) #open the job search page\n",
    "driver.implicitly_wait(10) #for safety, wait 10 segs to give time to load completely "
   ]
  },
  {
   "cell_type": "code",
   "execution_count": 83,
   "metadata": {},
   "outputs": [],
   "source": [
    "# Scroll down and load all jobs. I changed a bit the loop since we couldn't rely anymore on the n provided by LinkedIn. \n",
    "last_height = driver.execute_script(\"return document.body.scrollHeight\")\n",
    "while True:\n",
    "    driver.execute_script(\"window.scrollTo(0, document.body.scrollHeight);\")\n",
    "    time.sleep(2)  # wait for new jobs to load\n",
    "\n",
    "    try:\n",
    "        # Click the \"See more jobs\" button if it exists\n",
    "        see_more_button = driver.find_element(By.XPATH, '//*[@id=\"main-content\"]/section[2]/button')\n",
    "        see_more_button.click()\n",
    "        time.sleep(2)  # wait for jobs to load after clicking the button\n",
    "    except:\n",
    "        pass\n",
    "\n",
    "    new_height = driver.execute_script(\"return document.body.scrollHeight\")\n",
    "    if new_height == last_height:\n",
    "        break\n",
    "    last_height = new_height"
   ]
  },
  {
   "cell_type": "code",
   "execution_count": 84,
   "metadata": {},
   "outputs": [
    {
     "data": {
      "text/plain": [
       "300"
      ]
     },
     "execution_count": 84,
     "metadata": {},
     "output_type": "execute_result"
    }
   ],
   "source": [
    "# In the same way, we had to find a dynamic way to set the range in which to loop our function. \n",
    "# Let's find how many job cards there are loaded.\n",
    "job_list = driver.find_element(By.CLASS_NAME, 'jobs-search__results-list')\n",
    "job_cards = job_list.find_elements(By.TAG_NAME, 'li')\n",
    "\n",
    "len(job_cards)"
   ]
  },
  {
   "cell_type": "code",
   "execution_count": null,
   "metadata": {},
   "outputs": [],
   "source": [
    "#Let's initiate some lists\n",
    "CompanyName = []\n",
    "JobTitle= []\n",
    "place = []\n",
    "posted_date = []\n",
    "urlPost = []\n",
    "# Let's iterate through all the cards to extract some data: \n",
    "j = 0\n",
    "for job_card in job_cards:\n",
    "    try:\n",
    "        company = job_card.find_element(By.CLASS_NAME, 'base-search-card__subtitle').text\n",
    "        title = job_card.find_element(By.CLASS_NAME, 'base-search-card__title').text\n",
    "        location = job_card.find_element(By.CLASS_NAME, 'job-search-card__location').text\n",
    "        date = job_card.find_element(By.XPATH, './/time[contains(@class, \"job-search-card__listdate\")]').get_attribute('datetime')\n",
    "        linkPost = job_card.find_element(By.CLASS_NAME, 'base-card__full-link').get_attribute('href')\n",
    "        \n",
    "        CompanyName.append(company)\n",
    "        JobTitle.append(title)\n",
    "        place.append(location)\n",
    "        urlPost.append(linkPost)\n",
    "        posted_date.append(date)\n",
    "        \n",
    "        j = j+1\n",
    "        print('Jobs extracted: ', j,linkPost)\n",
    "\n",
    "    except Exception as e:\n",
    "        print(f\"Error extracting data from a job card: {e}\")\n",
    "        pass\n",
    "\n",
    "# Print extracted data\n",
    "data = {\n",
    "    'Company Name': CompanyName,\n",
    "    'Job Title': JobTitle,\n",
    "    'location': place,\n",
    "    'Job URL': urlPost,\n",
    "    'Date' : posted_date\n",
    "}\n",
    "jobs_df = pd.DataFrame(data)\n",
    "jobs_df.to_csv(\"first_attempt_jobs.csv\")"
   ]
  },
  {
   "cell_type": "code",
   "execution_count": 50,
   "metadata": {},
   "outputs": [
    {
     "ename": "NoSuchElementException",
     "evalue": "Message: no such element: Unable to locate element: {\"method\":\"css selector\",\"selector\":\".num-applicants__caption\"}\n  (Session info: chrome=125.0.6422.141); For documentation on this error, please visit: https://www.selenium.dev/documentation/webdriver/troubleshooting/errors#no-such-element-exception\nStacktrace:\n\tGetHandleVerifier [0x00007FF7BB2E1F52+60322]\n\t(No symbol) [0x00007FF7BB25CEC9]\n\t(No symbol) [0x00007FF7BB117EBA]\n\t(No symbol) [0x00007FF7BB167676]\n\t(No symbol) [0x00007FF7BB16773C]\n\t(No symbol) [0x00007FF7BB1AE967]\n\t(No symbol) [0x00007FF7BB18C25F]\n\t(No symbol) [0x00007FF7BB1ABC80]\n\t(No symbol) [0x00007FF7BB18BFC3]\n\t(No symbol) [0x00007FF7BB159617]\n\t(No symbol) [0x00007FF7BB15A211]\n\tGetHandleVerifier [0x00007FF7BB5F94AD+3301629]\n\tGetHandleVerifier [0x00007FF7BB6436D3+3605283]\n\tGetHandleVerifier [0x00007FF7BB639450+3563680]\n\tGetHandleVerifier [0x00007FF7BB394326+790390]\n\t(No symbol) [0x00007FF7BB26750F]\n\t(No symbol) [0x00007FF7BB263404]\n\t(No symbol) [0x00007FF7BB263592]\n\t(No symbol) [0x00007FF7BB252F9F]\n\tBaseThreadInitThunk [0x00007FFF1E557344+20]\n\tRtlUserThreadStart [0x00007FFF205626B1+33]\n",
     "output_type": "error",
     "traceback": [
      "\u001b[1;31m---------------------------------------------------------------------------\u001b[0m",
      "\u001b[1;31mNoSuchElementException\u001b[0m                    Traceback (most recent call last)",
      "Cell \u001b[1;32mIn[50], line 25\u001b[0m\n\u001b[0;32m     22\u001b[0m \u001b[38;5;28;01mexcept\u001b[39;00m:\n\u001b[0;32m     23\u001b[0m         \u001b[38;5;28;01mpass\u001b[39;00m\n\u001b[1;32m---> 25\u001b[0m num_applicants \u001b[38;5;241m=\u001b[39m \u001b[43mdriver\u001b[49m\u001b[38;5;241;43m.\u001b[39;49m\u001b[43mfind_element\u001b[49m\u001b[43m(\u001b[49m\u001b[43mBy\u001b[49m\u001b[38;5;241;43m.\u001b[39;49m\u001b[43mCLASS_NAME\u001b[49m\u001b[43m,\u001b[49m\u001b[43m \u001b[49m\u001b[38;5;124;43m'\u001b[39;49m\u001b[38;5;124;43mnum-applicants__caption\u001b[39;49m\u001b[38;5;124;43m'\u001b[39;49m\u001b[43m)\u001b[49m\u001b[38;5;241m.\u001b[39mtext\u001b[38;5;241m.\u001b[39mreplace(\u001b[38;5;124m'\u001b[39m\u001b[38;5;124m applicants\u001b[39m\u001b[38;5;124m'\u001b[39m, \u001b[38;5;124m'\u001b[39m\u001b[38;5;124m'\u001b[39m)\u001b[38;5;241m.\u001b[39mstrip()\n\u001b[0;32m     26\u001b[0m experience_level \u001b[38;5;241m=\u001b[39m driver\u001b[38;5;241m.\u001b[39mfind_element(By\u001b[38;5;241m.\u001b[39mXPATH, \u001b[38;5;124m'\u001b[39m\u001b[38;5;124m.//ul[contains(@class, \u001b[39m\u001b[38;5;124m\"\u001b[39m\u001b[38;5;124mdescription__job-criteria-list\u001b[39m\u001b[38;5;124m\"\u001b[39m\u001b[38;5;124m)]/li[1]/span\u001b[39m\u001b[38;5;124m'\u001b[39m)\u001b[38;5;241m.\u001b[39mtext\n\u001b[0;32m     27\u001b[0m employment_type \u001b[38;5;241m=\u001b[39m driver\u001b[38;5;241m.\u001b[39mfind_element(By\u001b[38;5;241m.\u001b[39mXPATH, \u001b[38;5;124m'\u001b[39m\u001b[38;5;124m.//ul[contains(@class, \u001b[39m\u001b[38;5;124m\"\u001b[39m\u001b[38;5;124mdescription__job-criteria-list\u001b[39m\u001b[38;5;124m\"\u001b[39m\u001b[38;5;124m)]/li[2]/span\u001b[39m\u001b[38;5;124m'\u001b[39m)\u001b[38;5;241m.\u001b[39mtext\n",
      "File \u001b[1;32md:\\DATA\\Projects\\Linkedin-Jobs-Scrapping\\LJS\\Lib\\site-packages\\selenium\\webdriver\\remote\\webdriver.py:741\u001b[0m, in \u001b[0;36mWebDriver.find_element\u001b[1;34m(self, by, value)\u001b[0m\n\u001b[0;32m    738\u001b[0m     by \u001b[38;5;241m=\u001b[39m By\u001b[38;5;241m.\u001b[39mCSS_SELECTOR\n\u001b[0;32m    739\u001b[0m     value \u001b[38;5;241m=\u001b[39m \u001b[38;5;124mf\u001b[39m\u001b[38;5;124m'\u001b[39m\u001b[38;5;124m[name=\u001b[39m\u001b[38;5;124m\"\u001b[39m\u001b[38;5;132;01m{\u001b[39;00mvalue\u001b[38;5;132;01m}\u001b[39;00m\u001b[38;5;124m\"\u001b[39m\u001b[38;5;124m]\u001b[39m\u001b[38;5;124m'\u001b[39m\n\u001b[1;32m--> 741\u001b[0m \u001b[38;5;28;01mreturn\u001b[39;00m \u001b[38;5;28;43mself\u001b[39;49m\u001b[38;5;241;43m.\u001b[39;49m\u001b[43mexecute\u001b[49m\u001b[43m(\u001b[49m\u001b[43mCommand\u001b[49m\u001b[38;5;241;43m.\u001b[39;49m\u001b[43mFIND_ELEMENT\u001b[49m\u001b[43m,\u001b[49m\u001b[43m \u001b[49m\u001b[43m{\u001b[49m\u001b[38;5;124;43m\"\u001b[39;49m\u001b[38;5;124;43musing\u001b[39;49m\u001b[38;5;124;43m\"\u001b[39;49m\u001b[43m:\u001b[49m\u001b[43m \u001b[49m\u001b[43mby\u001b[49m\u001b[43m,\u001b[49m\u001b[43m \u001b[49m\u001b[38;5;124;43m\"\u001b[39;49m\u001b[38;5;124;43mvalue\u001b[39;49m\u001b[38;5;124;43m\"\u001b[39;49m\u001b[43m:\u001b[49m\u001b[43m \u001b[49m\u001b[43mvalue\u001b[49m\u001b[43m}\u001b[49m\u001b[43m)\u001b[49m[\u001b[38;5;124m\"\u001b[39m\u001b[38;5;124mvalue\u001b[39m\u001b[38;5;124m\"\u001b[39m]\n",
      "File \u001b[1;32md:\\DATA\\Projects\\Linkedin-Jobs-Scrapping\\LJS\\Lib\\site-packages\\selenium\\webdriver\\remote\\webdriver.py:347\u001b[0m, in \u001b[0;36mWebDriver.execute\u001b[1;34m(self, driver_command, params)\u001b[0m\n\u001b[0;32m    345\u001b[0m response \u001b[38;5;241m=\u001b[39m \u001b[38;5;28mself\u001b[39m\u001b[38;5;241m.\u001b[39mcommand_executor\u001b[38;5;241m.\u001b[39mexecute(driver_command, params)\n\u001b[0;32m    346\u001b[0m \u001b[38;5;28;01mif\u001b[39;00m response:\n\u001b[1;32m--> 347\u001b[0m     \u001b[38;5;28;43mself\u001b[39;49m\u001b[38;5;241;43m.\u001b[39;49m\u001b[43merror_handler\u001b[49m\u001b[38;5;241;43m.\u001b[39;49m\u001b[43mcheck_response\u001b[49m\u001b[43m(\u001b[49m\u001b[43mresponse\u001b[49m\u001b[43m)\u001b[49m\n\u001b[0;32m    348\u001b[0m     response[\u001b[38;5;124m\"\u001b[39m\u001b[38;5;124mvalue\u001b[39m\u001b[38;5;124m\"\u001b[39m] \u001b[38;5;241m=\u001b[39m \u001b[38;5;28mself\u001b[39m\u001b[38;5;241m.\u001b[39m_unwrap_value(response\u001b[38;5;241m.\u001b[39mget(\u001b[38;5;124m\"\u001b[39m\u001b[38;5;124mvalue\u001b[39m\u001b[38;5;124m\"\u001b[39m, \u001b[38;5;28;01mNone\u001b[39;00m))\n\u001b[0;32m    349\u001b[0m     \u001b[38;5;28;01mreturn\u001b[39;00m response\n",
      "File \u001b[1;32md:\\DATA\\Projects\\Linkedin-Jobs-Scrapping\\LJS\\Lib\\site-packages\\selenium\\webdriver\\remote\\errorhandler.py:229\u001b[0m, in \u001b[0;36mErrorHandler.check_response\u001b[1;34m(self, response)\u001b[0m\n\u001b[0;32m    227\u001b[0m         alert_text \u001b[38;5;241m=\u001b[39m value[\u001b[38;5;124m\"\u001b[39m\u001b[38;5;124malert\u001b[39m\u001b[38;5;124m\"\u001b[39m]\u001b[38;5;241m.\u001b[39mget(\u001b[38;5;124m\"\u001b[39m\u001b[38;5;124mtext\u001b[39m\u001b[38;5;124m\"\u001b[39m)\n\u001b[0;32m    228\u001b[0m     \u001b[38;5;28;01mraise\u001b[39;00m exception_class(message, screen, stacktrace, alert_text)  \u001b[38;5;66;03m# type: ignore[call-arg]  # mypy is not smart enough here\u001b[39;00m\n\u001b[1;32m--> 229\u001b[0m \u001b[38;5;28;01mraise\u001b[39;00m exception_class(message, screen, stacktrace)\n",
      "\u001b[1;31mNoSuchElementException\u001b[0m: Message: no such element: Unable to locate element: {\"method\":\"css selector\",\"selector\":\".num-applicants__caption\"}\n  (Session info: chrome=125.0.6422.141); For documentation on this error, please visit: https://www.selenium.dev/documentation/webdriver/troubleshooting/errors#no-such-element-exception\nStacktrace:\n\tGetHandleVerifier [0x00007FF7BB2E1F52+60322]\n\t(No symbol) [0x00007FF7BB25CEC9]\n\t(No symbol) [0x00007FF7BB117EBA]\n\t(No symbol) [0x00007FF7BB167676]\n\t(No symbol) [0x00007FF7BB16773C]\n\t(No symbol) [0x00007FF7BB1AE967]\n\t(No symbol) [0x00007FF7BB18C25F]\n\t(No symbol) [0x00007FF7BB1ABC80]\n\t(No symbol) [0x00007FF7BB18BFC3]\n\t(No symbol) [0x00007FF7BB159617]\n\t(No symbol) [0x00007FF7BB15A211]\n\tGetHandleVerifier [0x00007FF7BB5F94AD+3301629]\n\tGetHandleVerifier [0x00007FF7BB6436D3+3605283]\n\tGetHandleVerifier [0x00007FF7BB639450+3563680]\n\tGetHandleVerifier [0x00007FF7BB394326+790390]\n\t(No symbol) [0x00007FF7BB26750F]\n\t(No symbol) [0x00007FF7BB263404]\n\t(No symbol) [0x00007FF7BB263592]\n\t(No symbol) [0x00007FF7BB252F9F]\n\tBaseThreadInitThunk [0x00007FFF1E557344+20]\n\tRtlUserThreadStart [0x00007FFF205626B1+33]\n"
     ]
    }
   ],
   "source": [
    "#Now, we need to use our list of url to access them one by one and fetch the job description, and some other info\n",
    "applicants = []\n",
    "experience = []\n",
    "typeEmploy = []\n",
    "description = []\n",
    "sector = []\n",
    "\n",
    "service = Service(executable_path=r'D:\\\\DATA\\\\Projects\\\\Linkedin-Jobs-Scrapping\\\\chromedriver-win64\\\\chromedriver.exe')\n",
    "driver = webdriver.Chrome(service=service)\n",
    "\n",
    "for link in jobs_df['Job URL']:\n",
    "    #This code below opens a chrome window in the referenced url\n",
    "    #Setting webdriver \n",
    "    driver.get(link) #open the job page\n",
    "    driver.implicitly_wait(4) #for safety, wait 4 segs to give time to load completely \n",
    "\n",
    "    try:\n",
    "            # Click the \"See more jobs\" button if it exists\n",
    "            show_more_button = driver.find_element(By.CLASS_NAME, 'show-more-less-html__button')\n",
    "            show_more_button.click()\n",
    "            time.sleep(2)  # wait for jobs to load after clicking the button\n",
    "    except:\n",
    "            pass\n",
    "\n",
    "    num_applicants = driver.find_element(By.CLASS_NAME, 'num-applicants__caption').text.replace(' applicants', '').strip()\n",
    "    experience_level = driver.find_element(By.XPATH, './/ul[contains(@class, \"description__job-criteria-list\")]/li[1]/span').text\n",
    "    employment_type = driver.find_element(By.XPATH, './/ul[contains(@class, \"description__job-criteria-list\")]/li[2]/span').text\n",
    "    sector_type = driver.find_element(By.XPATH, './/ul[contains(@class, \"description__job-criteria-list\")]/li[4]/span').text\n",
    "    desc = driver.find_element(By.CLASS_NAME, 'description__text').text\n",
    "    time.sleep(2)\n",
    "\n",
    "\n",
    "    applicants.append(num_applicants)\n",
    "    experience.append(experience_level)\n",
    "    typeEmploy.append(employment_type)\n",
    "    sector.append(sector_type)\n",
    "    description.append(desc)\n",
    "    \n",
    "applicants\n"
   ]
  },
  {
   "cell_type": "markdown",
   "metadata": {},
   "source": [
    "Well, this method was caught by the LinkedIn anti-bots systems. The spider was blocked after the third of forth window open in a row."
   ]
  },
  {
   "cell_type": "markdown",
   "metadata": {},
   "source": [
    "### Step 3.2 Trying anti-bot methods \n",
    "\n",
    "Luckily, there are enough tools out there to fake the behavior of a real user:\n",
    "- random waiting times: mimics human behavior \n",
    "- using several random fake users: the requests come from different users, so it is less suspicious."
   ]
  },
  {
   "cell_type": "code",
   "execution_count": null,
   "metadata": {},
   "outputs": [],
   "source": [
    "import time\n",
    "import random\n",
    "from selenium import webdriver\n",
    "from selenium.webdriver.common.by import By\n",
    "from selenium.webdriver.chrome.service import Service\n",
    "from selenium.webdriver.chrome.options import Options\n",
    "import pandas as pd\n",
    "\n",
    "# Load the DataFrame with job URLs\n",
    "jobs_df = pd.read_csv('first_attempt_jobs.csv')\n",
    "\n",
    "# Initialize lists to store the extracted data\n",
    "applicants = []\n",
    "experience = []\n",
    "typeEmploy = []\n",
    "description = []\n",
    "sector = []\n",
    "\n",
    "# Setting WebDriver with Options. These reduce the chances of getting detected by the anti-bot LinkedIn's systems. \n",
    "chrome_options = Options()\n",
    "chrome_options.add_argument(\"--headless\")  # Run headless for less detection (remove this if you want to see the browser)\n",
    "chrome_options.add_argument(\"--disable-blink-features=AutomationControlled\")\n",
    "# chrome_options.add_argument(\"start-maximized\")\n",
    "chrome_options.add_argument(\"--disable-infobars\")\n",
    "chrome_options.add_argument(\"--disable-extensions\")\n",
    "\n",
    "# Add a random user-agent. Every time we launch Chrome, it will use a random fake user out of those 5. There is more  efficient ways of doing this. But this was enough. \n",
    "user_agents = [\n",
    "    \"Mozilla/5.0 (Windows NT 10.0; Win64; x64) AppleWebKit/537.36 (KHTML, like Gecko) Chrome/58.0.3029.110 Safari/537.3\",\n",
    "    \"Mozilla/5.0 (Macintosh; Intel Mac OS X 10_14_5) AppleWebKit/605.1.15 (KHTML, like Gecko) Version/12.1.1 Safari/605.1.15\",\n",
    "    \"Mozilla/5.0 (Windows NT 10.0; Win64; x64) AppleWebKit/537.36 (KHTML, like Gecko) Chrome/70.0.3538.77 Safari/537.36\",\n",
    "    \"Mozilla/5.0 (Windows NT 10.0; Win64; x64) AppleWebKit/537.36 (KHTML, like Gecko) Chrome/83.0.4103.116 Safari/537.36\",\n",
    "    \"Mozilla/5.0 (X11; Linux x86_64) AppleWebKit/537.36 (KHTML, like Gecko) Chrome/44.0.2403.157 Safari/537.36\",\n",
    "]\n",
    "chrome_options.add_argument(f\"user-agent={random.choice(user_agents)}\")\n",
    "\n",
    "service = Service(executable_path=r'D:\\\\DATA\\\\Projects\\\\Linkedin-Jobs-Scrapping\\\\chromedriver-win64\\\\chromedriver.exe')\n",
    "driver = webdriver.Chrome(service=service, options=chrome_options)\n",
    "j=1\n",
    "\n",
    "for link in jobs_df['Job URL']:\n",
    "    driver.get(link)  # open the job page\n",
    "    time.sleep(random.uniform(2, 3))  # wait for the page to load completely with a random delay\n",
    "\n",
    "    try:\n",
    "        # Click the \"See more jobs\" button if it exists\n",
    "        show_more_button = driver.find_element(By.CLASS_NAME, 'show-more-less-html__button')\n",
    "        show_more_button.click()\n",
    "        time.sleep(random.uniform(2, 4))  # wait for the additional content to load with a random delay\n",
    "    except:\n",
    "        pass\n",
    "\n",
    "    try:\n",
    "        num_applicants = driver.find_element(By.CLASS_NAME, 'num-applicants__caption').text.replace(' applicants', '').strip()\n",
    "    except:\n",
    "        num_applicants = 'N/A'\n",
    "        \n",
    "    try:\n",
    "        experience_level = driver.find_element(By.XPATH, './/ul[contains(@class, \"description__job-criteria-list\")]/li[1]/span').text\n",
    "    except:\n",
    "        experience_level = 'N/A'\n",
    "    \n",
    "    try:\n",
    "        employment_type = driver.find_element(By.XPATH, './/ul[contains(@class, \"description__job-criteria-list\")]/li[2]/span').text\n",
    "    except:\n",
    "        employment_type = 'N/A'\n",
    "    \n",
    "    try:\n",
    "        sector_type = driver.find_element(By.XPATH, './/ul[contains(@class, \"description__job-criteria-list\")]/li[4]/span').text\n",
    "    except:\n",
    "        sector_type = 'N/A'\n",
    "    \n",
    "    try:\n",
    "        desc = driver.find_element(By.CLASS_NAME, 'description__text').text\n",
    "    except:\n",
    "        desc = 'N/A'\n",
    "\n",
    "    applicants.append(num_applicants)\n",
    "    experience.append(experience_level)\n",
    "    typeEmploy.append(employment_type)\n",
    "    sector.append(sector_type)\n",
    "    description.append(desc)\n",
    "\n",
    "    print(j, \": \", desc[:15])\n",
    "    j = j+1\n",
    "\n",
    "    # Random sleep to mimic human behavior\n",
    "    time.sleep(random.uniform(1, 3))\n",
    "\n",
    "# Close the WebDriver\n",
    "driver.quit()\n",
    "\n",
    "# Create a DataFrame from the lists\n",
    "data_plus = {\n",
    "    'Company Name': jobs_df['Company Name'],\n",
    "    'Job Title': jobs_df['Job Title'],\n",
    "    'location': jobs_df['location'],\n",
    "    'Job URL': jobs_df['Job URL'],\n",
    "    'Date': jobs_df['Date'],\n",
    "    'Applicants': applicants,\n",
    "    'Experience': experience,\n",
    "    'Employment Type': typeEmploy,\n",
    "    'Sector': sector,\n",
    "    'Description': description\n",
    "}\n",
    "detailed_jobs_df = pd.DataFrame(data_plus)\n",
    "\n",
    "\n",
    "# Print the DataFrame to verify\n",
    "# detailed_jobs_df.to_csv('detailed_jobs_df.csv')\n"
   ]
  },
  {
   "cell_type": "markdown",
   "metadata": {},
   "source": [
    "### Step 4: Preparing the data\n",
    "\n",
    "- right format data\n",
    "- cleaning null values\n",
    "- Preparing the description text for different algorithms\n",
    "- Cleaning the applicants column"
   ]
  },
  {
   "cell_type": "code",
   "execution_count": 267,
   "metadata": {},
   "outputs": [],
   "source": [
    "# Let's fix some columns and formats. \n",
    "detailed_jobs_df = detailed_jobs_df.drop(columns='Unnamed: 0')\n",
    "detailed_jobs_df['Date'] = pd.to_datetime(detailed_jobs_df['Date'])\n",
    "\n"
   ]
  },
  {
   "cell_type": "markdown",
   "metadata": {},
   "source": [
    "Let's clean up the Applicants column to extract only the number out of the string. It is not simply removing 'solicitudes', it changes in language and form. "
   ]
  },
  {
   "cell_type": "code",
   "execution_count": 371,
   "metadata": {},
   "outputs": [
    {
     "data": {
      "text/plain": [
       "0                         135 solicitudes\n",
       "1                          29 solicitudes\n",
       "2                         100 solicitudes\n",
       "3                          70 solicitudes\n",
       "4                         125 solicitudes\n",
       "                      ...                \n",
       "293                       163 solicitudes\n",
       "294                        43 solicitudes\n",
       "295                        82 solicitudes\n",
       "296    Sé de los primeros 25 solicitantes\n",
       "297    Sé de los primeros 25 solicitantes\n",
       "Name: Applicants, Length: 298, dtype: object"
      ]
     },
     "execution_count": 371,
     "metadata": {},
     "output_type": "execute_result"
    }
   ],
   "source": [
    "detailed_jobs_df['Applicants']"
   ]
  },
  {
   "cell_type": "code",
   "execution_count": 372,
   "metadata": {},
   "outputs": [],
   "source": [
    "def extract_number(string):\n",
    "    for i in string.split():\n",
    "        if i.isdigit():\n",
    "            return int(i)"
   ]
  },
  {
   "cell_type": "code",
   "execution_count": 374,
   "metadata": {},
   "outputs": [],
   "source": [
    "detailed_jobs_df['Applicants'] = detailed_jobs_df['Applicants'].apply(extract_number)"
   ]
  },
  {
   "cell_type": "code",
   "execution_count": 376,
   "metadata": {},
   "outputs": [],
   "source": [
    "detailed_jobs_df.to_csv('detailed_jobs_with_keywords.csv')"
   ]
  },
  {
   "cell_type": "markdown",
   "metadata": {},
   "source": [
    "### Step 5: Adding Language and skills columns with ML \n",
    "We wil detect the language in which the description has been written. This will be helpful later, but also as a metric. In which languages are the job offers?"
   ]
  },
  {
   "cell_type": "code",
   "execution_count": 265,
   "metadata": {},
   "outputs": [],
   "source": [
    "import pandas as pd\n",
    "\n",
    "detailed_jobs_df = pd.read_csv('detailed_jobs_df.csv')"
   ]
  },
  {
   "cell_type": "code",
   "execution_count": 266,
   "metadata": {},
   "outputs": [
    {
     "data": {
      "text/plain": [
       "language\n",
       "en    238\n",
       "es     57\n",
       "fr      2\n",
       "ca      1\n",
       "Name: count, dtype: int64"
      ]
     },
     "execution_count": 266,
     "metadata": {},
     "output_type": "execute_result"
    }
   ],
   "source": [
    "from langdetect import detect\n",
    "from langdetect.lang_detect_exception import LangDetectException\n",
    "\n",
    "def detect_language(text):\n",
    "    try:\n",
    "        return detect(text)\n",
    "    except LangDetectException:\n",
    "        return 'unknown'\n",
    "\n",
    "detailed_jobs_df['language'] = detailed_jobs_df['Description'].apply(detect_language)\n",
    "\n",
    "detailed_jobs_df['language'].value_counts()"
   ]
  },
  {
   "cell_type": "code",
   "execution_count": 6,
   "metadata": {},
   "outputs": [
    {
     "data": {
      "text/plain": [
       "Timestamp('2024-06-05 00:00:00')"
      ]
     },
     "execution_count": 6,
     "metadata": {},
     "output_type": "execute_result"
    }
   ],
   "source": [
    "detailed_jobs_df['Date'][4]"
   ]
  },
  {
   "cell_type": "code",
   "execution_count": 268,
   "metadata": {},
   "outputs": [
    {
     "name": "stdout",
     "output_type": "stream",
     "text": [
      "<class 'pandas.core.frame.DataFrame'>\n",
      "RangeIndex: 298 entries, 0 to 297\n",
      "Data columns (total 11 columns):\n",
      " #   Column           Non-Null Count  Dtype         \n",
      "---  ------           --------------  -----         \n",
      " 0   Company Name     298 non-null    object        \n",
      " 1   Job Title        298 non-null    object        \n",
      " 2   location         298 non-null    object        \n",
      " 3   Job URL          298 non-null    object        \n",
      " 4   Date             298 non-null    datetime64[ns]\n",
      " 5   Applicants       298 non-null    object        \n",
      " 6   Experience       298 non-null    object        \n",
      " 7   Employment Type  287 non-null    object        \n",
      " 8   Sector           287 non-null    object        \n",
      " 9   Description      298 non-null    object        \n",
      " 10  language         298 non-null    object        \n",
      "dtypes: datetime64[ns](1), object(10)\n",
      "memory usage: 25.7+ KB\n"
     ]
    }
   ],
   "source": [
    "detailed_jobs_df.info()"
   ]
  },
  {
   "cell_type": "markdown",
   "metadata": {},
   "source": [
    "### Step5b: Keywords extraction trying numerous methods\n",
    "\n",
    "We will use different libraries and methods to increase the accuracy of our keyword extraction model. "
   ]
  },
  {
   "cell_type": "markdown",
   "metadata": {},
   "source": [
    "#### Step 5b Preprocessing the text\n",
    "\n",
    "In many tutorials and examples they recommend to clean up the text. For example, by removing stop words (words without meaning but that are grammatically important.) This proved to be futile since we ended up using a system that relied on exactly the position and grammar function of the words to derive importance. But we didn't know!"
   ]
  },
  {
   "cell_type": "code",
   "execution_count": null,
   "metadata": {},
   "outputs": [],
   "source": [
    "text = detailed_jobs_df['Description'][2]"
   ]
  },
  {
   "cell_type": "code",
   "execution_count": 362,
   "metadata": {},
   "outputs": [
    {
     "name": "stderr",
     "output_type": "stream",
     "text": [
      "[nltk_data] Downloading package punkt to\n",
      "[nltk_data]     C:\\Users\\pablo\\AppData\\Roaming\\nltk_data...\n",
      "[nltk_data]   Package punkt is already up-to-date!\n",
      "[nltk_data] Downloading package stopwords to\n",
      "[nltk_data]     C:\\Users\\pablo\\AppData\\Roaming\\nltk_data...\n",
      "[nltk_data]   Package stopwords is already up-to-date!\n"
     ]
    },
    {
     "data": {
      "text/plain": [
       "True"
      ]
     },
     "execution_count": 362,
     "metadata": {},
     "output_type": "execute_result"
    }
   ],
   "source": [
    "import re\n",
    "import nltk\n",
    "\n",
    "nltk.download('punkt')\n",
    "nltk.download('stopwords')"
   ]
  },
  {
   "cell_type": "code",
   "execution_count": 31,
   "metadata": {},
   "outputs": [],
   "source": [
    "from nltk.corpus import stopwords\n",
    "from nltk.tokenize import word_tokenize\n",
    "\n",
    "stop_words = set(stopwords.words('english'))\n",
    "def clean_text(text):\n",
    "    # Convert text to lower case\n",
    "    text = text.lower()\n",
    "\n",
    "    # Remove punctuation\n",
    "    text = re.sub(r'[^\\w\\s]', '', text)\n",
    "\n",
    "    # Remove numbers\n",
    "    text = re.sub(r'\\d+', '', text)\n",
    "\n",
    "    # Remove stopwords\n",
    "    tokens = word_tokenize(text)\n",
    "    filtered_tokens = [word for word in tokens if word not in stop_words]\n",
    "    text = ' '.join(filtered_tokens)\n",
    "\n",
    "    # Remove extra spaces\n",
    "    text = re.sub(r'\\s+', ' ', text).strip()\n",
    "\n",
    "    return text"
   ]
  },
  {
   "cell_type": "code",
   "execution_count": 32,
   "metadata": {},
   "outputs": [
    {
     "data": {
      "text/plain": [
       "'job summary data analytics trainee embark journey dive deep world data science analytics role designed individuals passionate leveraging data drive insights make informed decisions part dynamic team data professionals working closely experienced data analysts bi analysts data engineers hone skills contribute realworld projects key accountabilities among others analytical support assist data collection cleaning preprocessing tasks guidance senior team members learn navigate manipulate data using programming languages python sql follow established protocols ensure data quality integrity throughout process contribute basic data analysis tasks descriptive statistics exploratory data analysis hypothesis testing visualization reporting assist creating visualizations dashboards communicate data findings effectively learn use data visualization tools libraries create clear compelling presentations analytical results minimum knowledge experience required position expect experience knowledge programming languages commonly used data analysis python sql ability write understand basic scripts queries data manipulation analysis familiarity data visualization principles techniques knowledge visualization tools like power bi qliksense clear effective communication skills verbal written english multinational company english primary language communication meetings individual contributor core competencies managing work effectively managing ones time resources ensure work completed efficiently emotional intelligence essentials establishing sustaining trusting relationships accurately perceiving interpreting others emotions behavior leveraging insights effectively manage responses ones behavior matches ones values delivers intended results building partnerships developing leveraging relationships within across work groups including crossfunctional groups achieve results continuous improvement originating action improve existing conditions processes identifying improvement opportunities generating ideas implementing solutions continuous learning actively identifying new areas learning regularly creating taking advantage learning opportunities using newly gained knowledge skill job learning application show less'"
      ]
     },
     "execution_count": 32,
     "metadata": {},
     "output_type": "execute_result"
    }
   ],
   "source": [
    "text = clean_text(text)\n",
    "\n",
    "text"
   ]
  },
  {
   "cell_type": "markdown",
   "metadata": {},
   "source": [
    "#### Step 5b Trying Yake\n",
    "Let's try Yake first. Yake is an unsupervised approach for automatic keyword extraction using Text Features. It does not need to be trained on a particular set of documents, neither it depends on dictionaries, external-corpus, size of the text, language or domain."
   ]
  },
  {
   "cell_type": "code",
   "execution_count": 33,
   "metadata": {},
   "outputs": [],
   "source": [
    "import yake\n"
   ]
  },
  {
   "cell_type": "code",
   "execution_count": 67,
   "metadata": {},
   "outputs": [
    {
     "name": "stdout",
     "output_type": "stream",
     "text": [
      "('analysis python sql', 0.0003481795085190169)\n",
      "('visualization tools libraries', 0.00040594074697135443)\n",
      "('knowledge programming languages', 0.0004132641754345171)\n",
      "('techniques knowledge visualization', 0.00045232687292902374)\n",
      "('expect experience knowledge', 0.000508473785199765)\n",
      "('work completed efficiently', 0.0005142173288362012)\n",
      "('contribute realworld projects', 0.0005144422774514619)\n",
      "('relationships accurately perceiving', 0.0005144422774514619)\n",
      "('journey dive deep', 0.0005269183373426173)\n",
      "('data', 0.006146915416871837)\n",
      "('skill job', 0.006181151999150864)\n",
      "('job summary', 0.006332958467500928)\n",
      "('learning', 0.019838363480312465)\n",
      "('results', 0.026120500979977437)\n",
      "('work', 0.026120500979977437)\n"
     ]
    }
   ],
   "source": [
    "# Specify YAKE! parameters\n",
    "# Initialize keyword extractor\n",
    "kw_extractor = yake.KeywordExtractor()\n",
    "\n",
    "language = \"en\"\n",
    "max_ngram_size = 3\n",
    "deduplication_thresold = 0.2\n",
    "deduplication_algo = 'seqm'\n",
    "windowSize = 1\n",
    "numOfKeywords = 15\n",
    "\n",
    "kw_extractor = yake.KeywordExtractor(lan=language, \n",
    "                                     n=max_ngram_size, \n",
    "                                     dedupLim=deduplication_thresold, \n",
    "                                     dedupFunc=deduplication_algo, \n",
    "                                     windowsSize=windowSize, \n",
    "                                     top=numOfKeywords)\n",
    "                                            \n",
    "keywords = kw_extractor.extract_keywords(text)\n",
    "\n",
    "for kw in keywords:\n",
    "    print(kw)"
   ]
  },
  {
   "cell_type": "markdown",
   "metadata": {},
   "source": [
    "#### Step 5b Trying Rake\n",
    "\n",
    "Rake is another unsupervised method that tries to determine key phrases in a body of text by analyzing the frequency of word appearance and its co-occurance with other words in the text. \n",
    "\n",
    "Because our texts are not that long, Yake didn't yield good results.\n",
    "\n",
    "Let's try another unsupervised one."
   ]
  },
  {
   "cell_type": "code",
   "execution_count": 61,
   "metadata": {},
   "outputs": [
    {
     "data": {
      "text/plain": [
       "[('role designed individuals passionate leveraging', 25.0),\n",
       " ('integrity throughout process contribute basic', 25.0),\n",
       " ('experience required position expect experience', 25.0),\n",
       " ('trainee embark journey dive', 16.0),\n",
       " ('professionals working closely experienced', 16.0),\n",
       " ('follow established protocols ensure', 16.0),\n",
       " ('actively identifying new areas', 16.0),\n",
       " ('regularly creating taking advantage', 15.5),\n",
       " ('opportunities using newly gained', 14.5),\n",
       " ('assist creating visualizations', 8.5),\n",
       " ('languages commonly used', 8.0),\n",
       " ('job summary', 4.0),\n",
       " ('navigate manipulate', 4.0),\n",
       " ('tasks descriptive', 4.0),\n",
       " ('findings effectively', 4.0),\n",
       " ('principles techniques', 4.0),\n",
       " ('skill job', 4.0),\n",
       " ('show less', 4.0),\n",
       " ('using', 2.5),\n",
       " ('assist', 2.0),\n",
       " ('languages', 2.0),\n",
       " ('world', 1.0),\n",
       " ('analysts', 1.0),\n",
       " ('collection', 1.0),\n",
       " ('exploratory', 1.0),\n",
       " ('communicate', 1.0),\n",
       " ('use', 1.0),\n",
       " ('manipulation', 1.0),\n",
       " ('familiarity', 1.0),\n",
       " ('like', 1.0)]"
      ]
     },
     "execution_count": 61,
     "metadata": {},
     "output_type": "execute_result"
    }
   ],
   "source": [
    "import RAKE\n",
    "import operator\n",
    "\n",
    "# Reka setup with stopword directory\n",
    "stop_dir = \"SmartStoplist.txt\"\n",
    "rake_object = RAKE.Rake(stop_dir)\n",
    "\n",
    "# Extract keywords\n",
    "keywords = rake_object.run(text)\n",
    "keywords"
   ]
  },
  {
   "cell_type": "markdown",
   "metadata": {},
   "source": [
    "Neither Yake or Rake yielded good results. Let's try with more complex scenarios."
   ]
  },
  {
   "cell_type": "markdown",
   "metadata": {},
   "source": [
    "#### Step 5b using spaCy for Named Entity Recognition (NER)\n",
    "spaCy is a powerful NLP library that can be used to extract named entities and potentially extend this to custom entities like specific skills from job descriptions. "
   ]
  },
  {
   "cell_type": "code",
   "execution_count": 217,
   "metadata": {},
   "outputs": [],
   "source": [
    "text2 = detailed_jobs_df['Description'][2]"
   ]
  },
  {
   "cell_type": "code",
   "execution_count": 218,
   "metadata": {},
   "outputs": [
    {
     "name": "stdout",
     "output_type": "stream",
     "text": [
      "Job Summary PERSON\n",
      "Analytics Trainee PERSON\n",
      "BI ORG\n",
      "Key Accountabilities LOC\n",
      "Analytical Support\n",
      "Assist PERSON\n",
      "Learn PRODUCT\n",
      "SQL ORG\n",
      "Contribute ORG\n",
      "Visualization and Reporting:\n",
      "Assist WORK_OF_ART\n",
      "Learn PRODUCT\n",
      "Minimum Knowledge & Experience ORG\n",
      "SQL ORG\n",
      "Power BI ORG\n",
      "QlikSense ORG\n",
      "Clear GPE\n",
      "English LANGUAGE\n",
      "English LANGUAGE\n",
      "Managing Work\n",
      "Effectively WORK_OF_ART\n",
      "Emotional Intelligence Essentials\n",
      "Establishing ORG\n",
      "Building Partnerships\n",
      "Developing WORK_OF_ART\n",
      "Continuous Improvement\n",
      " PERSON\n",
      "Continuous Learning PERSON\n"
     ]
    }
   ],
   "source": [
    "import spacy\n",
    "\n",
    "# Load the spaCy model\n",
    "nlp = spacy.load(\"en_core_web_sm\")\n",
    "\n",
    "# Process text\n",
    "doc = nlp(text2)\n",
    "\n",
    "# Extract entities\n",
    "for ent in doc.ents:\n",
    "    print(ent.text, ent.label_)\n"
   ]
  },
  {
   "cell_type": "markdown",
   "metadata": {},
   "source": [
    "#### Step 5b trying KeyBERT for Dynamic Keyword Extraction\n",
    "KeyBERT uses BERT embeddings to extract keywords that are contextually important. Unlike fixed lists or simple matching, KeyBERT understands the context and semantics of words in text.\n"
   ]
  },
  {
   "cell_type": "code",
   "execution_count": 60,
   "metadata": {},
   "outputs": [
    {
     "name": "stdout",
     "output_type": "stream",
     "text": [
      "[('competencies', 0.3771), ('skills', 0.3655), ('tasks', 0.363), ('insights', 0.3176), ('analytics', 0.3005)]\n"
     ]
    }
   ],
   "source": [
    "from keybert import KeyBERT\n",
    "\n",
    "kw_model = KeyBERT()\n",
    "keywords = kw_model.extract_keywords(text)\n",
    "\n",
    "print(keywords)\n"
   ]
  },
  {
   "cell_type": "markdown",
   "metadata": {},
   "source": [
    "#### Step 5c Tuning SpaCy\n",
    "SpaCy has been the best performer by far. But it'd be nice to tune it a bit to improve its results even further. We are going to use a list of 238 data skills to guide the extraction. This list will be a guide. Meaning: all words in list will be consider keywords, but will not be limited to those. \n"
   ]
  },
  {
   "cell_type": "code",
   "execution_count": 99,
   "metadata": {},
   "outputs": [
    {
     "name": "stdout",
     "output_type": "stream",
     "text": [
      "Big Data ORG\n",
      "Media & Digital Publishers ORG\n",
      "Spanish NORP\n",
      "Communication ORG\n",
      "the Marketing department ORG\n",
      "Big Data ORG\n",
      "Communication ORG\n",
      "Italian NORP\n",
      "Spanish LANGUAGE\n",
      "Humanity, Social sciences ORG\n",
      "Communication/Information sciences ORG\n",
      "3 months DATE\n",
      "500€/month CARDINAL\n",
      "Internship Hours EVENT\n",
      "Monday to Friday DATE\n",
      "10 to 19 hours TIME\n",
      "Madrid GPE\n",
      "NIE ORG\n",
      "Madrid Holidays ORG\n",
      "Madrid GPE\n",
      "300 - 600 euros MONEY\n",
      "One CARDINAL\n",
      "550 - 990 euros MONEY\n",
      "1 month DATE\n",
      "30 - 40 euros MONEY\n",
      "10 - 12 euros MONEY\n",
      "2 CARDINAL\n",
      "40 euros MONEY\n",
      "1 CARDINAL\n",
      "6 euros MONEY\n",
      "500 grams QUANTITY\n",
      "3,11 euros MONEY\n",
      "500 grams QUANTITY\n",
      "4,87 euros MONEY\n",
      "1 kg QUANTITY\n",
      "1,00 euro MONEY\n",
      "1 kg QUANTITY\n",
      "1,80 euros MONEY\n",
      "1 CARDINAL\n",
      "euros\n",
      "\n",
      "Transportation ORG\n",
      "1 liter QUANTITY\n",
      "1,30 euros MONEY\n",
      "monthly DATE\n",
      "55 euros MONEY\n",
      "1,17 euros\n",
      "\n",
      "Transportation MONEY\n",
      "9 euros MONEY\n",
      "9 euros MONEY\n",
      "2 CARDINAL\n",
      "between 30 - 40 euros CARDINAL\n",
      "1-month DATE\n",
      "between 35 - 50 euros CARDINAL\n",
      "Madrid GPE\n",
      "the season DATE\n",
      "Madrid GPE\n",
      "winters DATE\n",
      "the winter months DATE\n",
      "November - March DATE\n",
      "3°C QUANTITY\n",
      "37°F QUANTITY\n",
      "16°C QUANTITY\n",
      "61°F QUANTITY\n",
      "midday TIME\n",
      "April - October DATE\n",
      "11°C QUANTITY\n",
      "52°F QUANTITY\n",
      "the morning TIME\n",
      "32°C QUANTITY\n",
      "90°F QUANTITY\n",
      "a day DATE\n",
      "Madrid GPE\n",
      "Madrid GPE\n",
      "around 300-600€ MONEY\n",
      "Madrid GPE\n",
      "between 550€-1000€ MONEY\n",
      "Madrid GPE\n",
      "Madrid GPE\n",
      "NIE ORG\n",
      "Madrid GPE\n",
      "European NORP\n",
      "Madrid GPE\n",
      "NIE ORG\n",
      "Avenida de los Poblados S/N FAC\n",
      "hours TIME\n",
      "between 09:00- 14:00 TIME\n",
      "Monday to Friday DATE\n",
      "121 CARDINAL\n",
      "131 CARDINAL\n",
      "138 CARDINAL\n",
      "129 CARDINAL\n",
      "155 CARDINAL\n",
      "Aluche ORG\n",
      "Madrid GPE\n",
      "cita Previa PERSON\n",
      "Opening The Link In The Drop WORK_OF_ART\n",
      "Certificados EU ORG\n",
      "oficina pondrá PERSON\n",
      "su disponición GPE\n",
      "nuevas citas.\n",
      "\n",
      " PERSON\n",
      "08:00 am TIME\n",
      "Monday DATE\n",
      "morning TIME\n",
      "NIE ORG\n",
      "06:30 in the morning TIME\n",
      "NIE ORG\n",
      "Madrid GPE\n",
      "Non-European Citizens ORG\n",
      "European NORP\n",
      "Spain GPE\n",
      "NIE ORG\n",
      "Foreign Affairs ORG\n",
      "Oficina de ORG\n",
      "Spain GPE\n",
      "Spanish NORP\n",
      "Madrid GPE\n",
      "Avenida de los Poblados S FAC\n",
      "121 CARDINAL\n",
      "131 CARDINAL\n",
      "138 CARDINAL\n",
      "129 CARDINAL\n",
      "155 CARDINAL\n",
      "Madrid GPE\n",
      "Foreign Affairs ORG\n",
      "Madrid GPE\n",
      "Spain GPE\n",
      "up to 3 months DATE\n",
      "EX-15 ORG\n",
      "Spain GPE\n",
      "more than 3 months DATE\n",
      "EU ORG\n",
      "Spanish NORP\n",
      "10.60 MONEY\n",
      "Tarjeta de Residencia ORG\n",
      "Madrid GPE\n",
      "NIE ORG\n",
      "Social Security ORG\n",
      "Número de Seguridad Social ORG\n",
      "Madrid GPE\n",
      "Health ORG\n",
      "English LANGUAGE\n",
      "99% PERCENT\n",
      "Spanish NORP\n",
      "Necesito número de la seguridad PERSON\n",
      "Madrid GPE\n",
      "Localozación PERSON\n",
      "Por Provincia LOC\n",
      "Madrid GPE\n",
      "NIE ORG\n",
      "Social Security ORG\n",
      "the first working day DATE\n",
      "NIE ORG\n",
      "European Union ORG\n",
      "EU ORG\n",
      "Madrid GPE\n",
      "Madrid GPE\n",
      "EU ORG\n",
      "Madrid GPE\n",
      "13 public holidays DATE\n",
      "Madrid GPE\n",
      "the year 2019 DATE\n",
      "1 January DATE\n",
      "New Year EVENT\n",
      "7 January DATE\n",
      "18 April DATE\n",
      "Thursday DATE\n",
      "19 April DATE\n",
      "Good Friday DATE\n",
      "1 May DATE\n",
      "International Workers’ Day ORG\n",
      "2 May DATE\n",
      "the Autonomous Community of Madrid ORG\n",
      "15 May DATE\n",
      "St. Isidro GPE\n",
      "15 August DATE\n",
      "12 October DATE\n",
      "Spanish National Holiday EVENT\n",
      "1 November DATE\n",
      "’ Day DATE\n",
      "6 December DATE\n",
      "Constitution Day DATE\n",
      "9 December DATE\n",
      "Immaculate Conception Day EVENT\n",
      "25 December DATE\n",
      "Christmas DATE\n",
      "2142 CARDINAL\n",
      "500€ + MONEY\n",
      "Madrid GPE\n"
     ]
    }
   ],
   "source": [
    "#This was the first attempt\n",
    "from spacy.pipeline import EntityRuler\n",
    "\n",
    "# Load your spaCy model\n",
    "nlp = spacy.load(\"en_core_web_lg\")\n",
    "\n",
    "# Create the EntityRuler\n",
    "ruler = nlp.add_pipe(\"entity_ruler\", before=\"ner\", config={\"overwrite_ents\": True})\n",
    "\n",
    "# Example list of skills/keywords\n",
    "with open(\"DataSkills.txt\", 'r') as file:\n",
    "    skills = file.readlines()\n",
    "skills = [skill.strip() for skill in skills]\n",
    "\n",
    "# Create patterns to add to the ruler\n",
    "patterns = [{\"label\": \"SKILL\", \"pattern\": skill} for skill in skills]\n",
    "ruler.add_patterns(patterns)\n",
    "\n",
    "text = detailed_jobs_df['Description'][130]\n",
    "doc = nlp(text)\n",
    "\n",
    "# Test the updated pipeline\n",
    "for ent in doc.ents:\n",
    "    print(ent.text, ent.label_)"
   ]
  },
  {
   "cell_type": "markdown",
   "metadata": {},
   "source": [
    "Tuning the ruler with our list of skills, it yields considerable better results. Let's now apply this code to all descriptions "
   ]
  },
  {
   "cell_type": "code",
   "execution_count": 111,
   "metadata": {},
   "outputs": [],
   "source": [
    "from spacy.pipeline import EntityRuler\n",
    "#Setting the model\n",
    "nlp = spacy.load(\"en_core_web_lg\")\n",
    "ruler = nlp.add_pipe(\"entity_ruler\", before=\"ner\", config={\"overwrite_ents\": True})\n",
    "\n",
    "with open(\"DataSkills.txt\", 'r') as file:\n",
    "    skills = file.readlines()\n",
    "skills = [skill.strip() for skill in skills]\n",
    "\n",
    "patterns = [{\"label\": \"SKILL\", \"pattern\": skill} for skill in skills]\n",
    "ruler.add_patterns(patterns)\n",
    "\n",
    "#initiate function: \n",
    "def extract_keywords(description):\n",
    "    doc = nlp(description)\n",
    "    keywords = [ent.text for ent in doc.ents if ent.label_ == 'SKILL']\n",
    "    return keywords"
   ]
  },
  {
   "cell_type": "code",
   "execution_count": 112,
   "metadata": {},
   "outputs": [
    {
     "data": {
      "text/plain": [
       "0                                          [Python, SQL]\n",
       "1                                          [Python, SQL]\n",
       "2      [data science, analytics, Python, SQL, data qu...\n",
       "3      [AWS, Azure, AWS Lambda, Kubernetes, AWS, AWS,...\n",
       "4                                                     []\n",
       "                             ...                        \n",
       "293                          [analytics, Python, Python]\n",
       "294                                                   []\n",
       "295                                                   []\n",
       "296                                                 [AI]\n",
       "297    [reporting, reporting, big data, reporting, re...\n",
       "Name: keywords, Length: 298, dtype: object"
      ]
     },
     "execution_count": 112,
     "metadata": {},
     "output_type": "execute_result"
    }
   ],
   "source": [
    "# Apply the function to the 'Description' column and create a new 'keywords' column\n",
    "detailed_jobs_df['keywords'] = detailed_jobs_df['Description'].apply(extract_keywords)\n",
    "\n",
    "detailed_jobs_df['keywords']"
   ]
  },
  {
   "cell_type": "markdown",
   "metadata": {},
   "source": [
    "Here I remember that the descriptions are in different languages. So after many attempts to fix it. I decided to go the easy route and translate them before running them through the English model of spaCy. "
   ]
  },
  {
   "cell_type": "code",
   "execution_count": 126,
   "metadata": {},
   "outputs": [
    {
     "ename": "ValueError",
     "evalue": "[E966] `nlp.add_pipe` now takes the string name of the registered component factory, not a callable component. Expected string, but got <spacy.pipeline.entityruler.EntityRuler object at 0x00000231ABB50510> (name: 'None').\n\n- If you created your component with `nlp.create_pipe('name')`: remove nlp.create_pipe and call `nlp.add_pipe('name')` instead.\n\n- If you passed in a component like `TextCategorizer()`: call `nlp.add_pipe` with the string name instead, e.g. `nlp.add_pipe('textcat')`.\n\n- If you're using a custom component: Add the decorator `@Language.component` (for function components) or `@Language.factory` (for class components / factories) to your custom component and assign it a name, e.g. `@Language.component('your_name')`. You can then run `nlp.add_pipe('your_name')` to add it to the pipeline.",
     "output_type": "error",
     "traceback": [
      "\u001b[1;31m---------------------------------------------------------------------------\u001b[0m",
      "\u001b[1;31mValueError\u001b[0m                                Traceback (most recent call last)",
      "Cell \u001b[1;32mIn[126], line 37\u001b[0m\n\u001b[0;32m     34\u001b[0m skills \u001b[38;5;241m=\u001b[39m [skill\u001b[38;5;241m.\u001b[39mstrip() \u001b[38;5;28;01mfor\u001b[39;00m skill \u001b[38;5;129;01min\u001b[39;00m skills]\n\u001b[0;32m     36\u001b[0m \u001b[38;5;66;03m# Add EntityRuler to each model\u001b[39;00m\n\u001b[1;32m---> 37\u001b[0m nlp_en \u001b[38;5;241m=\u001b[39m \u001b[43mcreate_entity_ruler\u001b[49m\u001b[43m(\u001b[49m\u001b[43mnlp_en\u001b[49m\u001b[43m,\u001b[49m\u001b[43m \u001b[49m\u001b[43mskills\u001b[49m\u001b[43m)\u001b[49m\n\u001b[0;32m     38\u001b[0m nlp_es \u001b[38;5;241m=\u001b[39m create_entity_ruler(nlp_es, skills)\n\u001b[0;32m     39\u001b[0m nlp_fr \u001b[38;5;241m=\u001b[39m create_entity_ruler(nlp_fr, skills)\n",
      "Cell \u001b[1;32mIn[126], line 28\u001b[0m, in \u001b[0;36mcreate_entity_ruler\u001b[1;34m(nlp, skills)\u001b[0m\n\u001b[0;32m     26\u001b[0m patterns \u001b[38;5;241m=\u001b[39m [{\u001b[38;5;124m\"\u001b[39m\u001b[38;5;124mlabel\u001b[39m\u001b[38;5;124m\"\u001b[39m: \u001b[38;5;124m\"\u001b[39m\u001b[38;5;124mSKILL\u001b[39m\u001b[38;5;124m\"\u001b[39m, \u001b[38;5;124m\"\u001b[39m\u001b[38;5;124mpattern\u001b[39m\u001b[38;5;124m\"\u001b[39m: skill} \u001b[38;5;28;01mfor\u001b[39;00m skill \u001b[38;5;129;01min\u001b[39;00m skills]\n\u001b[0;32m     27\u001b[0m ruler\u001b[38;5;241m.\u001b[39madd_patterns(patterns)\n\u001b[1;32m---> 28\u001b[0m \u001b[43mnlp\u001b[49m\u001b[38;5;241;43m.\u001b[39;49m\u001b[43madd_pipe\u001b[49m\u001b[43m(\u001b[49m\u001b[43mruler\u001b[49m\u001b[43m,\u001b[49m\u001b[43m \u001b[49m\u001b[43mbefore\u001b[49m\u001b[38;5;241;43m=\u001b[39;49m\u001b[38;5;124;43m\"\u001b[39;49m\u001b[38;5;124;43mner\u001b[39;49m\u001b[38;5;124;43m\"\u001b[39;49m\u001b[43m)\u001b[49m\n\u001b[0;32m     29\u001b[0m \u001b[38;5;28;01mreturn\u001b[39;00m nlp\n",
      "File \u001b[1;32md:\\DATA\\Projects\\Linkedin-Jobs-Scrapping\\LJS\\Lib\\site-packages\\spacy\\language.py:807\u001b[0m, in \u001b[0;36mLanguage.add_pipe\u001b[1;34m(self, factory_name, name, before, after, first, last, source, config, raw_config, validate)\u001b[0m\n\u001b[0;32m    805\u001b[0m     bad_val \u001b[38;5;241m=\u001b[39m \u001b[38;5;28mrepr\u001b[39m(factory_name)\n\u001b[0;32m    806\u001b[0m     err \u001b[38;5;241m=\u001b[39m Errors\u001b[38;5;241m.\u001b[39mE966\u001b[38;5;241m.\u001b[39mformat(component\u001b[38;5;241m=\u001b[39mbad_val, name\u001b[38;5;241m=\u001b[39mname)\n\u001b[1;32m--> 807\u001b[0m     \u001b[38;5;28;01mraise\u001b[39;00m \u001b[38;5;167;01mValueError\u001b[39;00m(err)\n\u001b[0;32m    808\u001b[0m name \u001b[38;5;241m=\u001b[39m name \u001b[38;5;28;01mif\u001b[39;00m name \u001b[38;5;129;01mis\u001b[39;00m \u001b[38;5;129;01mnot\u001b[39;00m \u001b[38;5;28;01mNone\u001b[39;00m \u001b[38;5;28;01melse\u001b[39;00m factory_name\n\u001b[0;32m    809\u001b[0m \u001b[38;5;28;01mif\u001b[39;00m name \u001b[38;5;129;01min\u001b[39;00m \u001b[38;5;28mself\u001b[39m\u001b[38;5;241m.\u001b[39mcomponent_names:\n",
      "\u001b[1;31mValueError\u001b[0m: [E966] `nlp.add_pipe` now takes the string name of the registered component factory, not a callable component. Expected string, but got <spacy.pipeline.entityruler.EntityRuler object at 0x00000231ABB50510> (name: 'None').\n\n- If you created your component with `nlp.create_pipe('name')`: remove nlp.create_pipe and call `nlp.add_pipe('name')` instead.\n\n- If you passed in a component like `TextCategorizer()`: call `nlp.add_pipe` with the string name instead, e.g. `nlp.add_pipe('textcat')`.\n\n- If you're using a custom component: Add the decorator `@Language.component` (for function components) or `@Language.factory` (for class components / factories) to your custom component and assign it a name, e.g. `@Language.component('your_name')`. You can then run `nlp.add_pipe('your_name')` to add it to the pipeline."
     ]
    }
   ],
   "source": [
    "#Attempting to deal the multiple languages \n",
    "import spacy\n",
    "from spacy.pipeline import EntityRuler\n",
    "import pandas as pd\n",
    "\n",
    "# Load your spaCy models for different languages\n",
    "nlp_en = spacy.load(\"en_core_news_lg\")\n",
    "nlp_es = spacy.load(\"es_core_news_lg\")\n",
    "nlp_fr = spacy.load(\"fr_core_news_lg\")\n",
    "nlp_ca = spacy.load(\"ca_core_news_lg\")\n",
    "nlp_nl = spacy.load(\"nl_core_news_lg\")\n",
    "nlp_de = spacy.load(\"de_core_news_lg\")\n",
    "\n",
    "# Create the EntityRuler for each model\n",
    "def create_entity_ruler(nlp, skills):\n",
    "    ruler = EntityRuler(nlp, overwrite_ents=True)\n",
    "    patterns = [{\"label\": \"SKILL\", \"pattern\": skill} for skill in skills]\n",
    "    ruler.add_patterns(patterns)\n",
    "    nlp.add_pipe(ruler, before=\"ner\")\n",
    "    return nlp\n",
    "\n",
    "# Read the list of skills from the text file\n",
    "with open(\"DataSkills.txt\", 'r') as file:\n",
    "    skills = file.readlines()\n",
    "skills = [skill.strip() for skill in skills]\n",
    "\n",
    "# Add EntityRuler to each model\n",
    "nlp_en = create_entity_ruler(nlp_en, skills)\n",
    "nlp_es = create_entity_ruler(nlp_es, skills)\n",
    "nlp_e = create_entity_ruler(nlp_es, skills)\n"
   ]
  },
  {
   "cell_type": "code",
   "execution_count": 192,
   "metadata": {},
   "outputs": [],
   "source": [
    "#DeepL works but its word limits for the free account are too low\n",
    "# \n",
    "# import spacy\n",
    "from spacy.tokens import Doc\n",
    "from spacy.matcher import PhraseMatcher\n",
    "import deepl\n",
    "import pandas as pd\n",
    "\n",
    "# Initialize spaCy model\n",
    "nlp = spacy.load(\"en_core_web_md\")\n",
    "\n",
    "# List of key skills\n",
    "with open(\"DataSkills.txt\", 'r') as file:\n",
    "    skills = file.readlines()\n",
    "key_skills = [skill.strip() for skill in skills]\n",
    "key_skills_set = set([skill.lower() for skill in key_skills])  # Convert to set for faster lookup\n",
    "\n",
    "# Register custom extension attributes\n",
    "Doc.set_extension(\"key_skills\", default=[], force=True)\n",
    "\n",
    "# Initialize PhraseMatcher with the shared vocabulary\n",
    "matcher = PhraseMatcher(nlp.vocab)\n",
    "patterns = [nlp.make_doc(skill) for skill in key_skills]\n",
    "matcher.add(\"KEY_SKILLS\", patterns)\n",
    "\n",
    "# Define the custom component for keyword extraction\n",
    "@spacy.Language.component(\"key_skill_extractor\")\n",
    "def key_skill_extractor(doc):\n",
    "    # Extract key skills using PhraseMatcher\n",
    "    matches = matcher(doc)\n",
    "    matched_skills = [doc[start:end].text.lower() for match_id, start, end in matches]\n",
    "\n",
    "    # Deduplicate the skills\n",
    "    doc._.key_skills = list(set(matched_skills))\n",
    "    return doc\n",
    "\n",
    "# Add the custom component to the pipeline\n",
    "nlp.add_pipe(\"key_skill_extractor\", last=True)\n",
    "\n",
    "# Initialize DeepL translator\n",
    "DEEPL_API_KEY = '6966c943-0c69-40ed-a7cc-59cfd3e140f0:fx'\n",
    "translator = deepl.Translator(DEEPL_API_KEY)\n",
    "\n",
    "# Function to translate text to English if not in English\n",
    "def translate_to_english(text, lang):\n",
    "    if lang != 'en':\n",
    "        translated = translator.translate_text(text, target_lang='EN-GB')\n",
    "        return translated.text\n",
    "    return text\n",
    "\n",
    "# Modified extract_keywords function to include translation\n",
    "def extract_keywords(description, lang):\n",
    "    description_in_english = translate_to_english(description, lang)\n",
    "    doc = nlp(description_in_english)\n",
    "    return doc._.key_skills\n",
    "\n"
   ]
  },
  {
   "cell_type": "code",
   "execution_count": null,
   "metadata": {},
   "outputs": [],
   "source": [
    "# Apply the function to the 'Description' column and create a new 'keywords' column\n",
    "detailed_jobs_df['keywords'] = detailed_jobs_df.apply(lambda row: extract_keywords(row['Description'], row['language']), axis=1)\n"
   ]
  },
  {
   "cell_type": "code",
   "execution_count": 269,
   "metadata": {},
   "outputs": [],
   "source": [
    "#At the end, deep_translator was the only free and working library. It had to inconvenient of having a max 5k characters translation, but I built a simple method to Circumvent that issue. \n",
    "from deep_translator import GoogleTranslator \n",
    "\n",
    "# Initialize Google Translator\n",
    "translator = GoogleTranslator(source='auto', target='en')\n",
    "c = 1\n",
    "def translate_to_english(text, lang):\n",
    "    max_chunk_size = 4900\n",
    "    chunks = [text[i:i + max_chunk_size] for i in range(0, len(text), max_chunk_size)]\n",
    "    \n",
    "    translated_chunks = []\n",
    "    \n",
    "    \n",
    "    for chunk in chunks:\n",
    "        if len(chunk) > max_chunk_size:\n",
    "            raise ValueError(f\"Chunk length {len(chunk)} exceeds the maximum limit of {max_chunk_size} characters.\")\n",
    "        if lang != 'en':\n",
    "            translated_chunk = translator.translate(chunk)\n",
    "            print(f'Description {c} translated')\n",
    "        else:\n",
    "            translated_chunk = chunk\n",
    "            print(f'Description {c} in English')\n",
    "        translated_chunks.append(translated_chunk)\n",
    "    c += 1\n",
    "\n",
    "    # Join the translated chunks back together\n",
    "    translated_text = ''.join(translated_chunks)\n",
    "    \n",
    "    return translated_text\n",
    "\n"
   ]
  },
  {
   "cell_type": "code",
   "execution_count": null,
   "metadata": {},
   "outputs": [],
   "source": [
    "detailed_jobs_df['Description_en'] = detailed_jobs_df.apply(lambda row: translate_to_english(row['Description'], row['language']), axis=1)"
   ]
  },
  {
   "cell_type": "code",
   "execution_count": 284,
   "metadata": {},
   "outputs": [
    {
     "name": "stdout",
     "output_type": "stream",
     "text": [
      "                    Skill  Count\n",
      "0                Training    311\n",
      "1           Communication    241\n",
      "2               analytics    135\n",
      "3                   Excel    134\n",
      "4              Innovation    118\n",
      "5               reporting    112\n",
      "6              Commitment     88\n",
      "7           data analysis     83\n",
      "8           Collaboration     83\n",
      "9           Understanding     83\n",
      "10                     AI     66\n",
      "11            Flexibility     65\n",
      "12               Planning     65\n",
      "13                    SQL     60\n",
      "14                 Python     59\n",
      "15                 Vision     52\n",
      "16    Attention to Detail     51\n",
      "17               Teamwork     47\n",
      "18             automation     41\n",
      "19       machine learning     40\n",
      "20     Project Management     40\n",
      "21           data science     38\n",
      "22             Creativity     38\n",
      "23             Leadership     38\n",
      "24              Integrity     35\n",
      "25               Power BI     32\n",
      "26             Motivation     32\n",
      "27   Interpersonal Skills     28\n",
      "28             dashboards     26\n",
      "29                    AWS     23\n",
      "30        Problem Solving     23\n",
      "31           optimization     22\n",
      "32             Initiative     20\n",
      "33       Technical Skills     20\n",
      "34     data visualization     19\n",
      "35               big data     19\n",
      "36                Tableau     19\n",
      "37  business intelligence     18\n",
      "38           data quality     18\n",
      "39        Decision Making     18\n",
      "40            Reliability     18\n",
      "41       Customer Service     16\n",
      "42  Written Communication     15\n",
      "43        Time Management     14\n",
      "44             Networking     13\n",
      "45             Enthusiasm     13\n",
      "46                  Azure     12\n",
      "47         bioinformatics     12\n",
      "48      Critical Thinking     12\n",
      "49  Organizational Skills     12\n"
     ]
    }
   ],
   "source": [
    "# Obtaining the top 50 most common words in the descriptions to update the key skills list.\n",
    "# import pandas as pd\n",
    "from collections import Counter\n",
    "import re\n",
    "\n",
    "# Concatenate all job descriptions into a single string\n",
    "descriptions = detailed_jobs_df['Description_en']\n",
    "full_desc = ' '.join(descriptions)\n",
    "\n",
    "# List of key skills\n",
    "with open(\"DataSkills.txt\", 'r') as file:\n",
    "    skills = file.readlines()\n",
    "key_skills = [skill.strip() for skill in skills]\n",
    "\n",
    "# Initialize a counter for skill occurrences\n",
    "skill_counter = Counter()\n",
    "\n",
    "# Count occurrences of each skill in the descriptions\n",
    "for skill in key_skills:\n",
    "    skill_counter[skill] = len(re.findall(r'\\b' + re.escape(skill) + r'\\b', full_desc, flags=re.IGNORECASE))\n",
    "\n",
    "# Get the top 50 skills by frequency\n",
    "top_skills = skill_counter.most_common(50)\n",
    "\n",
    "# Convert to DataFrame for better visualization\n",
    "top_skills_df = pd.DataFrame(top_skills, columns=['Skill', 'Count'])\n",
    "\n",
    "# Display the DataFrame\n",
    "print(top_skills_df)"
   ]
  },
  {
   "cell_type": "code",
   "execution_count": 315,
   "metadata": {},
   "outputs": [],
   "source": [
    "def initialize_skill_matcher(skill_file_path):\n",
    "    # Load skills from the file\n",
    "    with open(skill_file_path, 'r') as file:\n",
    "        skills = file.readlines()\n",
    "\n",
    "    # Process the skills\n",
    "    key_skills = [skill.strip() for skill in skills]\n",
    "    key_skills_set = set([skill.lower() for skill in key_skills])\n",
    "\n",
    "    # Initialize spaCy model\n",
    "    nlp = spacy.load(\"en_core_web_md\")\n",
    "\n",
    "    # Register custom extension attributes\n",
    "    Doc.set_extension(\"key_skills\", default=[], force=True)\n",
    "\n",
    "    # Initialize PhraseMatcher with the shared vocabulary\n",
    "    matcher = PhraseMatcher(nlp.vocab)\n",
    "    patterns = [nlp.make_doc(skill) for skill in key_skills]\n",
    "    matcher.add(\"KEY_SKILLS\", patterns)\n",
    "\n",
    "    # Define the custom component for keyword extraction\n",
    "    @spacy.Language.component(\"key_skill_extractor\")\n",
    "    def key_skill_extractor(doc):\n",
    "        matches = matcher(doc)\n",
    "        matched_skills = [doc[start:end].text.lower() for match_id, start, end in matches]\n",
    "        doc._.key_skills = list(set(matched_skills))\n",
    "        return doc\n",
    "\n",
    "    # Add the custom component to the pipeline\n",
    "    nlp.add_pipe(\"key_skill_extractor\", last=True)\n",
    "    \n",
    "    return nlp"
   ]
  },
  {
   "cell_type": "code",
   "execution_count": 326,
   "metadata": {},
   "outputs": [],
   "source": [
    "def extract_keywords(description):\n",
    "    nlp = initialize_skill_matcher(\"DataSkills.txt\")\n",
    "    doc = nlp(description)\n",
    "    return doc._.key_skills\n"
   ]
  },
  {
   "cell_type": "code",
   "execution_count": 328,
   "metadata": {},
   "outputs": [
    {
     "data": {
      "text/plain": [
       "['analytics']"
      ]
     },
     "execution_count": 328,
     "metadata": {},
     "output_type": "execute_result"
    }
   ],
   "source": [
    "extract_keywords(detailed_jobs_df['Description'][40])"
   ]
  },
  {
   "cell_type": "code",
   "execution_count": 286,
   "metadata": {},
   "outputs": [],
   "source": [
    "#Extracting keywords\n",
    "import spacy\n",
    "from spacy.tokens import Doc\n",
    "from spacy.matcher import PhraseMatcher\n",
    "\n",
    "# Initialize spaCy model\n",
    "nlp = spacy.load(\"en_core_web_md\")\n",
    "\n",
    "# List of key skills\n",
    "with open(\"DataSkills.txt\", 'r') as file:\n",
    "    skills = file.readlines()\n",
    "key_skills = [skill.strip() for skill in skills]\n",
    "key_skills_set = set([skill.lower() for skill in key_skills])\n",
    "\n",
    "# Register custom extension attributes\n",
    "Doc.set_extension(\"key_skills\", default=[], force=True)\n",
    "\n",
    "# Initialize PhraseMatcher with the shared vocabulary\n",
    "matcher = PhraseMatcher(nlp.vocab)\n",
    "patterns = [nlp.make_doc(skill) for skill in key_skills]\n",
    "matcher.add(\"KEY_SKILLS\", patterns)\n",
    "\n",
    "# Define the custom component for keyword extraction\n",
    "@spacy.Language.component(\"key_skill_extractor\")\n",
    "def key_skill_extractor(doc):\n",
    "    matches = matcher(doc)\n",
    "    matched_skills = [doc[start:end].text.lower() for match_id, start, end in matches]\n",
    "    doc._.key_skills = list(set(matched_skills))\n",
    "    return doc\n",
    "\n",
    "# Add the custom component to the pipeline\n",
    "nlp.add_pipe(\"key_skill_extractor\", last=True)\n",
    "\n",
    "# Modified extract_keywords function to include translation\n",
    "def extract_keywords(description):\n",
    "    doc = nlp(description)\n",
    "    return doc._.key_skills\n",
    "\n"
   ]
  },
  {
   "cell_type": "code",
   "execution_count": 287,
   "metadata": {},
   "outputs": [],
   "source": [
    "detailed_jobs_df['keywords'] = detailed_jobs_df['Description_en'].apply(extract_keywords)"
   ]
  },
  {
   "cell_type": "code",
   "execution_count": 296,
   "metadata": {},
   "outputs": [],
   "source": [
    "detailed_jobs_df.to_csv('detailed_jobs_with_keywords.csv', index=False)"
   ]
  },
  {
   "cell_type": "markdown",
   "metadata": {},
   "source": [
    "### Step 6 Visualizing the most important keywords\n",
    "Now, let's show which are the most used keywords in our search and check how they differ from the most common words   "
   ]
  },
  {
   "cell_type": "code",
   "execution_count": 302,
   "metadata": {},
   "outputs": [],
   "source": [
    "#exploding the jobs dataframe\n",
    "keywords_df = detailed_jobs_df.explode('keywords').rename(columns={'keywords':'keyword'})\n",
    "\n",
    "keywords_df.to_csv('keywords_df.csv', index=False)"
   ]
  },
  {
   "cell_type": "code",
   "execution_count": 366,
   "metadata": {},
   "outputs": [
    {
     "data": {
      "image/png": "[encoded data removed]",
      "text/plain": [
       "<Figure size 1000x500 with 1 Axes>"
      ]
     },
     "metadata": {},
     "output_type": "display_data"
    }
   ],
   "source": [
    "import pandas as pd\n",
    "from collections import Counter\n",
    "from wordcloud import WordCloud\n",
    "import matplotlib.pyplot as plt\n",
    "from matplotlib.colors import LinearSegmentedColormap\n",
    "\n",
    "keywords_df['keyword'] = keywords_df['keyword'].astype(str)\n",
    "flat_df = keywords_df.dropna(subset=['keyword'])\n",
    "\n",
    "keyword_counts = Counter(keywords_df['keyword'])\n",
    "# Ensure all keywords are strings and drop NaN values\n",
    "\n",
    "cmap = LinearSegmentedColormap.from_list(\"mycmap\", [\"#FF5733\", \"#ffbe32\", \"#ff3273\"])\n",
    "\n",
    "wordcloud = WordCloud(width=800, height=400, background_color='white', colormap=cmap).generate_from_frequencies(keyword_counts)\n",
    "# Plot the word cloud\n",
    "plt.figure(figsize=(10, 5))\n",
    "plt.imshow(wordcloud, interpolation='bilinear')\n",
    "plt.axis('off')\n",
    "plt.show()\n",
    "\n",
    "# # Print the most recurrent keywords\n",
    "# most_recurrent_keywords = keyword_counts.most_common()\n",
    "# print(\"\\nMost Recurrent Keywords:\")\n",
    "# for keyword, count in most_recurrent_keywords:\n",
    "#     print(f\"{keyword}: {count}\")"
   ]
  },
  {
   "cell_type": "code",
   "execution_count": 304,
   "metadata": {},
   "outputs": [
    {
     "data": {
      "text/plain": [
       "Counter({'excel': 115,\n",
       "         'reporting': 59,\n",
       "         'analytics': 50,\n",
       "         'data analysis': 49,\n",
       "         'sql': 47,\n",
       "         'python': 43,\n",
       "         'training': 41,\n",
       "         'automation': 33,\n",
       "         'communication': 32,\n",
       "         'ai': 27,\n",
       "         'dashboards': 22,\n",
       "         'power bi': 21,\n",
       "         'machine learning': 20,\n",
       "         'optimization': 14,\n",
       "         'planning': 14,\n",
       "         'collaboration': 13,\n",
       "         'understanding': 13,\n",
       "         'innovation': 12,\n",
       "         'vision': 11,\n",
       "         'tableau': 11,\n",
       "         'data science': 10,\n",
       "         'data quality': 10,\n",
       "         'data visualization': 10,\n",
       "         'aws': 10,\n",
       "         'etl': 10,\n",
       "         'leadership': 10,\n",
       "         'azure': 9,\n",
       "         'deep learning': 8,\n",
       "         'flexibility': 8,\n",
       "         'big data': 7,\n",
       "         'commitment': 7,\n",
       "         'teamwork': 7,\n",
       "         'adaptability': 7,\n",
       "         'technical skills': 6,\n",
       "         'data extraction': 5,\n",
       "         'project management': 5,\n",
       "         'attention to detail': 5,\n",
       "         'motivation': 5,\n",
       "         'reliability': 5,\n",
       "         'data pipelines': 4,\n",
       "         'data engineering': 4,\n",
       "         'computer vision': 4,\n",
       "         'gdpr': 4,\n",
       "         'cloud computing': 4,\n",
       "         'git': 4,\n",
       "         'bioinformatics': 3,\n",
       "         'data governance': 3,\n",
       "         'apis': 3,\n",
       "         'business intelligence': 3,\n",
       "         'database management': 3,\n",
       "         'database design': 3,\n",
       "         'data mining': 3,\n",
       "         'networking': 3,\n",
       "         'data integration': 3,\n",
       "         'agile methodologies': 2,\n",
       "         'ci/cd': 2,\n",
       "         'nosql': 2,\n",
       "         'tensorflow': 2,\n",
       "         'kanban': 2,\n",
       "         'scrum': 2,\n",
       "         'predictive modeling': 2,\n",
       "         'operations research': 2,\n",
       "         'quantitative research': 2,\n",
       "         'nlp': 2,\n",
       "         'r programming': 2,\n",
       "         'data architecture': 2,\n",
       "         'mentoring': 2,\n",
       "         'agility': 2,\n",
       "         'data security': 2,\n",
       "         'analytical thinking': 2,\n",
       "         'data cleaning': 2,\n",
       "         'matlab': 2,\n",
       "         'customer service': 2,\n",
       "         'statistical analysis': 2,\n",
       "         'version control': 2,\n",
       "         'resilience': 2,\n",
       "         'relationship management': 2,\n",
       "         'multitasking': 2,\n",
       "         'creativity': 2,\n",
       "         'enthusiasm': 2,\n",
       "         'emotional intelligence': 1,\n",
       "         'hypothesis testing': 1,\n",
       "         'aws lambda': 1,\n",
       "         'pytorch': 1,\n",
       "         'keras': 1,\n",
       "         'kubernetes': 1,\n",
       "         nan: 1,\n",
       "         'initiative': 1,\n",
       "         'mongodb': 1,\n",
       "         'cassandra': 1,\n",
       "         'organizational skills': 1,\n",
       "         'integrity': 1,\n",
       "         nan: 1,\n",
       "         nan: 1,\n",
       "         'assertiveness': 1,\n",
       "         nan: 1,\n",
       "         nan: 1,\n",
       "         nan: 1,\n",
       "         nan: 1,\n",
       "         nan: 1,\n",
       "         nan: 1,\n",
       "         nan: 1,\n",
       "         nan: 1,\n",
       "         'empathy': 1,\n",
       "         nan: 1,\n",
       "         'docker': 1,\n",
       "         'data synchronization': 1,\n",
       "         nan: 1,\n",
       "         'versatility': 1,\n",
       "         'sas': 1,\n",
       "         'client management': 1,\n",
       "         nan: 1,\n",
       "         'interpersonal skills': 1,\n",
       "         'data compliance': 1,\n",
       "         'business acumen': 1,\n",
       "         'coaching': 1,\n",
       "         nan: 1,\n",
       "         nan: 1,\n",
       "         nan: 1,\n",
       "         'disaster recovery': 1,\n",
       "         nan: 1,\n",
       "         nan: 1,\n",
       "         nan: 1,\n",
       "         nan: 1,\n",
       "         nan: 1,\n",
       "         nan: 1,\n",
       "         nan: 1,\n",
       "         'cybersecurity': 1,\n",
       "         nan: 1,\n",
       "         nan: 1,\n",
       "         nan: 1,\n",
       "         'risk management': 1,\n",
       "         'spark': 1,\n",
       "         nan: 1,\n",
       "         nan: 1,\n",
       "         'spss': 1,\n",
       "         nan: 1,\n",
       "         'negotiation': 1,\n",
       "         'influencing': 1})"
      ]
     },
     "execution_count": 304,
     "metadata": {},
     "output_type": "execute_result"
    }
   ],
   "source": [
    "keyword_counts"
   ]
  },
  {
   "cell_type": "code",
   "execution_count": 330,
   "metadata": {},
   "outputs": [],
   "source": [
    "test20 = detailed_jobs_df.head(20)\n",
    "test20 = test20.drop(columns='keywords')"
   ]
  },
  {
   "cell_type": "markdown",
   "metadata": {},
   "source": [
    "### Next steps: Building a web app with flask \n",
    "This notebook has helped understanding the basics of web scrapping. It was so much fun and, I believe, a helpful product. This is why I am going to build a web app to hold this code. So everyone in the data world can check the main key skills companies are looking for. \n",
    "\n",
    "So, keep an eye on my portfolio! "
   ]
  }
 ],
 "metadata": {
  "kernelspec": {
   "display_name": "LJS",
   "language": "python",
   "name": "python3"
  },
  "language_info": {
   "codemirror_mode": {
    "name": "ipython",
    "version": 3
   },
   "file_extension": ".py",
   "mimetype": "text/x-python",
   "name": "python",
   "nbconvert_exporter": "python",
   "pygments_lexer": "ipython3",
   "version": "3.11.9"
  }
 },
 "nbformat": 4,
 "nbformat_minor": 2
}
